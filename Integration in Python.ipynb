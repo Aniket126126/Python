{
  "nbformat": 4,
  "nbformat_minor": 0,
  "metadata": {
    "colab": {
      "provenance": [],
      "authorship_tag": "ABX9TyP+2aS6jKyksejLamVoepki",
      "include_colab_link": true
    },
    "kernelspec": {
      "name": "python3",
      "display_name": "Python 3"
    },
    "language_info": {
      "name": "python"
    }
  },
  "cells": [
    {
      "cell_type": "markdown",
      "metadata": {
        "id": "view-in-github",
        "colab_type": "text"
      },
      "source": [
        "<a href=\"https://colab.research.google.com/github/LeMeASh/Python/blob/main/Integration%20in%20Python.ipynb\" target=\"_parent\"><img src=\"https://colab.research.google.com/assets/colab-badge.svg\" alt=\"Open In Colab\"/></a>"
      ]
    },
    {
      "cell_type": "code",
      "execution_count": 30,
      "metadata": {
        "id": "6LudrvDthTTn"
      },
      "outputs": [],
      "source": [
        "import numpy as np\n",
        "import scipy as sp\n",
        "import sympy as smp\n",
        "import matplotlib.pyplot as plt\n",
        "from scipy.integrate import quad\n",
        "from scipy.integrate import cumulative_trapezoid"
      ]
    },
    {
      "cell_type": "markdown",
      "source": [
        "\n",
        "Part 1: \"Solvable\" Integrals\n"
      ],
      "metadata": {
        "id": "B6MJ-5q9hqOX"
      }
    },
    {
      "cell_type": "code",
      "source": [
        "x = smp.symbols('x', real=True)\n",
        "f = smp.sin(x)**3 * smp.exp(-5*x)"
      ],
      "metadata": {
        "id": "EmzFXF6ihrpm"
      },
      "execution_count": 31,
      "outputs": []
    },
    {
      "cell_type": "code",
      "source": [
        "x"
      ],
      "metadata": {
        "colab": {
          "base_uri": "https://localhost:8080/",
          "height": 39
        },
        "id": "-MZxNdRfhxcy",
        "outputId": "61a9bed8-6d07-4639-e967-f4e14ef72f91"
      },
      "execution_count": 32,
      "outputs": [
        {
          "output_type": "execute_result",
          "data": {
            "text/plain": [
              "x"
            ],
            "text/latex": "$\\displaystyle x$"
          },
          "metadata": {},
          "execution_count": 32
        }
      ]
    },
    {
      "cell_type": "code",
      "source": [
        "f"
      ],
      "metadata": {
        "colab": {
          "base_uri": "https://localhost:8080/",
          "height": 39
        },
        "id": "XvuIbm_JiDP1",
        "outputId": "13e39268-6b5f-4bcc-f475-322769d132c8"
      },
      "execution_count": 33,
      "outputs": [
        {
          "output_type": "execute_result",
          "data": {
            "text/plain": [
              "exp(-5*x)*sin(x)**3"
            ],
            "text/latex": "$\\displaystyle e^{- 5 x} \\sin^{3}{\\left(x \\right)}$"
          },
          "metadata": {},
          "execution_count": 33
        }
      ]
    },
    {
      "cell_type": "code",
      "source": [
        "smp.integrate(f, x)"
      ],
      "metadata": {
        "colab": {
          "base_uri": "https://localhost:8080/",
          "height": 55
        },
        "id": "Ely3Gq9LiFnq",
        "outputId": "09c25203-615b-4887-8463-6cbc6189db86"
      },
      "execution_count": 34,
      "outputs": [
        {
          "output_type": "execute_result",
          "data": {
            "text/plain": [
              "-40*exp(-5*x)*sin(x)**3/221 - 21*exp(-5*x)*sin(x)**2*cos(x)/221 - 15*exp(-5*x)*sin(x)*cos(x)**2/442 - 3*exp(-5*x)*cos(x)**3/442"
            ],
            "text/latex": "$\\displaystyle - \\frac{40 e^{- 5 x} \\sin^{3}{\\left(x \\right)}}{221} - \\frac{21 e^{- 5 x} \\sin^{2}{\\left(x \\right)} \\cos{\\left(x \\right)}}{221} - \\frac{15 e^{- 5 x} \\sin{\\left(x \\right)} \\cos^{2}{\\left(x \\right)}}{442} - \\frac{3 e^{- 5 x} \\cos^{3}{\\left(x \\right)}}{442}$"
          },
          "metadata": {},
          "execution_count": 34
        }
      ]
    },
    {
      "cell_type": "markdown",
      "source": [
        "Example 2"
      ],
      "metadata": {
        "id": "a7QVPUbNii8m"
      }
    },
    {
      "cell_type": "code",
      "source": [
        "a, b = smp.symbols('a b', real=True, positive=True)\n",
        "f = smp.cos(b*x)* smp.exp(-a*x)"
      ],
      "metadata": {
        "id": "iPeAqtrEikvI"
      },
      "execution_count": 35,
      "outputs": []
    },
    {
      "cell_type": "code",
      "source": [
        "f"
      ],
      "metadata": {
        "colab": {
          "base_uri": "https://localhost:8080/",
          "height": 39
        },
        "id": "-a8koNzMiqxu",
        "outputId": "51670bc7-7ead-4e13-b252-a8e912fa8c53"
      },
      "execution_count": 36,
      "outputs": [
        {
          "output_type": "execute_result",
          "data": {
            "text/plain": [
              "exp(-a*x)*cos(b*x)"
            ],
            "text/latex": "$\\displaystyle e^{- a x} \\cos{\\left(b x \\right)}$"
          },
          "metadata": {},
          "execution_count": 36
        }
      ]
    },
    {
      "cell_type": "code",
      "source": [
        "smp.integrate(f, x)"
      ],
      "metadata": {
        "colab": {
          "base_uri": "https://localhost:8080/",
          "height": 54
        },
        "id": "5Q_vGBlQireB",
        "outputId": "74e9bee3-b4bb-456e-90f4-39c8a7a3ef7c"
      },
      "execution_count": 37,
      "outputs": [
        {
          "output_type": "execute_result",
          "data": {
            "text/plain": [
              "-a*cos(b*x)/(a**2*exp(a*x) + b**2*exp(a*x)) + b*sin(b*x)/(a**2*exp(a*x) + b**2*exp(a*x))"
            ],
            "text/latex": "$\\displaystyle - \\frac{a \\cos{\\left(b x \\right)}}{a^{2} e^{a x} + b^{2} e^{a x}} + \\frac{b \\sin{\\left(b x \\right)}}{a^{2} e^{a x} + b^{2} e^{a x}}$"
          },
          "metadata": {},
          "execution_count": 37
        }
      ]
    },
    {
      "cell_type": "code",
      "source": [
        "smp.integrate(f, x).simplify()"
      ],
      "metadata": {
        "colab": {
          "base_uri": "https://localhost:8080/",
          "height": 55
        },
        "id": "oVTSjRefiyDR",
        "outputId": "3d475bf1-643f-48e2-96de-37669b3e4e59"
      },
      "execution_count": 38,
      "outputs": [
        {
          "output_type": "execute_result",
          "data": {
            "text/plain": [
              "(-a*cos(b*x) + b*sin(b*x))*exp(-a*x)/(a**2 + b**2)"
            ],
            "text/latex": "$\\displaystyle \\frac{\\left(- a \\cos{\\left(b x \\right)} + b \\sin{\\left(b x \\right)}\\right) e^{- a x}}{a^{2} + b^{2}}$"
          },
          "metadata": {},
          "execution_count": 38
        }
      ]
    },
    {
      "cell_type": "markdown",
      "source": [
        "Example 3"
      ],
      "metadata": {
        "id": "OJAN7n5YjB0F"
      }
    },
    {
      "cell_type": "code",
      "source": [
        "f = (1+smp.sqrt(x))**smp.Rational(1,3) / smp.sqrt(x)"
      ],
      "metadata": {
        "id": "aDHMS8s6jDfN"
      },
      "execution_count": 39,
      "outputs": []
    },
    {
      "cell_type": "code",
      "source": [
        "f"
      ],
      "metadata": {
        "colab": {
          "base_uri": "https://localhost:8080/",
          "height": 61
        },
        "id": "ytuQ_gKXjaXj",
        "outputId": "2e39f07d-cd09-45de-d0cd-bd30f83412ea"
      },
      "execution_count": 40,
      "outputs": [
        {
          "output_type": "execute_result",
          "data": {
            "text/plain": [
              "(sqrt(x) + 1)**(1/3)/sqrt(x)"
            ],
            "text/latex": "$\\displaystyle \\frac{\\sqrt[3]{\\sqrt{x} + 1}}{\\sqrt{x}}$"
          },
          "metadata": {},
          "execution_count": 40
        }
      ]
    },
    {
      "cell_type": "code",
      "source": [
        "smp.integrate(f, x).simplify()"
      ],
      "metadata": {
        "colab": {
          "base_uri": "https://localhost:8080/",
          "height": 59
        },
        "id": "WunMV7u0kHgn",
        "outputId": "c8973172-17d2-4025-be7a-cc66589bddee"
      },
      "execution_count": 41,
      "outputs": [
        {
          "output_type": "execute_result",
          "data": {
            "text/plain": [
              "3*(sqrt(x) + 1)**(4/3)/2"
            ],
            "text/latex": "$\\displaystyle \\frac{3 \\left(\\sqrt{x} + 1\\right)^{\\frac{4}{3}}}{2}$"
          },
          "metadata": {},
          "execution_count": 41
        }
      ]
    },
    {
      "cell_type": "markdown",
      "source": [
        "Example 4"
      ],
      "metadata": {
        "id": "iwnzCW0Zkd07"
      }
    },
    {
      "cell_type": "code",
      "source": [
        "f = smp.exp(x) / smp.sqrt(smp.exp(2*x) + 9)"
      ],
      "metadata": {
        "id": "dsdyF_05kfbp"
      },
      "execution_count": 42,
      "outputs": []
    },
    {
      "cell_type": "code",
      "source": [
        "f"
      ],
      "metadata": {
        "colab": {
          "base_uri": "https://localhost:8080/",
          "height": 55
        },
        "id": "oBIalM_1kwTn",
        "outputId": "7c3c2eea-3b25-497c-cd8a-7a343fde4892"
      },
      "execution_count": 43,
      "outputs": [
        {
          "output_type": "execute_result",
          "data": {
            "text/plain": [
              "exp(x)/sqrt(exp(2*x) + 9)"
            ],
            "text/latex": "$\\displaystyle \\frac{e^{x}}{\\sqrt{e^{2 x} + 9}}$"
          },
          "metadata": {},
          "execution_count": 43
        }
      ]
    },
    {
      "cell_type": "code",
      "source": [
        "smp.integrate(f, (x, 0, smp.log(4)))"
      ],
      "metadata": {
        "colab": {
          "base_uri": "https://localhost:8080/",
          "height": 58
        },
        "id": "b8ty78_Dks8X",
        "outputId": "27b6a654-e192-4b08-8889-214cdc4c4fc8"
      },
      "execution_count": 44,
      "outputs": [
        {
          "output_type": "execute_result",
          "data": {
            "text/plain": [
              "-asinh(1/3) + asinh(4/3)"
            ],
            "text/latex": "$\\displaystyle - \\operatorname{asinh}{\\left(\\frac{1}{3} \\right)} + \\operatorname{asinh}{\\left(\\frac{4}{3} \\right)}$"
          },
          "metadata": {},
          "execution_count": 44
        }
      ]
    },
    {
      "cell_type": "code",
      "source": [
        "smp.integrate(f, (x, 0, smp.log(4))).evalf()"
      ],
      "metadata": {
        "colab": {
          "base_uri": "https://localhost:8080/",
          "height": 37
        },
        "id": "7eueuRw8k1C8",
        "outputId": "b8fcd0aa-fb1d-48a3-fbd1-2b358e6ff09e"
      },
      "execution_count": 45,
      "outputs": [
        {
          "output_type": "execute_result",
          "data": {
            "text/plain": [
              "0.771162138430851"
            ],
            "text/latex": "$\\displaystyle 0.771162138430851$"
          },
          "metadata": {},
          "execution_count": 45
        }
      ]
    },
    {
      "cell_type": "markdown",
      "source": [
        "Example 5"
      ],
      "metadata": {
        "id": "ZJeeJiANlUv3"
      }
    },
    {
      "cell_type": "code",
      "source": [
        "f = 16*smp.atan(x) / (1+x**2)"
      ],
      "metadata": {
        "id": "1JD1RCQzlgGY"
      },
      "execution_count": 46,
      "outputs": []
    },
    {
      "cell_type": "code",
      "source": [
        "f"
      ],
      "metadata": {
        "colab": {
          "base_uri": "https://localhost:8080/",
          "height": 54
        },
        "id": "Wwf23mr1ljka",
        "outputId": "ac8af543-b0fe-46eb-afd0-f35378a082f8"
      },
      "execution_count": 47,
      "outputs": [
        {
          "output_type": "execute_result",
          "data": {
            "text/plain": [
              "16*atan(x)/(x**2 + 1)"
            ],
            "text/latex": "$\\displaystyle \\frac{16 \\operatorname{atan}{\\left(x \\right)}}{x^{2} + 1}$"
          },
          "metadata": {},
          "execution_count": 47
        }
      ]
    },
    {
      "cell_type": "code",
      "source": [
        "smp.integrate(f, (x, 0, smp.oo))"
      ],
      "metadata": {
        "colab": {
          "base_uri": "https://localhost:8080/",
          "height": 39
        },
        "id": "J59L-0eMlkif",
        "outputId": "df90ef6e-faab-471d-8ac2-14f4bc287649"
      },
      "execution_count": 48,
      "outputs": [
        {
          "output_type": "execute_result",
          "data": {
            "text/plain": [
              "2*pi**2"
            ],
            "text/latex": "$\\displaystyle 2 \\pi^{2}$"
          },
          "metadata": {},
          "execution_count": 48
        }
      ]
    },
    {
      "cell_type": "markdown",
      "source": [
        "**Part 2: \"Unsolvable\" Integrals**"
      ],
      "metadata": {
        "id": "ysXR6C6EmHEg"
      }
    },
    {
      "cell_type": "markdown",
      "source": [
        "Won't run"
      ],
      "metadata": {
        "id": "RgvAdZuEmOdg"
      }
    },
    {
      "cell_type": "code",
      "source": [
        "f = smp.exp(-smp.sin(x))\n",
        "f"
      ],
      "metadata": {
        "colab": {
          "base_uri": "https://localhost:8080/",
          "height": 39
        },
        "id": "ZjJgSlWLmLN0",
        "outputId": "dc742f42-222b-4f2e-83c6-62da569f01f1"
      },
      "execution_count": 49,
      "outputs": [
        {
          "output_type": "execute_result",
          "data": {
            "text/plain": [
              "exp(-sin(x))"
            ],
            "text/latex": "$\\displaystyle e^{- \\sin{\\left(x \\right)}}$"
          },
          "metadata": {},
          "execution_count": 49
        }
      ]
    },
    {
      "cell_type": "code",
      "source": [
        "smp.integrate(f, (x, 1, 2)).simplify()"
      ],
      "metadata": {
        "colab": {
          "base_uri": "https://localhost:8080/",
          "height": 80
        },
        "id": "-6WtQvMUo_3L",
        "outputId": "c5ab7418-c1f7-4cab-efe8-b72124ba78a2"
      },
      "execution_count": 50,
      "outputs": [
        {
          "output_type": "execute_result",
          "data": {
            "text/plain": [
              "Integral(exp(-sin(x)), (x, 1, 2))"
            ],
            "text/latex": "$\\displaystyle \\int\\limits_{1}^{2} e^{- \\sin{\\left(x \\right)}}\\, dx$"
          },
          "metadata": {},
          "execution_count": 50
        }
      ]
    },
    {
      "cell_type": "markdown",
      "source": [
        "So we use scipy's quad function to integrate numerically"
      ],
      "metadata": {
        "id": "UEIXTxc0pWzN"
      }
    },
    {
      "cell_type": "code",
      "source": [
        "f = lambda x: np.exp(-np.sin(x))"
      ],
      "metadata": {
        "id": "kssvfiZUpXXS"
      },
      "execution_count": 51,
      "outputs": []
    },
    {
      "cell_type": "code",
      "source": [
        "f"
      ],
      "metadata": {
        "colab": {
          "base_uri": "https://localhost:8080/"
        },
        "id": "HkjLUpUOpeNW",
        "outputId": "ded959f7-5c68-4717-f505-8a772a7d1f03"
      },
      "execution_count": 52,
      "outputs": [
        {
          "output_type": "execute_result",
          "data": {
            "text/plain": [
              "<function __main__.<lambda>(x)>"
            ]
          },
          "metadata": {},
          "execution_count": 52
        }
      ]
    },
    {
      "cell_type": "code",
      "source": [
        "quad(f, 1, 2)"
      ],
      "metadata": {
        "colab": {
          "base_uri": "https://localhost:8080/"
        },
        "id": "hm8Lp_GQpfWK",
        "outputId": "167701e7-1679-4d8a-91e1-89d1311c2e72"
      },
      "execution_count": 53,
      "outputs": [
        {
          "output_type": "execute_result",
          "data": {
            "text/plain": [
              "(0.3845918142796868, 4.2698268729567035e-15)"
            ]
          },
          "metadata": {},
          "execution_count": 53
        }
      ]
    },
    {
      "cell_type": "markdown",
      "source": [
        "Example 7"
      ],
      "metadata": {
        "id": "ASoTQvtJGVcJ"
      }
    },
    {
      "cell_type": "code",
      "source": [
        "\n",
        "f = 1/((a-smp.cos(x))**2 + (b-smp.sin(x))**2)\n",
        "#smp.integrate(f, (x, 0, 2*smp.pi)).simplify()"
      ],
      "metadata": {
        "id": "sGEs_5U0GE2-"
      },
      "execution_count": 54,
      "outputs": []
    },
    {
      "cell_type": "code",
      "source": [
        "f"
      ],
      "metadata": {
        "colab": {
          "base_uri": "https://localhost:8080/",
          "height": 58
        },
        "id": "kNvQ1yMBGMOn",
        "outputId": "745fc99c-5837-4119-f945-a0bfd8f5f413"
      },
      "execution_count": 55,
      "outputs": [
        {
          "output_type": "execute_result",
          "data": {
            "text/plain": [
              "1/((a - cos(x))**2 + (b - sin(x))**2)"
            ],
            "text/latex": "$\\displaystyle \\frac{1}{\\left(a - \\cos{\\left(x \\right)}\\right)^{2} + \\left(b - \\sin{\\left(x \\right)}\\right)^{2}}$"
          },
          "metadata": {},
          "execution_count": 55
        }
      ]
    },
    {
      "cell_type": "markdown",
      "source": [
        "This won't run as this does not have an analytical solution. We must solve it numerically, and thus we need choose values of a and b each time"
      ],
      "metadata": {
        "id": "YygxqSdZGhZl"
      }
    },
    {
      "cell_type": "code",
      "source": [
        "f = lambda x: 1/((a-np.cos(x))**2 + (b-np.sin(x))**2)\n",
        "a, b = 2, 3\n",
        "quad(f, 0, 2*np.pi)"
      ],
      "metadata": {
        "colab": {
          "base_uri": "https://localhost:8080/"
        },
        "id": "XdRN0VowGMoE",
        "outputId": "0102b4c5-ce88-49c9-e114-0336da8f6c71"
      },
      "execution_count": 56,
      "outputs": [
        {
          "output_type": "execute_result",
          "data": {
            "text/plain": [
              "(0.5235987755982989, 1.9168823883823662e-13)"
            ]
          },
          "metadata": {},
          "execution_count": 56
        }
      ]
    },
    {
      "cell_type": "markdown",
      "source": [
        "\n",
        "\n",
        "We can solve this for many different values of a\n",
        "and b quickly as follows:"
      ],
      "metadata": {
        "id": "Lh7G98UzGx_J"
      }
    },
    {
      "cell_type": "code",
      "source": [
        "def f(x, a, b):\n",
        "    return 1/((a-np.cos(x))**2 + (b-np.sin(x))**2)"
      ],
      "metadata": {
        "id": "siT9yVALG0Wh"
      },
      "execution_count": 57,
      "outputs": []
    },
    {
      "cell_type": "code",
      "source": [
        "a_array = np.arange(2,10,1)\n",
        "b_array = np.arange(2,10,1)\n",
        "integrals = [[a, b, quad(f, 0, 2*np.pi, args=(a,b))[0]] for a in a_array for b in b_array]"
      ],
      "metadata": {
        "id": "DY1aG6IBG5CF"
      },
      "execution_count": 58,
      "outputs": []
    },
    {
      "cell_type": "code",
      "source": [
        "integrals"
      ],
      "metadata": {
        "colab": {
          "base_uri": "https://localhost:8080/"
        },
        "id": "yCn_vyJOHEvy",
        "outputId": "4ddc902c-c006-4242-c86f-8a5a30427fc8"
      },
      "execution_count": 59,
      "outputs": [
        {
          "output_type": "execute_result",
          "data": {
            "text/plain": [
              "[[2, 2, 0.8975979010256552],\n",
              " [2, 3, 0.5235987755982989],\n",
              " [2, 4, 0.3306939635357684],\n",
              " [2, 5, 0.22439947525641385],\n",
              " [2, 6, 0.16110731556870733],\n",
              " [2, 7, 0.1208304866765305],\n",
              " [2, 8, 0.09377888518178487],\n",
              " [2, 9, 0.07479982508547126],\n",
              " [3, 2, 0.5235987755982988],\n",
              " [3, 3, 0.36959913571644665],\n",
              " [3, 4, 0.26179938779914935],\n",
              " [3, 5, 0.19039955476301776],\n",
              " [3, 6, 0.14279966607226333],\n",
              " [3, 7, 0.11023132117858925],\n",
              " [3, 8, 0.08726646259971647],\n",
              " [3, 9, 0.07059758772111896],\n",
              " [4, 2, 0.33069396353576763],\n",
              " [4, 3, 0.26179938779914946],\n",
              " [4, 4, 0.2026833970057931],\n",
              " [4, 5, 0.15707963267948966],\n",
              " [4, 6, 0.1231997119054821],\n",
              " [4, 7, 0.09817477042468103],\n",
              " [4, 8, 0.07953399123010797],\n",
              " [4, 9, 0.06544984694977965],\n",
              " [5, 2, 0.2243994752564138],\n",
              " [5, 3, 0.19039955476301776],\n",
              " [5, 4, 0.15707963267948966],\n",
              " [5, 5, 0.12822827157509362],\n",
              " [5, 6, 0.10471975511965978],\n",
              " [5, 7, 0.08607103160519981],\n",
              " [5, 8, 0.07139983303613168],\n",
              " [5, 9, 0.05983986006837441],\n",
              " [6, 2, 0.16110731556870733],\n",
              " [6, 3, 0.1427996660722633],\n",
              " [6, 4, 0.1231997119054821],\n",
              " [6, 5, 0.10471975511965978],\n",
              " [6, 6, 0.08849556770675474],\n",
              " [6, 7, 0.07479982508547126],\n",
              " [6, 8, 0.06346651825433926],\n",
              " [6, 9, 0.05416539057913403],\n",
              " [7, 2, 0.12083048667653049],\n",
              " [7, 3, 0.11023132117858922],\n",
              " [7, 4, 0.09817477042467314],\n",
              " [7, 5, 0.08607103160519707],\n",
              " [7, 6, 0.07479982508547127],\n",
              " [7, 7, 0.06477510625958338],\n",
              " [7, 8, 0.05609986881410472],\n",
              " [7, 9, 0.04870686284635363],\n",
              " [8, 2, 0.09377888518178562],\n",
              " [8, 3, 0.0872664625997153],\n",
              " [8, 4, 0.07953399123011913],\n",
              " [8, 5, 0.07139983303613058],\n",
              " [8, 6, 0.06346651825433966],\n",
              " [8, 7, 0.05609986881410436],\n",
              " [8, 8, 0.04947390005653283],\n",
              " [8, 9, 0.04363323129985851],\n",
              " [9, 2, 0.07479982508547135],\n",
              " [9, 3, 0.07059758772111849],\n",
              " [9, 4, 0.06544984694978664],\n",
              " [9, 5, 0.059839860068376605],\n",
              " [9, 6, 0.05416539057913443],\n",
              " [9, 7, 0.0487068628463537],\n",
              " [9, 8, 0.04363323129985854],\n",
              " [9, 9, 0.03902599569676779]]"
            ]
          },
          "metadata": {},
          "execution_count": 59
        }
      ]
    },
    {
      "cell_type": "code",
      "source": [],
      "metadata": {
        "id": "2P4817WVHFyt"
      },
      "execution_count": null,
      "outputs": []
    }
  ]
}