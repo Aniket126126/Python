{
  "cells": [
    {
      "cell_type": "markdown",
      "metadata": {
        "id": "view-in-github",
        "colab_type": "text"
      },
      "source": [
        "<a href=\"https://colab.research.google.com/github/LeMeASh/Python/blob/main/PythonFirst.ipynb\" target=\"_parent\"><img src=\"https://colab.research.google.com/assets/colab-badge.svg\" alt=\"Open In Colab\"/></a>"
      ]
    },
    {
      "cell_type": "markdown",
      "id": "fa2028b1",
      "metadata": {
        "id": "fa2028b1"
      },
      "source": [
        "For auto completion and information, use Tab or shift+tab "
      ]
    },
    {
      "cell_type": "code",
      "execution_count": null,
      "id": "c15fd29b",
      "metadata": {
        "id": "c15fd29b"
      },
      "outputs": [],
      "source": [
        "class student :\n",
        "    college= \"RIT\"\n",
        "    def __init__(self, fname, lname, age):\n",
        "        self.fname=fname\n",
        "        self.lname=lname\n",
        "        self.age=age\n",
        "    def percentage(self,sub1,sub2,sub3):\n",
        "        total=sub1+sub2+sub3;\n",
        "        print(total/3)\n",
        "        \n",
        "class inherit(student):\n",
        "    pass\n",
        "\n",
        "    "
      ]
    },
    {
      "cell_type": "code",
      "execution_count": null,
      "id": "b6a31e35",
      "metadata": {
        "id": "b6a31e35"
      },
      "outputs": [],
      "source": [
        "st1 = student(\"ash\",\"king\",17)\n"
      ]
    },
    {
      "cell_type": "code",
      "execution_count": null,
      "id": "39c864fc",
      "metadata": {
        "id": "39c864fc",
        "outputId": "87d5caf4-05b6-4054-d585-a16f3455be4d"
      },
      "outputs": [
        {
          "name": "stdout",
          "output_type": "stream",
          "text": [
            "ash is 17 years old\n"
          ]
        }
      ],
      "source": [
        "print(f\"{st1.fname} is {st1.age} years old\")"
      ]
    },
    {
      "cell_type": "code",
      "execution_count": null,
      "id": "d566c5cf",
      "metadata": {
        "id": "d566c5cf",
        "outputId": "aded09be-b507-4966-a0d4-8540738bd247"
      },
      "outputs": [
        {
          "name": "stdout",
          "output_type": "stream",
          "text": [
            "92.0\n"
          ]
        }
      ],
      "source": [
        "st1.percentage(96, 92, 88)"
      ]
    },
    {
      "cell_type": "code",
      "execution_count": null,
      "id": "c24d88cc",
      "metadata": {
        "id": "c24d88cc"
      },
      "outputs": [],
      "source": [
        "st2 = inherit(\"loki\",\"thor\", 99)"
      ]
    },
    {
      "cell_type": "code",
      "execution_count": null,
      "id": "2a4bbcd4",
      "metadata": {
        "id": "2a4bbcd4",
        "outputId": "eaea4d07-f85f-401d-b828-b21d15414580"
      },
      "outputs": [
        {
          "name": "stdout",
          "output_type": "stream",
          "text": [
            "loki is 99 years old\n"
          ]
        }
      ],
      "source": [
        "print(f\"{st2.fname} is {st2.age} years old\")"
      ]
    },
    {
      "cell_type": "code",
      "execution_count": null,
      "id": "72b4566e",
      "metadata": {
        "id": "72b4566e",
        "outputId": "4675497b-ce73-41d5-d913-2966f428c766"
      },
      "outputs": [
        {
          "name": "stdout",
          "output_type": "stream",
          "text": [
            "92.0\n"
          ]
        }
      ],
      "source": [
        "st2.percentage(96, 92, 88)"
      ]
    },
    {
      "cell_type": "code",
      "execution_count": null,
      "id": "4fdd6b16",
      "metadata": {
        "id": "4fdd6b16",
        "outputId": "498f4470-e81a-45ab-da71-288ddd001c6d"
      },
      "outputs": [
        {
          "data": {
            "text/plain": [
              "'RIT'"
            ]
          },
          "execution_count": 23,
          "metadata": {},
          "output_type": "execute_result"
        }
      ],
      "source": [
        "st1.college"
      ]
    },
    {
      "cell_type": "code",
      "execution_count": null,
      "id": "81fa9862",
      "metadata": {
        "id": "81fa9862"
      },
      "outputs": [],
      "source": [
        "fruits = [\"Apple\",\"banana\",\"Pinapple\",\"kiwi\"]\n",
        "copycat = [ item for item in fruits]"
      ]
    },
    {
      "cell_type": "code",
      "execution_count": null,
      "id": "b2b13dd1",
      "metadata": {
        "id": "b2b13dd1",
        "outputId": "25d802eb-5722-42f3-ce1d-76d45b77d993"
      },
      "outputs": [
        {
          "data": {
            "text/plain": [
              "['Apple', 'banana', 'Pinapple', 'kiwi']"
            ]
          },
          "execution_count": 26,
          "metadata": {},
          "output_type": "execute_result"
        }
      ],
      "source": [
        "copycat"
      ]
    },
    {
      "cell_type": "code",
      "execution_count": null,
      "id": "fe96e691",
      "metadata": {
        "id": "fe96e691"
      },
      "outputs": [],
      "source": [
        "onlyA = [item+item for item in fruits if \"a\" in item]"
      ]
    },
    {
      "cell_type": "code",
      "execution_count": null,
      "id": "822df21a",
      "metadata": {
        "id": "822df21a",
        "outputId": "d83019ef-5f7a-45e0-e795-7b2c932796cd"
      },
      "outputs": [
        {
          "data": {
            "text/plain": [
              "['bananabanana', 'PinapplePinapple']"
            ]
          },
          "execution_count": 30,
          "metadata": {},
          "output_type": "execute_result"
        }
      ],
      "source": [
        "onlyA"
      ]
    },
    {
      "cell_type": "code",
      "execution_count": null,
      "id": "2f768de7",
      "metadata": {
        "id": "2f768de7"
      },
      "outputs": [],
      "source": [
        "import math"
      ]
    },
    {
      "cell_type": "code",
      "execution_count": null,
      "id": "52a8f808",
      "metadata": {
        "id": "52a8f808",
        "outputId": "cb32bd9e-c249-4d77-b8f8-308249794460"
      },
      "outputs": [
        {
          "data": {
            "text/plain": [
              "0.6931471805599453"
            ]
          },
          "execution_count": 35,
          "metadata": {},
          "output_type": "execute_result"
        }
      ],
      "source": [
        "math.log(2)"
      ]
    },
    {
      "cell_type": "code",
      "execution_count": null,
      "id": "c74cad61",
      "metadata": {
        "id": "c74cad61",
        "outputId": "d4d51b04-7f97-420b-cff8-9b4900bcf8c2"
      },
      "outputs": [
        {
          "data": {
            "text/plain": [
              "2.302585092994046"
            ]
          },
          "execution_count": 36,
          "metadata": {},
          "output_type": "execute_result"
        }
      ],
      "source": [
        "math.log(10)"
      ]
    },
    {
      "cell_type": "code",
      "execution_count": null,
      "id": "d68239a8",
      "metadata": {
        "id": "d68239a8",
        "outputId": "5b1031b0-9668-4c25-88cd-e7c78758d252"
      },
      "outputs": [
        {
          "name": "stdout",
          "output_type": "stream",
          "text": [
            "Help on built-in function log in module math:\n",
            "\n",
            "log(...)\n",
            "    log(x, [base=math.e])\n",
            "    Return the logarithm of x to the given base.\n",
            "    \n",
            "    If the base not specified, returns the natural logarithm (base e) of x.\n",
            "\n"
          ]
        }
      ],
      "source": [
        "help(math.log)"
      ]
    },
    {
      "cell_type": "code",
      "execution_count": null,
      "id": "c9421d5b",
      "metadata": {
        "id": "c9421d5b"
      },
      "outputs": [],
      "source": [
        "with open(\"sample.txt\", 'w') as f:\n",
        "    f.write(\"Hello World!!!!!!!!!\")"
      ]
    },
    {
      "cell_type": "code",
      "execution_count": null,
      "id": "bf46358b",
      "metadata": {
        "id": "bf46358b",
        "outputId": "7f9a9abc-4f10-466a-bb13-8345fbbf6350"
      },
      "outputs": [
        {
          "name": "stdout",
          "output_type": "stream",
          "text": [
            "Hello World!!!!!!!!!\n"
          ]
        }
      ],
      "source": [
        "with open(\"sample.txt\", 'r') as f:\n",
        "    print(f.read())"
      ]
    },
    {
      "cell_type": "code",
      "execution_count": null,
      "id": "ff8de09f",
      "metadata": {
        "id": "ff8de09f",
        "outputId": "8174a180-3a3f-46d5-9b23-95b69d678eb7"
      },
      "outputs": [
        {
          "name": "stdout",
          "output_type": "stream",
          "text": [
            "Help on built-in module math:\n",
            "\n",
            "NAME\n",
            "    math\n",
            "\n",
            "DESCRIPTION\n",
            "    This module provides access to the mathematical functions\n",
            "    defined by the C standard.\n",
            "\n",
            "FUNCTIONS\n",
            "    acos(x, /)\n",
            "        Return the arc cosine (measured in radians) of x.\n",
            "    \n",
            "    acosh(x, /)\n",
            "        Return the inverse hyperbolic cosine of x.\n",
            "    \n",
            "    asin(x, /)\n",
            "        Return the arc sine (measured in radians) of x.\n",
            "    \n",
            "    asinh(x, /)\n",
            "        Return the inverse hyperbolic sine of x.\n",
            "    \n",
            "    atan(x, /)\n",
            "        Return the arc tangent (measured in radians) of x.\n",
            "    \n",
            "    atan2(y, x, /)\n",
            "        Return the arc tangent (measured in radians) of y/x.\n",
            "        \n",
            "        Unlike atan(y/x), the signs of both x and y are considered.\n",
            "    \n",
            "    atanh(x, /)\n",
            "        Return the inverse hyperbolic tangent of x.\n",
            "    \n",
            "    ceil(x, /)\n",
            "        Return the ceiling of x as an Integral.\n",
            "        \n",
            "        This is the smallest integer >= x.\n",
            "    \n",
            "    comb(n, k, /)\n",
            "        Number of ways to choose k items from n items without repetition and without order.\n",
            "        \n",
            "        Evaluates to n! / (k! * (n - k)!) when k <= n and evaluates\n",
            "        to zero when k > n.\n",
            "        \n",
            "        Also called the binomial coefficient because it is equivalent\n",
            "        to the coefficient of k-th term in polynomial expansion of the\n",
            "        expression (1 + x)**n.\n",
            "        \n",
            "        Raises TypeError if either of the arguments are not integers.\n",
            "        Raises ValueError if either of the arguments are negative.\n",
            "    \n",
            "    copysign(x, y, /)\n",
            "        Return a float with the magnitude (absolute value) of x but the sign of y.\n",
            "        \n",
            "        On platforms that support signed zeros, copysign(1.0, -0.0)\n",
            "        returns -1.0.\n",
            "    \n",
            "    cos(x, /)\n",
            "        Return the cosine of x (measured in radians).\n",
            "    \n",
            "    cosh(x, /)\n",
            "        Return the hyperbolic cosine of x.\n",
            "    \n",
            "    degrees(x, /)\n",
            "        Convert angle x from radians to degrees.\n",
            "    \n",
            "    dist(p, q, /)\n",
            "        Return the Euclidean distance between two points p and q.\n",
            "        \n",
            "        The points should be specified as sequences (or iterables) of\n",
            "        coordinates.  Both inputs must have the same dimension.\n",
            "        \n",
            "        Roughly equivalent to:\n",
            "            sqrt(sum((px - qx) ** 2.0 for px, qx in zip(p, q)))\n",
            "    \n",
            "    erf(x, /)\n",
            "        Error function at x.\n",
            "    \n",
            "    erfc(x, /)\n",
            "        Complementary error function at x.\n",
            "    \n",
            "    exp(x, /)\n",
            "        Return e raised to the power of x.\n",
            "    \n",
            "    expm1(x, /)\n",
            "        Return exp(x)-1.\n",
            "        \n",
            "        This function avoids the loss of precision involved in the direct evaluation of exp(x)-1 for small x.\n",
            "    \n",
            "    fabs(x, /)\n",
            "        Return the absolute value of the float x.\n",
            "    \n",
            "    factorial(x, /)\n",
            "        Find x!.\n",
            "        \n",
            "        Raise a ValueError if x is negative or non-integral.\n",
            "    \n",
            "    floor(x, /)\n",
            "        Return the floor of x as an Integral.\n",
            "        \n",
            "        This is the largest integer <= x.\n",
            "    \n",
            "    fmod(x, y, /)\n",
            "        Return fmod(x, y), according to platform C.\n",
            "        \n",
            "        x % y may differ.\n",
            "    \n",
            "    frexp(x, /)\n",
            "        Return the mantissa and exponent of x, as pair (m, e).\n",
            "        \n",
            "        m is a float and e is an int, such that x = m * 2.**e.\n",
            "        If x is 0, m and e are both 0.  Else 0.5 <= abs(m) < 1.0.\n",
            "    \n",
            "    fsum(seq, /)\n",
            "        Return an accurate floating point sum of values in the iterable seq.\n",
            "        \n",
            "        Assumes IEEE-754 floating point arithmetic.\n",
            "    \n",
            "    gamma(x, /)\n",
            "        Gamma function at x.\n",
            "    \n",
            "    gcd(x, y, /)\n",
            "        greatest common divisor of x and y\n",
            "    \n",
            "    hypot(...)\n",
            "        hypot(*coordinates) -> value\n",
            "        \n",
            "        Multidimensional Euclidean distance from the origin to a point.\n",
            "        \n",
            "        Roughly equivalent to:\n",
            "            sqrt(sum(x**2 for x in coordinates))\n",
            "        \n",
            "        For a two dimensional point (x, y), gives the hypotenuse\n",
            "        using the Pythagorean theorem:  sqrt(x*x + y*y).\n",
            "        \n",
            "        For example, the hypotenuse of a 3/4/5 right triangle is:\n",
            "        \n",
            "            >>> hypot(3.0, 4.0)\n",
            "            5.0\n",
            "    \n",
            "    isclose(a, b, *, rel_tol=1e-09, abs_tol=0.0)\n",
            "        Determine whether two floating point numbers are close in value.\n",
            "        \n",
            "          rel_tol\n",
            "            maximum difference for being considered \"close\", relative to the\n",
            "            magnitude of the input values\n",
            "          abs_tol\n",
            "            maximum difference for being considered \"close\", regardless of the\n",
            "            magnitude of the input values\n",
            "        \n",
            "        Return True if a is close in value to b, and False otherwise.\n",
            "        \n",
            "        For the values to be considered close, the difference between them\n",
            "        must be smaller than at least one of the tolerances.\n",
            "        \n",
            "        -inf, inf and NaN behave similarly to the IEEE 754 Standard.  That\n",
            "        is, NaN is not close to anything, even itself.  inf and -inf are\n",
            "        only close to themselves.\n",
            "    \n",
            "    isfinite(x, /)\n",
            "        Return True if x is neither an infinity nor a NaN, and False otherwise.\n",
            "    \n",
            "    isinf(x, /)\n",
            "        Return True if x is a positive or negative infinity, and False otherwise.\n",
            "    \n",
            "    isnan(x, /)\n",
            "        Return True if x is a NaN (not a number), and False otherwise.\n",
            "    \n",
            "    isqrt(n, /)\n",
            "        Return the integer part of the square root of the input.\n",
            "    \n",
            "    ldexp(x, i, /)\n",
            "        Return x * (2**i).\n",
            "        \n",
            "        This is essentially the inverse of frexp().\n",
            "    \n",
            "    lgamma(x, /)\n",
            "        Natural logarithm of absolute value of Gamma function at x.\n",
            "    \n",
            "    log(...)\n",
            "        log(x, [base=math.e])\n",
            "        Return the logarithm of x to the given base.\n",
            "        \n",
            "        If the base not specified, returns the natural logarithm (base e) of x.\n",
            "    \n",
            "    log10(x, /)\n",
            "        Return the base 10 logarithm of x.\n",
            "    \n",
            "    log1p(x, /)\n",
            "        Return the natural logarithm of 1+x (base e).\n",
            "        \n",
            "        The result is computed in a way which is accurate for x near zero.\n",
            "    \n",
            "    log2(x, /)\n",
            "        Return the base 2 logarithm of x.\n",
            "    \n",
            "    modf(x, /)\n",
            "        Return the fractional and integer parts of x.\n",
            "        \n",
            "        Both results carry the sign of x and are floats.\n",
            "    \n",
            "    perm(n, k=None, /)\n",
            "        Number of ways to choose k items from n items without repetition and with order.\n",
            "        \n",
            "        Evaluates to n! / (n - k)! when k <= n and evaluates\n",
            "        to zero when k > n.\n",
            "        \n",
            "        If k is not specified or is None, then k defaults to n\n",
            "        and the function returns n!.\n",
            "        \n",
            "        Raises TypeError if either of the arguments are not integers.\n",
            "        Raises ValueError if either of the arguments are negative.\n",
            "    \n",
            "    pow(x, y, /)\n",
            "        Return x**y (x to the power of y).\n",
            "    \n",
            "    prod(iterable, /, *, start=1)\n",
            "        Calculate the product of all the elements in the input iterable.\n",
            "        \n",
            "        The default start value for the product is 1.\n",
            "        \n",
            "        When the iterable is empty, return the start value.  This function is\n",
            "        intended specifically for use with numeric values and may reject\n",
            "        non-numeric types.\n",
            "    \n",
            "    radians(x, /)\n",
            "        Convert angle x from degrees to radians.\n",
            "    \n",
            "    remainder(x, y, /)\n",
            "        Difference between x and the closest integer multiple of y.\n",
            "        \n",
            "        Return x - n*y where n*y is the closest integer multiple of y.\n",
            "        In the case where x is exactly halfway between two multiples of\n",
            "        y, the nearest even value of n is used. The result is always exact.\n",
            "    \n",
            "    sin(x, /)\n",
            "        Return the sine of x (measured in radians).\n",
            "    \n",
            "    sinh(x, /)\n",
            "        Return the hyperbolic sine of x.\n",
            "    \n",
            "    sqrt(x, /)\n",
            "        Return the square root of x.\n",
            "    \n",
            "    tan(x, /)\n",
            "        Return the tangent of x (measured in radians).\n",
            "    \n",
            "    tanh(x, /)\n",
            "        Return the hyperbolic tangent of x.\n",
            "    \n",
            "    trunc(x, /)\n",
            "        Truncates the Real x to the nearest Integral toward 0.\n",
            "        \n",
            "        Uses the __trunc__ magic method.\n",
            "\n",
            "DATA\n",
            "    e = 2.718281828459045\n",
            "    inf = inf\n",
            "    nan = nan\n",
            "    pi = 3.141592653589793\n",
            "    tau = 6.283185307179586\n",
            "\n",
            "FILE\n",
            "    (built-in)\n",
            "\n",
            "\n"
          ]
        }
      ],
      "source": [
        "help(math)"
      ]
    },
    {
      "cell_type": "markdown",
      "id": "af9f732a",
      "metadata": {
        "id": "af9f732a"
      },
      "source": [
        "Numpy to work with multidimensional array"
      ]
    },
    {
      "cell_type": "code",
      "execution_count": null,
      "id": "eb584540",
      "metadata": {
        "id": "eb584540"
      },
      "outputs": [],
      "source": [
        "import numpy as np\n",
        "import math\n",
        "arr= np.array([1,3,4,5,6])"
      ]
    },
    {
      "cell_type": "code",
      "execution_count": null,
      "id": "7def37e3",
      "metadata": {
        "id": "7def37e3"
      },
      "outputs": [],
      "source": [
        "division = (arr/3)"
      ]
    },
    {
      "cell_type": "code",
      "execution_count": null,
      "id": "17f39860",
      "metadata": {
        "id": "17f39860",
        "outputId": "894c60af-fe79-4d19-956b-fc7bc579633c"
      },
      "outputs": [
        {
          "name": "stdout",
          "output_type": "stream",
          "text": [
            "[0.33333333 1.         1.33333333 1.66666667 2.        ]\n"
          ]
        }
      ],
      "source": [
        "print(division)"
      ]
    },
    {
      "cell_type": "code",
      "execution_count": null,
      "id": "0cd025ea",
      "metadata": {
        "id": "0cd025ea",
        "outputId": "89d5b5bb-5fc6-464d-97cf-b8a22f763333"
      },
      "outputs": [
        {
          "data": {
            "text/plain": [
              "dtype('float64')"
            ]
          },
          "execution_count": 4,
          "metadata": {},
          "output_type": "execute_result"
        }
      ],
      "source": [
        "division.dtype\n"
      ]
    },
    {
      "cell_type": "code",
      "execution_count": null,
      "id": "1e32224e",
      "metadata": {
        "id": "1e32224e",
        "outputId": "c27a8e88-7f2f-4820-f265-9ecccb5849e8"
      },
      "outputs": [
        {
          "data": {
            "text/plain": [
              "numpy.ndarray"
            ]
          },
          "execution_count": 5,
          "metadata": {},
          "output_type": "execute_result"
        }
      ],
      "source": [
        "type(division)"
      ]
    },
    {
      "cell_type": "markdown",
      "id": "dd421bbd",
      "metadata": {
        "id": "dd421bbd"
      },
      "source": [
        "np.zeros"
      ]
    },
    {
      "cell_type": "code",
      "execution_count": null,
      "id": "64e13e1b",
      "metadata": {
        "id": "64e13e1b",
        "outputId": "3790bfd7-f4d2-413d-b95c-2afef7478075"
      },
      "outputs": [
        {
          "data": {
            "text/plain": [
              "array([[0., 0., 0.],\n",
              "       [0., 0., 0.]])"
            ]
          },
          "execution_count": 15,
          "metadata": {},
          "output_type": "execute_result"
        }
      ],
      "source": [
        "np.zeros((2, 3))"
      ]
    },
    {
      "cell_type": "code",
      "execution_count": null,
      "id": "ea767370",
      "metadata": {
        "id": "ea767370",
        "outputId": "d42d2323-8497-454a-a268-cf1ee83a879c"
      },
      "outputs": [
        {
          "data": {
            "text/plain": [
              "array([[0., 0., 0.],\n",
              "       [0., 0., 0.],\n",
              "       [0., 0., 0.]])"
            ]
          },
          "execution_count": 16,
          "metadata": {},
          "output_type": "execute_result"
        }
      ],
      "source": [
        "np.zeros((3, 3))"
      ]
    },
    {
      "cell_type": "code",
      "execution_count": null,
      "id": "1a0ca033",
      "metadata": {
        "id": "1a0ca033",
        "outputId": "df7d4788-613f-43b6-b04f-055329aed00c"
      },
      "outputs": [
        {
          "data": {
            "text/plain": [
              "array([0, 2, 4, 6, 8])"
            ]
          },
          "execution_count": 17,
          "metadata": {},
          "output_type": "execute_result"
        }
      ],
      "source": [
        "np.arange(0,10,2)"
      ]
    },
    {
      "cell_type": "markdown",
      "id": "ff08e336",
      "metadata": {
        "id": "ff08e336"
      },
      "source": [
        "np.linspace is used to create evenly distanced values between the range given. Here it will create evenly distanced 10 values start from 1 to 100."
      ]
    },
    {
      "cell_type": "code",
      "execution_count": null,
      "id": "60f982c4",
      "metadata": {
        "id": "60f982c4",
        "outputId": "42bf2a1a-782c-4ead-c7bd-97841fce9a30"
      },
      "outputs": [
        {
          "data": {
            "text/plain": [
              "array([  1.,  12.,  23.,  34.,  45.,  56.,  67.,  78.,  89., 100.])"
            ]
          },
          "execution_count": 19,
          "metadata": {},
          "output_type": "execute_result"
        }
      ],
      "source": [
        "np.linspace(1,100,10)"
      ]
    },
    {
      "cell_type": "code",
      "execution_count": null,
      "id": "9e3c3fc9",
      "metadata": {
        "id": "9e3c3fc9",
        "outputId": "9d5abe44-178a-4056-afa3-910a5efe0889"
      },
      "outputs": [
        {
          "data": {
            "text/plain": [
              "array([ 1.        ,  1.47368421,  1.94736842,  2.42105263,  2.89473684,\n",
              "        3.36842105,  3.84210526,  4.31578947,  4.78947368,  5.26315789,\n",
              "        5.73684211,  6.21052632,  6.68421053,  7.15789474,  7.63157895,\n",
              "        8.10526316,  8.57894737,  9.05263158,  9.52631579, 10.        ])"
            ]
          },
          "execution_count": 20,
          "metadata": {},
          "output_type": "execute_result"
        }
      ],
      "source": [
        "np.linspace(1,10,20)"
      ]
    },
    {
      "cell_type": "markdown",
      "id": "3e8a6cd2",
      "metadata": {
        "id": "3e8a6cd2"
      },
      "source": [
        "//Converting array of float into integer"
      ]
    },
    {
      "cell_type": "code",
      "execution_count": null,
      "id": "3adc40e6",
      "metadata": {
        "id": "3adc40e6",
        "outputId": "3f4ef550-72eb-4660-e70a-632bce8059cb"
      },
      "outputs": [
        {
          "data": {
            "text/plain": [
              "array([2. , 5.6, 7.9, 9. ])"
            ]
          },
          "execution_count": 23,
          "metadata": {},
          "output_type": "execute_result"
        }
      ],
      "source": [
        "a_float= np.array([2,5.6,7.9,9],dtype=float)\n",
        "a_float"
      ]
    },
    {
      "cell_type": "code",
      "execution_count": null,
      "id": "ee1e1236",
      "metadata": {
        "id": "ee1e1236"
      },
      "outputs": [],
      "source": [
        "a_int= a_float.astype(int)"
      ]
    },
    {
      "cell_type": "code",
      "execution_count": null,
      "id": "9f1e469c",
      "metadata": {
        "id": "9f1e469c",
        "outputId": "34ccd24d-d63f-4bd3-9832-bd46f763bbb3"
      },
      "outputs": [
        {
          "data": {
            "text/plain": [
              "array([2, 5, 7, 9])"
            ]
          },
          "execution_count": 26,
          "metadata": {},
          "output_type": "execute_result"
        }
      ],
      "source": [
        "a_int"
      ]
    },
    {
      "cell_type": "code",
      "execution_count": null,
      "id": "a1bcbad7",
      "metadata": {
        "id": "a1bcbad7"
      },
      "outputs": [],
      "source": [
        "ar= np.zeros((3, 3))"
      ]
    },
    {
      "cell_type": "code",
      "execution_count": null,
      "id": "b1cd1bb4",
      "metadata": {
        "id": "b1cd1bb4",
        "outputId": "502d84da-421d-4a08-c7d7-1807c789aa91"
      },
      "outputs": [
        {
          "data": {
            "text/plain": [
              "2"
            ]
          },
          "execution_count": 28,
          "metadata": {},
          "output_type": "execute_result"
        }
      ],
      "source": [
        "ar.ndim"
      ]
    },
    {
      "cell_type": "code",
      "execution_count": null,
      "id": "a4b9c59d",
      "metadata": {
        "id": "a4b9c59d",
        "outputId": "0882effe-9912-47e2-ee88-8381a0b7f26e"
      },
      "outputs": [
        {
          "data": {
            "text/plain": [
              "array([[0., 0., 0.],\n",
              "       [0., 0., 0.],\n",
              "       [0., 0., 0.]])"
            ]
          },
          "execution_count": 29,
          "metadata": {},
          "output_type": "execute_result"
        }
      ],
      "source": [
        "ar"
      ]
    },
    {
      "cell_type": "code",
      "execution_count": null,
      "id": "6e936a5d",
      "metadata": {
        "id": "6e936a5d",
        "outputId": "8cd9a04e-098c-4ee4-efee-cc8c439be591"
      },
      "outputs": [
        {
          "data": {
            "text/plain": [
              "9"
            ]
          },
          "execution_count": 30,
          "metadata": {},
          "output_type": "execute_result"
        }
      ],
      "source": [
        "ar.size"
      ]
    },
    {
      "cell_type": "code",
      "execution_count": null,
      "id": "2c362583",
      "metadata": {
        "id": "2c362583"
      },
      "outputs": [],
      "source": [
        "arr =np.arange(1,20,2)"
      ]
    },
    {
      "cell_type": "code",
      "execution_count": null,
      "id": "f2460156",
      "metadata": {
        "id": "f2460156",
        "outputId": "c2c323ed-38d1-4775-d5af-6339d6a65e4c"
      },
      "outputs": [
        {
          "data": {
            "text/plain": [
              "array([ 1,  3,  5,  7,  9, 11, 13, 15, 17, 19])"
            ]
          },
          "execution_count": 33,
          "metadata": {},
          "output_type": "execute_result"
        }
      ],
      "source": [
        "arr"
      ]
    },
    {
      "cell_type": "code",
      "execution_count": null,
      "id": "2198bb5e",
      "metadata": {
        "id": "2198bb5e",
        "outputId": "c0b74231-96e5-4edc-f12e-d01a1dc491f9"
      },
      "outputs": [
        {
          "data": {
            "text/plain": [
              "array([19, 17, 15, 13, 11,  9,  7,  5,  3,  1])"
            ]
          },
          "execution_count": 34,
          "metadata": {},
          "output_type": "execute_result"
        }
      ],
      "source": [
        "arr[::-1]"
      ]
    },
    {
      "cell_type": "code",
      "execution_count": null,
      "id": "64a13558",
      "metadata": {
        "id": "64a13558",
        "outputId": "e59782ad-2d66-4821-8f97-2d8a3706a4dc"
      },
      "outputs": [
        {
          "data": {
            "text/plain": [
              "array([ 1,  5,  9, 13, 17])"
            ]
          },
          "execution_count": 35,
          "metadata": {},
          "output_type": "execute_result"
        }
      ],
      "source": [
        "arr[::2]"
      ]
    },
    {
      "cell_type": "code",
      "execution_count": null,
      "id": "2da3fb9b",
      "metadata": {
        "id": "2da3fb9b",
        "outputId": "43be51e3-0884-4419-f19b-769a85dd950b"
      },
      "outputs": [
        {
          "data": {
            "text/plain": [
              "array([ 7,  9, 11, 13, 15])"
            ]
          },
          "execution_count": 36,
          "metadata": {},
          "output_type": "execute_result"
        }
      ],
      "source": [
        "arr[3:8]"
      ]
    },
    {
      "cell_type": "code",
      "execution_count": null,
      "id": "c3d38e75",
      "metadata": {
        "id": "c3d38e75"
      },
      "outputs": [],
      "source": [
        "arr_2d= np.array([[1,2,3],[4,5,6],[7,8,9]])"
      ]
    },
    {
      "cell_type": "code",
      "execution_count": null,
      "id": "837ef9b4",
      "metadata": {
        "id": "837ef9b4",
        "outputId": "12cfccd2-dec3-4bcb-e1df-6d29cf014c03"
      },
      "outputs": [
        {
          "data": {
            "text/plain": [
              "array([[1, 2, 3],\n",
              "       [4, 5, 6],\n",
              "       [7, 8, 9]])"
            ]
          },
          "execution_count": 43,
          "metadata": {},
          "output_type": "execute_result"
        }
      ],
      "source": [
        "arr_2d"
      ]
    },
    {
      "cell_type": "code",
      "execution_count": null,
      "id": "677fb4a6",
      "metadata": {
        "id": "677fb4a6",
        "outputId": "2fcdceb7-db73-4d11-a827-d1a107cafd12"
      },
      "outputs": [
        {
          "data": {
            "text/plain": [
              "array([[1, 2, 3],\n",
              "       [4, 5, 6],\n",
              "       [7, 8, 9]])"
            ]
          },
          "execution_count": 44,
          "metadata": {},
          "output_type": "execute_result"
        }
      ],
      "source": [
        "arr_2d[:,:]"
      ]
    },
    {
      "cell_type": "code",
      "execution_count": null,
      "id": "557b4b33",
      "metadata": {
        "id": "557b4b33",
        "outputId": "59ea3a5f-caf1-4cbe-8e3e-a2ccf847f512"
      },
      "outputs": [
        {
          "data": {
            "text/plain": [
              "5"
            ]
          },
          "execution_count": 47,
          "metadata": {},
          "output_type": "execute_result"
        }
      ],
      "source": [
        "arr_2d[1][1]"
      ]
    },
    {
      "cell_type": "code",
      "execution_count": null,
      "id": "37fcdd29",
      "metadata": {
        "id": "37fcdd29",
        "outputId": "e8fcc945-9039-4553-de81-d636af95f9d7"
      },
      "outputs": [
        {
          "data": {
            "text/plain": [
              "5"
            ]
          },
          "execution_count": 48,
          "metadata": {},
          "output_type": "execute_result"
        }
      ],
      "source": [
        "arr_2d[1,1]"
      ]
    },
    {
      "cell_type": "code",
      "execution_count": null,
      "id": "18474b28",
      "metadata": {
        "id": "18474b28",
        "outputId": "e48a20f0-c7df-4465-9b0b-4d54a4d9c804"
      },
      "outputs": [
        {
          "data": {
            "text/plain": [
              "array([[5, 6],\n",
              "       [8, 9]])"
            ]
          },
          "execution_count": 49,
          "metadata": {},
          "output_type": "execute_result"
        }
      ],
      "source": [
        "arr_2d[1:,1:]"
      ]
    },
    {
      "cell_type": "code",
      "execution_count": null,
      "id": "02cb026f",
      "metadata": {
        "id": "02cb026f",
        "outputId": "addc9a0c-72d2-44b2-b339-9e3e7a5e1ef0"
      },
      "outputs": [
        {
          "data": {
            "text/plain": [
              "array([3, 6, 9])"
            ]
          },
          "execution_count": 50,
          "metadata": {},
          "output_type": "execute_result"
        }
      ],
      "source": [
        "arr_2d[:,-1]"
      ]
    },
    {
      "cell_type": "code",
      "execution_count": null,
      "id": "b87b33d4",
      "metadata": {
        "id": "b87b33d4",
        "outputId": "33ce75f4-6e33-4735-97ed-e4d25ead069a"
      },
      "outputs": [
        {
          "data": {
            "text/plain": [
              "array([[1, 2],\n",
              "       [4, 5],\n",
              "       [7, 8]])"
            ]
          },
          "execution_count": 51,
          "metadata": {},
          "output_type": "execute_result"
        }
      ],
      "source": [
        "arr_2d[:,:-1]"
      ]
    },
    {
      "cell_type": "code",
      "execution_count": null,
      "id": "74fe175b",
      "metadata": {
        "id": "74fe175b",
        "outputId": "992ffb73-80ac-46af-cac2-8d7fecb3b9fa"
      },
      "outputs": [
        {
          "data": {
            "text/plain": [
              "array([ 1,  3,  5,  7,  9, 11, 13, 15, 17, 19])"
            ]
          },
          "execution_count": 52,
          "metadata": {},
          "output_type": "execute_result"
        }
      ],
      "source": [
        "arr"
      ]
    },
    {
      "cell_type": "code",
      "execution_count": null,
      "id": "3013d72d",
      "metadata": {
        "id": "3013d72d",
        "outputId": "6ad38367-b338-41eb-ad5c-2d404b3f10cf"
      },
      "outputs": [
        {
          "data": {
            "text/plain": [
              "array([False, False, False, False, False,  True,  True,  True,  True,\n",
              "        True])"
            ]
          },
          "execution_count": 53,
          "metadata": {},
          "output_type": "execute_result"
        }
      ],
      "source": [
        "arr>9"
      ]
    },
    {
      "cell_type": "code",
      "execution_count": null,
      "id": "c7144e5e",
      "metadata": {
        "id": "c7144e5e",
        "outputId": "04260d87-b3d3-41ae-daec-053056202ad9"
      },
      "outputs": [
        {
          "data": {
            "text/plain": [
              "array([11, 13, 15, 17, 19])"
            ]
          },
          "execution_count": 55,
          "metadata": {},
          "output_type": "execute_result"
        }
      ],
      "source": [
        "arr[arr>9]"
      ]
    },
    {
      "cell_type": "code",
      "execution_count": null,
      "id": "b0ebee1e",
      "metadata": {
        "id": "b0ebee1e",
        "outputId": "9e0bc68c-90c8-4f48-d7ab-67172e6d4e82"
      },
      "outputs": [
        {
          "data": {
            "text/plain": [
              "array([ 1,  3,  5,  7,  9, 11, 13, 15, 17, 19])"
            ]
          },
          "execution_count": 56,
          "metadata": {},
          "output_type": "execute_result"
        }
      ],
      "source": [
        "arr"
      ]
    },
    {
      "cell_type": "code",
      "execution_count": null,
      "id": "2adec1cb",
      "metadata": {
        "id": "2adec1cb",
        "outputId": "67bf55c8-1dcb-4c56-cba0-e9a229bb1951"
      },
      "outputs": [
        {
          "data": {
            "text/plain": [
              "array([[1, 2, 3],\n",
              "       [4, 5, 6],\n",
              "       [7, 8, 9]])"
            ]
          },
          "execution_count": 57,
          "metadata": {},
          "output_type": "execute_result"
        }
      ],
      "source": [
        "arr_2d"
      ]
    },
    {
      "cell_type": "code",
      "execution_count": null,
      "id": "3b0d19b3",
      "metadata": {
        "id": "3b0d19b3",
        "outputId": "c31aadb4-fd14-4c48-ea10-eee20feda582"
      },
      "outputs": [
        {
          "data": {
            "text/plain": [
              "array([[False, False, False],\n",
              "       [False,  True,  True],\n",
              "       [ True,  True,  True]])"
            ]
          },
          "execution_count": 58,
          "metadata": {},
          "output_type": "execute_result"
        }
      ],
      "source": [
        "arr_2d>=5"
      ]
    },
    {
      "cell_type": "code",
      "execution_count": null,
      "id": "3f77c6f3",
      "metadata": {
        "id": "3f77c6f3",
        "outputId": "760adfef-7f1b-45f2-df71-01df19dc47a1"
      },
      "outputs": [
        {
          "data": {
            "text/plain": [
              "array([5, 6, 7, 8, 9])"
            ]
          },
          "execution_count": 59,
          "metadata": {},
          "output_type": "execute_result"
        }
      ],
      "source": [
        "arr_2d[arr_2d>=5]"
      ]
    },
    {
      "cell_type": "code",
      "execution_count": null,
      "id": "1d9733a1",
      "metadata": {
        "id": "1d9733a1",
        "outputId": "16959aec-0b15-4c5a-d5b0-d5b00277e05b"
      },
      "outputs": [
        {
          "data": {
            "text/plain": [
              "array([4, 5, 6])"
            ]
          },
          "execution_count": 61,
          "metadata": {},
          "output_type": "execute_result"
        }
      ],
      "source": [
        "arr_2d[(arr_2d>3) & (arr_2d <7)]"
      ]
    },
    {
      "cell_type": "code",
      "execution_count": null,
      "id": "eefb62b7",
      "metadata": {
        "id": "eefb62b7",
        "outputId": "cea444b2-9533-4ae6-b0aa-60c7d58ac526"
      },
      "outputs": [
        {
          "data": {
            "text/plain": [
              "array([[4, 5, 6]])"
            ]
          },
          "execution_count": 63,
          "metadata": {},
          "output_type": "execute_result"
        }
      ],
      "source": [
        "arr_2d[1:2]"
      ]
    },
    {
      "cell_type": "code",
      "execution_count": null,
      "id": "385c9aa4",
      "metadata": {
        "id": "385c9aa4"
      },
      "outputs": [],
      "source": [
        "arr1= np.array([1,2,3])"
      ]
    },
    {
      "cell_type": "code",
      "execution_count": null,
      "id": "a1ee5f44",
      "metadata": {
        "id": "a1ee5f44"
      },
      "outputs": [],
      "source": [
        "arr2= np.array([1,2,3])"
      ]
    },
    {
      "cell_type": "code",
      "execution_count": null,
      "id": "c42f00cf",
      "metadata": {
        "id": "c42f00cf",
        "outputId": "70a7dd3d-d541-4179-ed12-6e3f0d0e4ef0"
      },
      "outputs": [
        {
          "data": {
            "text/plain": [
              "array([1, 4, 9])"
            ]
          },
          "execution_count": 66,
          "metadata": {},
          "output_type": "execute_result"
        }
      ],
      "source": [
        "arr1*arr2"
      ]
    },
    {
      "cell_type": "code",
      "execution_count": null,
      "id": "02f49ced",
      "metadata": {
        "id": "02f49ced",
        "outputId": "0845caa4-c8f0-4027-99a0-e6af53ec87cc"
      },
      "outputs": [
        {
          "data": {
            "text/plain": [
              "array([[0, 1, 2],\n",
              "       [3, 4, 5],\n",
              "       [6, 7, 8]])"
            ]
          },
          "execution_count": 74,
          "metadata": {},
          "output_type": "execute_result"
        }
      ],
      "source": [
        "ar1= np.arange(9).reshape(3,3)\n",
        "ar1"
      ]
    },
    {
      "cell_type": "code",
      "execution_count": null,
      "id": "b2602955",
      "metadata": {
        "id": "b2602955"
      },
      "outputs": [],
      "source": [
        "ar2=np.arange(9).reshape(1,3,3)"
      ]
    },
    {
      "cell_type": "code",
      "execution_count": null,
      "id": "bb912b2a",
      "metadata": {
        "id": "bb912b2a",
        "outputId": "1d1253a4-cd19-4ca7-f0f3-d35545d32d32"
      },
      "outputs": [
        {
          "data": {
            "text/plain": [
              "array([[[0, 1, 2],\n",
              "        [3, 4, 5],\n",
              "        [6, 7, 8]]])"
            ]
          },
          "execution_count": 76,
          "metadata": {},
          "output_type": "execute_result"
        }
      ],
      "source": [
        "ar2"
      ]
    },
    {
      "cell_type": "code",
      "execution_count": null,
      "id": "8a60ac3c",
      "metadata": {
        "id": "8a60ac3c"
      },
      "outputs": [],
      "source": [
        "ar3=np.arange(9).reshape(3,1,3)"
      ]
    },
    {
      "cell_type": "code",
      "execution_count": null,
      "id": "a45aa148",
      "metadata": {
        "id": "a45aa148",
        "outputId": "460750dc-7255-45e6-db02-1770aef8960f"
      },
      "outputs": [
        {
          "data": {
            "text/plain": [
              "array([[[0, 1, 2]],\n",
              "\n",
              "       [[3, 4, 5]],\n",
              "\n",
              "       [[6, 7, 8]]])"
            ]
          },
          "execution_count": 78,
          "metadata": {},
          "output_type": "execute_result"
        }
      ],
      "source": [
        "ar3"
      ]
    },
    {
      "cell_type": "code",
      "execution_count": null,
      "id": "e2989746",
      "metadata": {
        "id": "e2989746",
        "outputId": "23ada8c9-3516-41f7-b16c-267984b3a4bb"
      },
      "outputs": [
        {
          "data": {
            "text/plain": [
              "(3, 1, 3)"
            ]
          },
          "execution_count": 79,
          "metadata": {},
          "output_type": "execute_result"
        }
      ],
      "source": [
        "ar3.shape"
      ]
    },
    {
      "cell_type": "code",
      "execution_count": null,
      "id": "08fb90d8",
      "metadata": {
        "id": "08fb90d8",
        "outputId": "4f81146f-b195-4b3d-cad0-a3a237d6e007"
      },
      "outputs": [
        {
          "data": {
            "text/plain": [
              "array([[6, 7, 8]])"
            ]
          },
          "execution_count": 80,
          "metadata": {},
          "output_type": "execute_result"
        }
      ],
      "source": [
        "ar3[2]"
      ]
    },
    {
      "cell_type": "code",
      "execution_count": null,
      "id": "7e09ed45",
      "metadata": {
        "id": "7e09ed45",
        "outputId": "38889001-4b59-46a0-f9d8-72d382d6d781"
      },
      "outputs": [
        {
          "data": {
            "text/plain": [
              "array([[0, 1, 2, 3, 4, 5, 6, 7, 8]])"
            ]
          },
          "execution_count": 83,
          "metadata": {},
          "output_type": "execute_result"
        }
      ],
      "source": [
        "ar3.reshape(1,9)"
      ]
    },
    {
      "cell_type": "code",
      "execution_count": null,
      "id": "e54af863",
      "metadata": {
        "id": "e54af863"
      },
      "outputs": [],
      "source": [
        "ar3=np.arange(9).reshape(3,3,order = \"F\")"
      ]
    },
    {
      "cell_type": "markdown",
      "id": "80ceda27",
      "metadata": {
        "id": "80ceda27"
      },
      "source": [
        "This will create the column major order while creating rhe array"
      ]
    },
    {
      "cell_type": "code",
      "execution_count": null,
      "id": "0e6d2404",
      "metadata": {
        "id": "0e6d2404",
        "outputId": "367b75a8-7524-4b3f-ad2f-ac25dbcad33c"
      },
      "outputs": [
        {
          "data": {
            "text/plain": [
              "array([[0, 3, 6],\n",
              "       [1, 4, 7],\n",
              "       [2, 5, 8]])"
            ]
          },
          "execution_count": 85,
          "metadata": {},
          "output_type": "execute_result"
        }
      ],
      "source": [
        "ar3"
      ]
    },
    {
      "cell_type": "code",
      "execution_count": null,
      "id": "c6db12af",
      "metadata": {
        "id": "c6db12af"
      },
      "outputs": [],
      "source": [
        "ar3=np.arange(20).reshape(2,10)"
      ]
    },
    {
      "cell_type": "code",
      "execution_count": null,
      "id": "78e5a57c",
      "metadata": {
        "id": "78e5a57c",
        "outputId": "294c21fa-f3f8-4c99-fd99-c54f21bcccb2"
      },
      "outputs": [
        {
          "data": {
            "text/plain": [
              "array([[ 0,  1,  2,  3,  4,  5,  6,  7,  8,  9],\n",
              "       [10, 11, 12, 13, 14, 15, 16, 17, 18, 19]])"
            ]
          },
          "execution_count": 87,
          "metadata": {},
          "output_type": "execute_result"
        }
      ],
      "source": [
        "ar3.reshape(2,-1)"
      ]
    },
    {
      "cell_type": "code",
      "execution_count": null,
      "id": "3039f0bf",
      "metadata": {
        "id": "3039f0bf",
        "outputId": "f7de8e0f-390f-4eff-e012-519ffc38c676"
      },
      "outputs": [
        {
          "data": {
            "text/plain": [
              "array([[ 0,  1,  2,  3,  4,  5,  6,  7,  8,  9],\n",
              "       [10, 11, 12, 13, 14, 15, 16, 17, 18, 19]])"
            ]
          },
          "execution_count": 88,
          "metadata": {},
          "output_type": "execute_result"
        }
      ],
      "source": [
        "ar3"
      ]
    },
    {
      "cell_type": "code",
      "execution_count": null,
      "id": "c3668ab1",
      "metadata": {
        "id": "c3668ab1",
        "outputId": "937079d8-c76f-42ab-d1ec-25214b3fb23b"
      },
      "outputs": [
        {
          "data": {
            "text/plain": [
              "(2, 10)"
            ]
          },
          "execution_count": 89,
          "metadata": {},
          "output_type": "execute_result"
        }
      ],
      "source": [
        "ar3.shape"
      ]
    },
    {
      "cell_type": "code",
      "execution_count": null,
      "id": "f89641cd",
      "metadata": {
        "id": "f89641cd",
        "outputId": "34068d0f-d67e-4313-8050-ee4381c7277f"
      },
      "outputs": [
        {
          "data": {
            "text/plain": [
              "array([[ 0,  1,  2,  3,  4],\n",
              "       [ 5,  6,  7,  8,  9],\n",
              "       [10, 11, 12, 13, 14],\n",
              "       [15, 16, 17, 18, 19]])"
            ]
          },
          "execution_count": 90,
          "metadata": {},
          "output_type": "execute_result"
        }
      ],
      "source": [
        "ar3.reshape(-1,5)"
      ]
    },
    {
      "cell_type": "code",
      "execution_count": null,
      "id": "796e0b8d",
      "metadata": {
        "id": "796e0b8d",
        "outputId": "dc603dbd-e1ae-490b-ffa3-96b828e6394e"
      },
      "outputs": [
        {
          "data": {
            "text/plain": [
              "(4, 5)"
            ]
          },
          "execution_count": 93,
          "metadata": {},
          "output_type": "execute_result"
        }
      ],
      "source": [
        "ar3.reshape(-1,5).shape"
      ]
    },
    {
      "cell_type": "markdown",
      "id": "e489aac2",
      "metadata": {
        "id": "e489aac2"
      },
      "source": [
        "# It will automatically add value so that it will fit array perfectly if we dont know what dimensions should be"
      ]
    },
    {
      "cell_type": "code",
      "execution_count": null,
      "id": "385ee341",
      "metadata": {
        "id": "385ee341",
        "outputId": "e2585fbe-a799-434d-c692-d6a36deded48"
      },
      "outputs": [
        {
          "data": {
            "text/plain": [
              "array([[ 0,  1,  2,  3,  4,  5,  6,  7,  8,  9],\n",
              "       [10, 11, 12, 13, 14, 15, 16, 17, 18, 19]])"
            ]
          },
          "execution_count": 94,
          "metadata": {},
          "output_type": "execute_result"
        }
      ],
      "source": [
        "ar3"
      ]
    },
    {
      "cell_type": "code",
      "execution_count": null,
      "id": "0b921729",
      "metadata": {
        "id": "0b921729",
        "outputId": "0da48b9c-f37f-487b-d098-472fd873c75f"
      },
      "outputs": [
        {
          "data": {
            "text/plain": [
              "array([[ 0, 10],\n",
              "       [ 1, 11],\n",
              "       [ 2, 12],\n",
              "       [ 3, 13],\n",
              "       [ 4, 14],\n",
              "       [ 5, 15],\n",
              "       [ 6, 16],\n",
              "       [ 7, 17],\n",
              "       [ 8, 18],\n",
              "       [ 9, 19]])"
            ]
          },
          "execution_count": 96,
          "metadata": {},
          "output_type": "execute_result"
        }
      ],
      "source": [
        "ar3.transpose()"
      ]
    },
    {
      "cell_type": "code",
      "execution_count": null,
      "id": "ee1833b4",
      "metadata": {
        "id": "ee1833b4",
        "outputId": "36fcbdf7-9ef6-42b9-c7ff-6b7c4c7aef05"
      },
      "outputs": [
        {
          "data": {
            "text/plain": [
              "array([[ 0, 10],\n",
              "       [ 1, 11],\n",
              "       [ 2, 12],\n",
              "       [ 3, 13],\n",
              "       [ 4, 14],\n",
              "       [ 5, 15],\n",
              "       [ 6, 16],\n",
              "       [ 7, 17],\n",
              "       [ 8, 18],\n",
              "       [ 9, 19]])"
            ]
          },
          "execution_count": 97,
          "metadata": {},
          "output_type": "execute_result"
        }
      ],
      "source": [
        "ar3.T"
      ]
    },
    {
      "cell_type": "markdown",
      "id": "328326a5",
      "metadata": {
        "id": "328326a5"
      },
      "source": [
        "# Flattening an array \n",
        "Means to convert higher dimensional array into 1d array"
      ]
    },
    {
      "cell_type": "code",
      "execution_count": null,
      "id": "659ab990",
      "metadata": {
        "id": "659ab990",
        "outputId": "d2694e43-78c6-4038-e9a4-7d1d1ebe3eae"
      },
      "outputs": [
        {
          "data": {
            "text/plain": [
              "array([ 0,  1,  2,  3,  4,  5,  6,  7,  8,  9, 10, 11, 12, 13, 14, 15, 16,\n",
              "       17, 18, 19])"
            ]
          },
          "execution_count": 98,
          "metadata": {},
          "output_type": "execute_result"
        }
      ],
      "source": [
        "ar3.flatten()"
      ]
    },
    {
      "cell_type": "code",
      "execution_count": null,
      "id": "480e2eda",
      "metadata": {
        "id": "480e2eda",
        "outputId": "17bd30f9-0f23-4ee8-c5ec-a4e2a3585273"
      },
      "outputs": [
        {
          "data": {
            "text/plain": [
              "(2, 10)"
            ]
          },
          "execution_count": 99,
          "metadata": {},
          "output_type": "execute_result"
        }
      ],
      "source": [
        "    ar3.shape"
      ]
    },
    {
      "cell_type": "code",
      "execution_count": null,
      "id": "dab189f6",
      "metadata": {
        "id": "dab189f6",
        "outputId": "e99b93ab-9ffb-4d2a-cfac-7f9f70e9ba5a"
      },
      "outputs": [
        {
          "data": {
            "text/plain": [
              "array([1, 2, 3])"
            ]
          },
          "execution_count": 100,
          "metadata": {},
          "output_type": "execute_result"
        }
      ],
      "source": [
        "arr1"
      ]
    },
    {
      "cell_type": "code",
      "execution_count": null,
      "id": "cc8c9207",
      "metadata": {
        "id": "cc8c9207",
        "outputId": "c755426d-b11e-4431-d5e0-88c9f8eba985"
      },
      "outputs": [
        {
          "data": {
            "text/plain": [
              "array([1, 2, 3])"
            ]
          },
          "execution_count": 101,
          "metadata": {},
          "output_type": "execute_result"
        }
      ],
      "source": [
        "arr2"
      ]
    },
    {
      "cell_type": "code",
      "execution_count": null,
      "id": "9bc73947",
      "metadata": {
        "id": "9bc73947",
        "outputId": "21d89b50-b49c-43e5-b4c1-ff99bc6c862e"
      },
      "outputs": [
        {
          "data": {
            "text/plain": [
              "array([1, 2, 3, 1, 2, 3])"
            ]
          },
          "execution_count": 105,
          "metadata": {},
          "output_type": "execute_result"
        }
      ],
      "source": [
        "np.concatenate([arr1,arr2])"
      ]
    },
    {
      "cell_type": "code",
      "execution_count": null,
      "id": "43e2cdec",
      "metadata": {
        "id": "43e2cdec"
      },
      "outputs": [],
      "source": [
        "arr1= np.arange(6).reshape(2,3)"
      ]
    },
    {
      "cell_type": "code",
      "execution_count": null,
      "id": "453007dd",
      "metadata": {
        "id": "453007dd",
        "outputId": "3c5a968f-0354-4300-c188-0705c053593c"
      },
      "outputs": [
        {
          "data": {
            "text/plain": [
              "array([[0, 1, 2],\n",
              "       [3, 4, 5]])"
            ]
          },
          "execution_count": 108,
          "metadata": {},
          "output_type": "execute_result"
        }
      ],
      "source": [
        "arr1"
      ]
    },
    {
      "cell_type": "code",
      "execution_count": null,
      "id": "fb79f393",
      "metadata": {
        "id": "fb79f393"
      },
      "outputs": [],
      "source": [
        "arr2= np.arange(6,12).reshape(2,3)"
      ]
    },
    {
      "cell_type": "code",
      "execution_count": null,
      "id": "c4f0081e",
      "metadata": {
        "id": "c4f0081e",
        "outputId": "9356963a-e60e-40aa-d0ea-a7bf37cc0cb7"
      },
      "outputs": [
        {
          "data": {
            "text/plain": [
              "array([[ 6,  7,  8],\n",
              "       [ 9, 10, 11]])"
            ]
          },
          "execution_count": 110,
          "metadata": {},
          "output_type": "execute_result"
        }
      ],
      "source": [
        "arr2"
      ]
    },
    {
      "cell_type": "code",
      "execution_count": null,
      "id": "165663f1",
      "metadata": {
        "id": "165663f1",
        "outputId": "df6f622a-fe10-4e04-b76e-703f2d82b1de"
      },
      "outputs": [
        {
          "data": {
            "text/plain": [
              "array([[ 0,  1,  2],\n",
              "       [ 3,  4,  5],\n",
              "       [ 6,  7,  8],\n",
              "       [ 9, 10, 11]])"
            ]
          },
          "execution_count": 111,
          "metadata": {},
          "output_type": "execute_result"
        }
      ],
      "source": [
        "np.concatenate([arr1,arr2])"
      ]
    },
    {
      "cell_type": "code",
      "execution_count": null,
      "id": "caee3bcd",
      "metadata": {
        "id": "caee3bcd",
        "outputId": "d12933ad-e4fc-4a19-a836-4b330aa93caf"
      },
      "outputs": [
        {
          "data": {
            "text/plain": [
              "array([[ 0,  1,  2],\n",
              "       [ 3,  4,  5],\n",
              "       [ 6,  7,  8],\n",
              "       [ 9, 10, 11]])"
            ]
          },
          "execution_count": 113,
          "metadata": {},
          "output_type": "execute_result"
        }
      ],
      "source": [
        "np.vstack((arr1,arr2))"
      ]
    },
    {
      "cell_type": "code",
      "execution_count": null,
      "id": "d0fc85d6",
      "metadata": {
        "id": "d0fc85d6",
        "outputId": "49e9d113-f8c9-4d26-be36-89ffbca6a839"
      },
      "outputs": [
        {
          "data": {
            "text/plain": [
              "array([[ 0,  1,  2,  6,  7,  8],\n",
              "       [ 3,  4,  5,  9, 10, 11]])"
            ]
          },
          "execution_count": 114,
          "metadata": {},
          "output_type": "execute_result"
        }
      ],
      "source": [
        "np.hstack((arr1,arr2))"
      ]
    },
    {
      "cell_type": "code",
      "execution_count": null,
      "id": "7b90c8ad",
      "metadata": {
        "id": "7b90c8ad"
      },
      "outputs": [],
      "source": [
        ""
      ]
    },
    {
      "cell_type": "markdown",
      "id": "3cd12a9c",
      "metadata": {
        "id": "3cd12a9c"
      },
      "source": [
        "# random number generator "
      ]
    },
    {
      "cell_type": "code",
      "execution_count": null,
      "id": "df318a52",
      "metadata": {
        "id": "df318a52",
        "outputId": "0ec0e97d-36ab-4743-931e-985d13625c2a"
      },
      "outputs": [
        {
          "data": {
            "text/plain": [
              "array([[ 1.35281515,  0.30570697,  0.37012004],\n",
              "       [-0.77680231, -0.17485106, -1.02091873],\n",
              "       [-0.20526355,  1.1987457 , -0.70366849],\n",
              "       [ 0.7484218 , -1.60708567,  0.68699543],\n",
              "       [-0.65798834, -0.32548229, -2.54308267]])"
            ]
          },
          "execution_count": 115,
          "metadata": {},
          "output_type": "execute_result"
        }
      ],
      "source": [
        "import numpy as np\n",
        "\n",
        "normal_data = np.random.normal(size=(5,3))\n",
        "normal_data"
      ]
    },
    {
      "cell_type": "markdown",
      "id": "4209f4ce",
      "metadata": {
        "id": "4209f4ce"
      },
      "source": [
        "Compare the speed with python's builtin random module"
      ]
    },
    {
      "cell_type": "code",
      "execution_count": null,
      "id": "da3941d1",
      "metadata": {
        "id": "da3941d1",
        "outputId": "8d761cf4-3309-495f-9c49-20f6541a5621"
      },
      "outputs": [
        {
          "name": "stdout",
          "output_type": "stream",
          "text": [
            "11.8 ms ± 194 µs per loop (mean ± std. dev. of 7 runs, 100 loops each)\n"
          ]
        }
      ],
      "source": [
        "from random import normalvariate\n",
        "\n",
        "n = 10000\n",
        "%timeit [normalvariate(0,1) for _ in range(n)]"
      ]
    },
    {
      "cell_type": "code",
      "execution_count": null,
      "id": "00127945",
      "metadata": {
        "id": "00127945",
        "outputId": "d17e8c84-8648-42d0-90e1-bf0629d97af0"
      },
      "outputs": [
        {
          "name": "stdout",
          "output_type": "stream",
          "text": [
            "370 µs ± 25.6 µs per loop (mean ± std. dev. of 7 runs, 1000 loops each)\n"
          ]
        }
      ],
      "source": [
        "%timeit np.random.normal(size=n)"
      ]
    },
    {
      "cell_type": "markdown",
      "id": "680650fc",
      "metadata": {
        "id": "680650fc"
      },
      "source": [
        "Use seed when we want perticular random vars even if we run it again and again"
      ]
    },
    {
      "cell_type": "code",
      "execution_count": null,
      "id": "cdf678d3",
      "metadata": {
        "id": "cdf678d3",
        "outputId": "299a3456-cb84-4ba3-b92d-d4c578ca2ca1"
      },
      "outputs": [
        {
          "data": {
            "text/plain": [
              "array([4, 7, 7, 1, 9, 5, 8, 1, 1, 8])"
            ]
          },
          "execution_count": 120,
          "metadata": {},
          "output_type": "execute_result"
        }
      ],
      "source": [
        "np.random.seed(5)\n",
        "np.random.randint(1, 10, size=(10))"
      ]
    },
    {
      "cell_type": "code",
      "execution_count": null,
      "id": "6f2a48e1",
      "metadata": {
        "id": "6f2a48e1",
        "outputId": "f54234da-3bdc-46a7-e86a-393641d68d5f"
      },
      "outputs": [
        {
          "data": {
            "text/plain": [
              "array([2, 6, 8, 1, 2, 5, 7, 3, 2, 3])"
            ]
          },
          "execution_count": 121,
          "metadata": {},
          "output_type": "execute_result"
        }
      ],
      "source": [
        "np.random.randint(1, 10, size=(10))"
      ]
    },
    {
      "cell_type": "code",
      "execution_count": null,
      "id": "7d6051af",
      "metadata": {
        "id": "7d6051af",
        "outputId": "8646bdd2-7592-485a-ceb7-95a265bfecf3"
      },
      "outputs": [
        {
          "data": {
            "text/plain": [
              "array([4, 7, 7, 1, 9, 5, 8, 1, 1, 8])"
            ]
          },
          "execution_count": 122,
          "metadata": {},
          "output_type": "execute_result"
        }
      ],
      "source": [
        "np.random.seed(5)\n",
        "np.random.randint(1, 10, size=(10))"
      ]
    },
    {
      "cell_type": "code",
      "execution_count": null,
      "id": "398a5a7c",
      "metadata": {
        "id": "398a5a7c",
        "outputId": "a42988f2-2c3f-46af-8bb8-5fe39fa0c1b6"
      },
      "outputs": [
        {
          "data": {
            "text/plain": [
              "[2, 6, 0, 1, 5]"
            ]
          },
          "execution_count": 124,
          "metadata": {},
          "output_type": "execute_result"
        }
      ],
      "source": [
        "arr = [5,6,2,1,0]\n",
        "np.random.shuffle(arr)\n",
        "arr"
      ]
    },
    {
      "cell_type": "code",
      "execution_count": null,
      "id": "fb7c9359",
      "metadata": {
        "id": "fb7c9359",
        "outputId": "b569cf8b-ff85-44f5-b85f-909f0e7c1a20"
      },
      "outputs": [
        {
          "data": {
            "text/plain": [
              "array([0, 1, 0, 0, 0, 1, 1, 1, 0, 0])"
            ]
          },
          "execution_count": 125,
          "metadata": {},
          "output_type": "execute_result"
        }
      ],
      "source": [
        "np.random.binomial(1, 0.5, size=(10))"
      ]
    },
    {
      "cell_type": "code",
      "execution_count": null,
      "id": "1d74352b",
      "metadata": {
        "id": "1d74352b",
        "outputId": "7ec63d96-b559-4869-d126-d75b78a3171f"
      },
      "outputs": [
        {
          "data": {
            "text/plain": [
              "array([0.25358821, 0.32756395, 0.1441643 , 0.16561286, 0.96393053,\n",
              "       0.96022672, 0.18841466, 0.02430656, 0.20455555, 0.69984361])"
            ]
          },
          "execution_count": 126,
          "metadata": {},
          "output_type": "execute_result"
        }
      ],
      "source": [
        "\n",
        "\n",
        "np.random.uniform(size=(10))\n",
        "\n"
      ]
    },
    {
      "cell_type": "code",
      "execution_count": null,
      "id": "2a005434",
      "metadata": {
        "id": "2a005434"
      },
      "outputs": [],
      "source": [
        ""
      ]
    }
  ],
  "metadata": {
    "kernelspec": {
      "display_name": "Python 3",
      "language": "python",
      "name": "python3"
    },
    "language_info": {
      "codemirror_mode": {
        "name": "ipython",
        "version": 3
      },
      "file_extension": ".py",
      "mimetype": "text/x-python",
      "name": "python",
      "nbconvert_exporter": "python",
      "pygments_lexer": "ipython3",
      "version": "3.8.8"
    },
    "colab": {
      "name": "PythonFirst.ipynb",
      "provenance": [],
      "include_colab_link": true
    }
  },
  "nbformat": 4,
  "nbformat_minor": 5
}