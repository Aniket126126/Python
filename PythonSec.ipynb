{
  "cells": [
    {
      "cell_type": "markdown",
      "metadata": {
        "id": "view-in-github",
        "colab_type": "text"
      },
      "source": [
        "<a href=\"https://colab.research.google.com/github/LeMeASh/Python/blob/main/PythonSec.ipynb\" target=\"_parent\"><img src=\"https://colab.research.google.com/assets/colab-badge.svg\" alt=\"Open In Colab\"/></a>"
      ]
    },
    {
      "cell_type": "code",
      "execution_count": null,
      "id": "a1a5cf3f",
      "metadata": {
        "id": "a1a5cf3f"
      },
      "outputs": [],
      "source": [
        "import numpy as np"
      ]
    },
    {
      "cell_type": "code",
      "execution_count": null,
      "id": "fd6d5ac1",
      "metadata": {
        "id": "fd6d5ac1",
        "outputId": "659d36d2-76f0-4348-a10e-fd1bdf354fc7"
      },
      "outputs": [
        {
          "data": {
            "text/plain": [
              "array([[0, 1, 2, 3, 4]])"
            ]
          },
          "execution_count": 2,
          "metadata": {},
          "output_type": "execute_result"
        }
      ],
      "source": [
        "x = np.arange(5).reshape(1,5)\n",
        "x"
      ]
    },
    {
      "cell_type": "code",
      "execution_count": null,
      "id": "4baf9299",
      "metadata": {
        "id": "4baf9299",
        "outputId": "3ae0404d-046f-45a7-90ec-0e9c2c2f9dd2"
      },
      "outputs": [
        {
          "data": {
            "text/plain": [
              "array([[5, 6, 7, 8, 9]])"
            ]
          },
          "execution_count": 3,
          "metadata": {},
          "output_type": "execute_result"
        }
      ],
      "source": [
        "x + 5"
      ]
    },
    {
      "cell_type": "code",
      "execution_count": null,
      "id": "a460690f",
      "metadata": {
        "id": "a460690f",
        "outputId": "35bade20-bdf4-4f37-81d4-6f1950c165ff"
      },
      "outputs": [
        {
          "data": {
            "text/plain": [
              "array([[ 0,  1,  2,  3],\n",
              "       [ 4,  5,  6,  7],\n",
              "       [ 8,  9, 10, 11],\n",
              "       [12, 13, 14, 15],\n",
              "       [16, 17, 18, 19]])"
            ]
          },
          "execution_count": 4,
          "metadata": {},
          "output_type": "execute_result"
        }
      ],
      "source": [
        "y = np.arange(20).reshape(5,4)\n",
        "\n",
        "y"
      ]
    },
    {
      "cell_type": "code",
      "execution_count": null,
      "id": "d4ace076",
      "metadata": {
        "id": "d4ace076",
        "outputId": "6699b1c4-00c0-402c-819a-bd828d7bfcf8"
      },
      "outputs": [
        {
          "ename": "ValueError",
          "evalue": "operands could not be broadcast together with shapes (1,5) (5,4) ",
          "output_type": "error",
          "traceback": [
            "\u001b[1;31m---------------------------------------------------------------------------\u001b[0m",
            "\u001b[1;31mValueError\u001b[0m                                Traceback (most recent call last)",
            "\u001b[1;32m<ipython-input-5-cd60f97aa77f>\u001b[0m in \u001b[0;36m<module>\u001b[1;34m\u001b[0m\n\u001b[1;32m----> 1\u001b[1;33m \u001b[0mx\u001b[0m \u001b[1;33m+\u001b[0m \u001b[0my\u001b[0m\u001b[1;33m\u001b[0m\u001b[1;33m\u001b[0m\u001b[0m\n\u001b[0m",
            "\u001b[1;31mValueError\u001b[0m: operands could not be broadcast together with shapes (1,5) (5,4) "
          ]
        }
      ],
      "source": [
        "x + y"
      ]
    },
    {
      "cell_type": "markdown",
      "id": "ade7aa24",
      "metadata": {
        "id": "ade7aa24"
      },
      "source": [
        "# Broadcasting rule\n",
        "Arrays can broadcast against each other only if either of their corresponding axis length match or if one of the arrays has axis length of 1"
      ]
    },
    {
      "cell_type": "code",
      "execution_count": null,
      "id": "99944814",
      "metadata": {
        "id": "99944814"
      },
      "outputs": [],
      "source": [
        "a = np.arange(48).reshape((6,1,8))\n",
        "b = np.arange(32).reshape((1,4,8))"
      ]
    },
    {
      "cell_type": "code",
      "execution_count": null,
      "id": "c3d5715f",
      "metadata": {
        "id": "c3d5715f",
        "outputId": "5b2336f8-2c9a-4427-bd85-a9b019bf4ef5"
      },
      "outputs": [
        {
          "data": {
            "text/plain": [
              "array([[[ 0,  1,  2,  3,  4,  5,  6,  7]],\n",
              "\n",
              "       [[ 8,  9, 10, 11, 12, 13, 14, 15]],\n",
              "\n",
              "       [[16, 17, 18, 19, 20, 21, 22, 23]],\n",
              "\n",
              "       [[24, 25, 26, 27, 28, 29, 30, 31]],\n",
              "\n",
              "       [[32, 33, 34, 35, 36, 37, 38, 39]],\n",
              "\n",
              "       [[40, 41, 42, 43, 44, 45, 46, 47]]])"
            ]
          },
          "execution_count": 9,
          "metadata": {},
          "output_type": "execute_result"
        }
      ],
      "source": [
        "a"
      ]
    },
    {
      "cell_type": "code",
      "execution_count": null,
      "id": "732f9cf6",
      "metadata": {
        "id": "732f9cf6",
        "outputId": "80fb46d3-7bb9-4eed-a9cf-8e3c83da41e0"
      },
      "outputs": [
        {
          "data": {
            "text/plain": [
              "array([[[ 0,  1,  2,  3,  4,  5,  6,  7],\n",
              "        [ 8,  9, 10, 11, 12, 13, 14, 15],\n",
              "        [16, 17, 18, 19, 20, 21, 22, 23],\n",
              "        [24, 25, 26, 27, 28, 29, 30, 31]]])"
            ]
          },
          "execution_count": 10,
          "metadata": {},
          "output_type": "execute_result"
        }
      ],
      "source": [
        "b"
      ]
    },
    {
      "cell_type": "code",
      "execution_count": null,
      "id": "176c7b2f",
      "metadata": {
        "id": "176c7b2f",
        "outputId": "1a9ecb7f-eb93-4dd1-c8ae-26b2782bd06d"
      },
      "outputs": [
        {
          "data": {
            "text/plain": [
              "array([[[ 0,  2,  4,  6,  8, 10, 12, 14],\n",
              "        [ 8, 10, 12, 14, 16, 18, 20, 22],\n",
              "        [16, 18, 20, 22, 24, 26, 28, 30],\n",
              "        [24, 26, 28, 30, 32, 34, 36, 38]],\n",
              "\n",
              "       [[ 8, 10, 12, 14, 16, 18, 20, 22],\n",
              "        [16, 18, 20, 22, 24, 26, 28, 30],\n",
              "        [24, 26, 28, 30, 32, 34, 36, 38],\n",
              "        [32, 34, 36, 38, 40, 42, 44, 46]],\n",
              "\n",
              "       [[16, 18, 20, 22, 24, 26, 28, 30],\n",
              "        [24, 26, 28, 30, 32, 34, 36, 38],\n",
              "        [32, 34, 36, 38, 40, 42, 44, 46],\n",
              "        [40, 42, 44, 46, 48, 50, 52, 54]],\n",
              "\n",
              "       [[24, 26, 28, 30, 32, 34, 36, 38],\n",
              "        [32, 34, 36, 38, 40, 42, 44, 46],\n",
              "        [40, 42, 44, 46, 48, 50, 52, 54],\n",
              "        [48, 50, 52, 54, 56, 58, 60, 62]],\n",
              "\n",
              "       [[32, 34, 36, 38, 40, 42, 44, 46],\n",
              "        [40, 42, 44, 46, 48, 50, 52, 54],\n",
              "        [48, 50, 52, 54, 56, 58, 60, 62],\n",
              "        [56, 58, 60, 62, 64, 66, 68, 70]],\n",
              "\n",
              "       [[40, 42, 44, 46, 48, 50, 52, 54],\n",
              "        [48, 50, 52, 54, 56, 58, 60, 62],\n",
              "        [56, 58, 60, 62, 64, 66, 68, 70],\n",
              "        [64, 66, 68, 70, 72, 74, 76, 78]]])"
            ]
          },
          "execution_count": 17,
          "metadata": {},
          "output_type": "execute_result"
        }
      ],
      "source": [
        "c=a+b\n",
        "c"
      ]
    },
    {
      "cell_type": "code",
      "execution_count": null,
      "id": "07024ead",
      "metadata": {
        "id": "07024ead",
        "outputId": "d282e091-e525-40b0-80cf-40ba75c9fc3b"
      },
      "outputs": [
        {
          "data": {
            "text/plain": [
              "(6, 1, 8)"
            ]
          },
          "execution_count": 12,
          "metadata": {},
          "output_type": "execute_result"
        }
      ],
      "source": [
        "a.shape"
      ]
    },
    {
      "cell_type": "code",
      "execution_count": null,
      "id": "b711d227",
      "metadata": {
        "id": "b711d227",
        "outputId": "1c78fd5e-10d6-4b62-9f17-164c0b1bbdf7"
      },
      "outputs": [
        {
          "data": {
            "text/plain": [
              "(1, 4, 8)"
            ]
          },
          "execution_count": 13,
          "metadata": {},
          "output_type": "execute_result"
        }
      ],
      "source": [
        "b.shape"
      ]
    },
    {
      "cell_type": "code",
      "execution_count": null,
      "id": "6386366d",
      "metadata": {
        "id": "6386366d",
        "outputId": "4b288eac-3c3e-466a-bb87-32f7395b74c1"
      },
      "outputs": [
        {
          "data": {
            "text/plain": [
              "(6, 4, 8)"
            ]
          },
          "execution_count": 16,
          "metadata": {},
          "output_type": "execute_result"
        }
      ],
      "source": [
        "c.shape"
      ]
    },
    {
      "cell_type": "code",
      "execution_count": null,
      "id": "d2cb7082",
      "metadata": {
        "id": "d2cb7082",
        "outputId": "c6538102-b937-411a-b26b-66f138bd63f2"
      },
      "outputs": [
        {
          "data": {
            "text/plain": [
              "array([[0, 1, 2]])"
            ]
          },
          "execution_count": 21,
          "metadata": {},
          "output_type": "execute_result"
        }
      ],
      "source": [
        "a1= np.arange(3).reshape(1,3)\n",
        "a1"
      ]
    },
    {
      "cell_type": "code",
      "execution_count": null,
      "id": "a3b7383e",
      "metadata": {
        "id": "a3b7383e",
        "outputId": "9253ac34-e0da-4b09-dcd2-af4e3fdba968"
      },
      "outputs": [
        {
          "data": {
            "text/plain": [
              "(1, 3)"
            ]
          },
          "execution_count": 22,
          "metadata": {},
          "output_type": "execute_result"
        }
      ],
      "source": [
        "a1.shape"
      ]
    },
    {
      "cell_type": "code",
      "execution_count": null,
      "id": "89d24c2c",
      "metadata": {
        "id": "89d24c2c",
        "outputId": "dc0a9827-9db1-438b-a348-b864865d54c0"
      },
      "outputs": [
        {
          "data": {
            "text/plain": [
              "array([[0, 1, 2],\n",
              "       [3, 4, 5],\n",
              "       [6, 7, 8]])"
            ]
          },
          "execution_count": 23,
          "metadata": {},
          "output_type": "execute_result"
        }
      ],
      "source": [
        "a2= np.arange(9).reshape(3,3)\n",
        "a2"
      ]
    },
    {
      "cell_type": "code",
      "execution_count": null,
      "id": "b7cd7cd5",
      "metadata": {
        "id": "b7cd7cd5",
        "outputId": "14c01b4a-a3c9-4f73-9018-0857505169a7"
      },
      "outputs": [
        {
          "data": {
            "text/plain": [
              "array([[ 0,  2,  4],\n",
              "       [ 3,  5,  7],\n",
              "       [ 6,  8, 10]])"
            ]
          },
          "execution_count": 25,
          "metadata": {},
          "output_type": "execute_result"
        }
      ],
      "source": [
        "a3=a1 + a2\n",
        "a3"
      ]
    },
    {
      "cell_type": "code",
      "execution_count": null,
      "id": "6a5760c3",
      "metadata": {
        "id": "6a5760c3"
      },
      "outputs": [],
      "source": [
        ""
      ]
    },
    {
      "cell_type": "code",
      "execution_count": null,
      "id": "320de347",
      "metadata": {
        "id": "320de347"
      },
      "outputs": [],
      "source": [
        ""
      ]
    },
    {
      "cell_type": "code",
      "execution_count": null,
      "id": "2d2c9303",
      "metadata": {
        "id": "2d2c9303",
        "outputId": "f66a3b39-5026-4596-a8bd-c6678bd3faab"
      },
      "outputs": [
        {
          "data": {
            "text/plain": [
              "array([ 1, 11, 21, 31, 41, 51, 61, 71, 81, 91])"
            ]
          },
          "execution_count": 26,
          "metadata": {},
          "output_type": "execute_result"
        }
      ],
      "source": [
        "x = np.arange(1, 100, 10)\n",
        "x"
      ]
    },
    {
      "cell_type": "code",
      "execution_count": null,
      "id": "066d26b3",
      "metadata": {
        "id": "066d26b3",
        "outputId": "15bf2f65-4c0c-44f0-e4bf-9ab93a01a2fc"
      },
      "outputs": [
        {
          "data": {
            "text/plain": [
              "array([   1,  121,  441,  961, 1681, 2601, 3721, 5041, 6561, 8281],\n",
              "      dtype=int32)"
            ]
          },
          "execution_count": 27,
          "metadata": {},
          "output_type": "execute_result"
        }
      ],
      "source": [
        "sq = np.square(x)\n",
        "sq"
      ]
    },
    {
      "cell_type": "code",
      "execution_count": null,
      "id": "cbdb9e77",
      "metadata": {
        "id": "cbdb9e77",
        "outputId": "23ad87c9-08ee-4d6e-ca2f-99891b85264e"
      },
      "outputs": [
        {
          "data": {
            "text/plain": [
              "array([2.71828183e+00, 5.98741417e+04, 1.31881573e+09, 2.90488497e+13,\n",
              "       6.39843494e+17, 1.40934908e+22, 3.10429794e+26, 6.83767123e+30,\n",
              "       1.50609731e+35, 3.31740010e+39])"
            ]
          },
          "execution_count": 28,
          "metadata": {},
          "output_type": "execute_result"
        }
      ],
      "source": [
        "exp = np.exp(x)\n",
        "exp"
      ]
    },
    {
      "cell_type": "code",
      "execution_count": null,
      "id": "de5e1e58",
      "metadata": {
        "id": "de5e1e58",
        "outputId": "321420ca-7fab-4c51-9bc0-9c2bd7f6e7dc"
      },
      "outputs": [
        {
          "data": {
            "text/plain": [
              "array([ 0.84147098, -0.99999021,  0.83665564, -0.40403765, -0.15862267,\n",
              "        0.67022918, -0.96611777,  0.95105465, -0.62988799,  0.10598751])"
            ]
          },
          "execution_count": 29,
          "metadata": {},
          "output_type": "execute_result"
        }
      ],
      "source": [
        "np.sin(x)"
      ]
    },
    {
      "cell_type": "code",
      "execution_count": null,
      "id": "6fdba39e",
      "metadata": {
        "id": "6fdba39e",
        "outputId": "104afb88-09f1-42b6-97cc-92685ae2b40f"
      },
      "outputs": [
        {
          "data": {
            "text/plain": [
              "array([ 1.        ,  1.47368421,  1.94736842,  2.42105263,  2.89473684,\n",
              "        3.36842105,  3.84210526,  4.31578947,  4.78947368,  5.26315789,\n",
              "        5.73684211,  6.21052632,  6.68421053,  7.15789474,  7.63157895,\n",
              "        8.10526316,  8.57894737,  9.05263158,  9.52631579, 10.        ])"
            ]
          },
          "execution_count": 30,
          "metadata": {},
          "output_type": "execute_result"
        }
      ],
      "source": [
        "y = np.linspace(1, 10, 20)\n",
        "y"
      ]
    },
    {
      "cell_type": "code",
      "execution_count": null,
      "id": "c66fa4b9",
      "metadata": {
        "id": "c66fa4b9",
        "outputId": "419ddd00-3b1e-4bfd-c31d-4ebdcb291b04"
      },
      "outputs": [
        {
          "data": {
            "text/plain": [
              "array([ 1.,  2.,  2.,  3.,  3.,  4.,  4.,  5.,  5.,  6.,  6.,  7.,  7.,\n",
              "        8.,  8.,  9.,  9., 10., 10., 10.])"
            ]
          },
          "execution_count": 31,
          "metadata": {},
          "output_type": "execute_result"
        }
      ],
      "source": [
        "np.ceil(y)"
      ]
    },
    {
      "cell_type": "code",
      "execution_count": null,
      "id": "7c764455",
      "metadata": {
        "id": "7c764455",
        "outputId": "1f64be66-2d95-4c61-fae2-b4dd25679bf1"
      },
      "outputs": [
        {
          "data": {
            "text/plain": [
              "array([ 1.,  1.,  1.,  2.,  2.,  3.,  3.,  4.,  4.,  5.,  5.,  6.,  6.,\n",
              "        7.,  7.,  8.,  8.,  9.,  9., 10.])"
            ]
          },
          "execution_count": 32,
          "metadata": {},
          "output_type": "execute_result"
        }
      ],
      "source": [
        "np.floor(y)"
      ]
    },
    {
      "cell_type": "markdown",
      "id": "b3501cd4",
      "metadata": {
        "id": "b3501cd4"
      },
      "source": [
        "Binary universal functions"
      ]
    },
    {
      "cell_type": "code",
      "execution_count": null,
      "id": "b459a9d7",
      "metadata": {
        "id": "b459a9d7",
        "outputId": "6b72157d-4943-4119-a285-4623329357d8"
      },
      "outputs": [
        {
          "name": "stdout",
          "output_type": "stream",
          "text": [
            "[57 64 29 65 40 95 23 69 90 27]\n",
            "[78 42 75 44 39 72 60 21 87 21]\n"
          ]
        }
      ],
      "source": [
        "sub1_scores = np.random.randint(20, 100, size=(10))\n",
        "sub2_scores = np.random.randint(20, 100, size=(10))\n",
        "\n",
        "print(sub1_scores)\n",
        "print(sub2_scores)"
      ]
    },
    {
      "cell_type": "code",
      "execution_count": null,
      "id": "82db8f4d",
      "metadata": {
        "id": "82db8f4d",
        "outputId": "80215d06-80b1-4202-d395-d438c227e0fe"
      },
      "outputs": [
        {
          "data": {
            "text/plain": [
              "array([135, 106, 104, 109,  79, 167,  83,  90, 177,  48])"
            ]
          },
          "execution_count": 34,
          "metadata": {},
          "output_type": "execute_result"
        }
      ],
      "source": [
        "total_score = np.add(sub1_scores, sub2_scores)\n",
        "total_score"
      ]
    },
    {
      "cell_type": "code",
      "execution_count": null,
      "id": "245c5f00",
      "metadata": {
        "id": "245c5f00",
        "outputId": "46dfb408-a301-4ac1-db85-fa837b08e3e4"
      },
      "outputs": [
        {
          "data": {
            "text/plain": [
              "array([78, 64, 75, 65, 40, 95, 60, 69, 90, 27])"
            ]
          },
          "execution_count": 35,
          "metadata": {},
          "output_type": "execute_result"
        }
      ],
      "source": [
        "best_score_out_of_two = np.maximum(sub1_scores, sub2_scores)\n",
        "\n",
        "best_score_out_of_two"
      ]
    },
    {
      "cell_type": "code",
      "execution_count": null,
      "id": "016bc309",
      "metadata": {
        "id": "016bc309",
        "outputId": "c44f6510-8d73-4124-ac21-02316d4a4224"
      },
      "outputs": [
        {
          "data": {
            "text/plain": [
              "array([        1,         4,        27,       256,      3125,     46656,\n",
              "          823543,  16777216, 387420489], dtype=int32)"
            ]
          },
          "execution_count": 36,
          "metadata": {},
          "output_type": "execute_result"
        }
      ],
      "source": [
        "base_arr = np.arange(1, 10)\n",
        "power_arr = np.arange(1, 10)\n",
        "ans = np.power(base_arr, power_arr)\n",
        "ans"
      ]
    },
    {
      "cell_type": "markdown",
      "id": "026c2e42",
      "metadata": {
        "id": "026c2e42"
      },
      "source": [
        "Making a non-vectorized function vectorized"
      ]
    },
    {
      "cell_type": "code",
      "execution_count": null,
      "id": "42a9d772",
      "metadata": {
        "id": "42a9d772",
        "outputId": "d1dd9e6a-f09c-4851-9f47-027b17aa5523"
      },
      "outputs": [
        {
          "data": {
            "text/plain": [
              "120"
            ]
          },
          "execution_count": 37,
          "metadata": {},
          "output_type": "execute_result"
        }
      ],
      "source": [
        "from math import factorial\n",
        "\n",
        "a = 5\n",
        "factorial(a)"
      ]
    },
    {
      "cell_type": "code",
      "execution_count": null,
      "id": "abefd5be",
      "metadata": {
        "id": "abefd5be",
        "outputId": "a9d885dc-7662-43e3-f2ce-90f9d8abb31a"
      },
      "outputs": [
        {
          "ename": "TypeError",
          "evalue": "only integer scalar arrays can be converted to a scalar index",
          "output_type": "error",
          "traceback": [
            "\u001b[1;31m---------------------------------------------------------------------------\u001b[0m",
            "\u001b[1;31mTypeError\u001b[0m                                 Traceback (most recent call last)",
            "\u001b[1;32m<ipython-input-38-6fc1a09f1a9f>\u001b[0m in \u001b[0;36m<module>\u001b[1;34m\u001b[0m\n\u001b[0;32m      1\u001b[0m \u001b[0mx\u001b[0m \u001b[1;33m=\u001b[0m \u001b[0mnp\u001b[0m\u001b[1;33m.\u001b[0m\u001b[0marange\u001b[0m\u001b[1;33m(\u001b[0m\u001b[1;36m1\u001b[0m\u001b[1;33m,\u001b[0m \u001b[1;36m6\u001b[0m\u001b[1;33m)\u001b[0m\u001b[1;33m\u001b[0m\u001b[1;33m\u001b[0m\u001b[0m\n\u001b[1;32m----> 2\u001b[1;33m \u001b[0mfactorial\u001b[0m\u001b[1;33m(\u001b[0m\u001b[0mx\u001b[0m\u001b[1;33m)\u001b[0m\u001b[1;33m\u001b[0m\u001b[1;33m\u001b[0m\u001b[0m\n\u001b[0m",
            "\u001b[1;31mTypeError\u001b[0m: only integer scalar arrays can be converted to a scalar index"
          ]
        }
      ],
      "source": [
        "x = np.arange(1, 6)\n",
        "factorial(x)"
      ]
    },
    {
      "cell_type": "code",
      "execution_count": null,
      "id": "d5e28730",
      "metadata": {
        "id": "d5e28730",
        "outputId": "f062acdb-8e48-4cc2-9bc7-3e164d90bdb1"
      },
      "outputs": [
        {
          "name": "stdout",
          "output_type": "stream",
          "text": [
            "[1 2 3 4 5]\n",
            "[  1   2   6  24 120]\n"
          ]
        }
      ],
      "source": [
        "vec_fact = np.vectorize(factorial)\n",
        "\n",
        "print(x)\n",
        "print(vec_fact(x))"
      ]
    },
    {
      "cell_type": "code",
      "execution_count": null,
      "id": "d94550df",
      "metadata": {
        "id": "d94550df"
      },
      "outputs": [],
      "source": [
        ""
      ]
    }
  ],
  "metadata": {
    "kernelspec": {
      "display_name": "Python 3",
      "language": "python",
      "name": "python3"
    },
    "language_info": {
      "codemirror_mode": {
        "name": "ipython",
        "version": 3
      },
      "file_extension": ".py",
      "mimetype": "text/x-python",
      "name": "python",
      "nbconvert_exporter": "python",
      "pygments_lexer": "ipython3",
      "version": "3.8.8"
    },
    "colab": {
      "name": "PythonSec.ipynb",
      "provenance": [],
      "include_colab_link": true
    }
  },
  "nbformat": 4,
  "nbformat_minor": 5
}