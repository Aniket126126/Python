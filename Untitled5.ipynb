{
  "nbformat": 4,
  "nbformat_minor": 0,
  "metadata": {
    "colab": {
      "provenance": [],
      "authorship_tag": "ABX9TyN7vpDGP74MWvS7cxRruhjY",
      "include_colab_link": true
    },
    "kernelspec": {
      "name": "python3",
      "display_name": "Python 3"
    },
    "language_info": {
      "name": "python"
    }
  },
  "cells": [
    {
      "cell_type": "markdown",
      "metadata": {
        "id": "view-in-github",
        "colab_type": "text"
      },
      "source": [
        "<a href=\"https://colab.research.google.com/github/Aniket126126/Python/blob/main/Untitled5.ipynb\" target=\"_parent\"><img src=\"https://colab.research.google.com/assets/colab-badge.svg\" alt=\"Open In Colab\"/></a>"
      ]
    },
    {
      "cell_type": "markdown",
      "source": [
        "Extra Python Practice Feb 22"
      ],
      "metadata": {
        "id": "RXjb6-JVfv7w"
      }
    },
    {
      "cell_type": "code",
      "source": [
        "import numpy as np\n",
        "arr=np.array([1,2,4,6,4])\n"
      ],
      "metadata": {
        "id": "dBlDlDylke4-"
      },
      "execution_count": 16,
      "outputs": []
    },
    {
      "cell_type": "code",
      "source": [
        "arr1\n"
      ],
      "metadata": {
        "colab": {
          "base_uri": "https://localhost:8080/"
        },
        "id": "L101TS3ZlpKC",
        "outputId": "91693461-7a2d-4bb8-914f-83b97a2f68f5"
      },
      "execution_count": null,
      "outputs": [
        {
          "output_type": "execute_result",
          "data": {
            "text/plain": [
              "array([[0, 1, 2],\n",
              "       [3, 4, 5],\n",
              "       [6, 7, 8]])"
            ]
          },
          "metadata": {},
          "execution_count": 3
        }
      ]
    },
    {
      "cell_type": "code",
      "source": [
        "arr1=np.arange(9).reshape(3,3)"
      ],
      "metadata": {
        "id": "jFc7hw2Ukq1J"
      },
      "execution_count": null,
      "outputs": []
    },
    {
      "cell_type": "code",
      "source": [
        "beta_list = [\"apple\", \"banana\", \"orange\"]\n",
        "beta_list.insert(2,\"grape\")\n",
        "print(beta_list)"
      ],
      "metadata": {
        "colab": {
          "base_uri": "https://localhost:8080/"
        },
        "id": "LAPcw07elqDF",
        "outputId": "b6e6b7bb-a112-4127-b56c-640d8bbfda05"
      },
      "execution_count": null,
      "outputs": [
        {
          "output_type": "stream",
          "name": "stdout",
          "text": [
            "['apple', 'banana', 'grape', 'orange']\n"
          ]
        }
      ]
    },
    {
      "cell_type": "code",
      "source": [
        "my_list2 = [\"a\", \"b\", \"c\"]"
      ],
      "metadata": {
        "id": "oVZQCrZsoB3H"
      },
      "execution_count": null,
      "outputs": []
    },
    {
      "cell_type": "code",
      "source": [
        "list= [\"APlle\",\"Bababna\",\"Orange\"]"
      ],
      "metadata": {
        "id": "TigV4jSloLs0"
      },
      "execution_count": null,
      "outputs": []
    },
    {
      "cell_type": "code",
      "source": [
        "list"
      ],
      "metadata": {
        "colab": {
          "base_uri": "https://localhost:8080/"
        },
        "id": "eZfypHRgohtB",
        "outputId": "0c5e7375-5c8a-4cb8-a956-e6e89fc5f05f"
      },
      "execution_count": null,
      "outputs": [
        {
          "output_type": "execute_result",
          "data": {
            "text/plain": [
              "['APlle', 'Bababna', 'Orange']"
            ]
          },
          "metadata": {},
          "execution_count": 10
        }
      ]
    },
    {
      "cell_type": "code",
      "source": [
        "for x in range(1,4):\n",
        "    beta_list += ['fruit']\n",
        "print(beta_list)"
      ],
      "metadata": {
        "colab": {
          "base_uri": "https://localhost:8080/"
        },
        "id": "Q9lKkBwyokI7",
        "outputId": "b6b869be-b479-4661-bf8b-bf089dd1f6ae"
      },
      "execution_count": null,
      "outputs": [
        {
          "output_type": "stream",
          "name": "stdout",
          "text": [
            "['apple', 'banana', 'grape', 'orange', 'fruit', 'fruit', 'fruit']\n"
          ]
        }
      ]
    },
    {
      "cell_type": "code",
      "source": [
        "beta_list = [\"apple\", \"banana\", \"orange\"]\n",
        "beta_list = beta_list.copy()\n",
        "print(beta_list)"
      ],
      "metadata": {
        "colab": {
          "base_uri": "https://localhost:8080/"
        },
        "id": "BHrT4m9zpOmJ",
        "outputId": "3930360d-44cd-421d-ea5b-11b84255b814"
      },
      "execution_count": null,
      "outputs": [
        {
          "output_type": "stream",
          "name": "stdout",
          "text": [
            "['apple', 'banana', 'orange']\n"
          ]
        }
      ]
    },
    {
      "cell_type": "code",
      "source": [
        "list1=np.arange(10)"
      ],
      "metadata": {
        "id": "7ZHXq7iVr23r"
      },
      "execution_count": 17,
      "outputs": []
    },
    {
      "cell_type": "code",
      "source": [
        "list2= np.arange(12)"
      ],
      "metadata": {
        "id": "rJVm3Jp0O4of"
      },
      "execution_count": 18,
      "outputs": []
    },
    {
      "cell_type": "code",
      "source": [
        "list1"
      ],
      "metadata": {
        "colab": {
          "base_uri": "https://localhost:8080/"
        },
        "id": "RUoYFO0PPAFS",
        "outputId": "0c18d98e-168c-41e4-b155-097731d3f043"
      },
      "execution_count": 19,
      "outputs": [
        {
          "output_type": "execute_result",
          "data": {
            "text/plain": [
              "array([0, 1, 2, 3, 4, 5, 6, 7, 8, 9])"
            ]
          },
          "metadata": {},
          "execution_count": 19
        }
      ]
    },
    {
      "cell_type": "markdown",
      "source": [
        " Seperate text from words or letters in the list"
      ],
      "metadata": {
        "id": "9z3dJbhKZIol"
      }
    },
    {
      "cell_type": "code",
      "source": [
        "import math"
      ],
      "metadata": {
        "id": "olYQkXmNPBET"
      },
      "execution_count": 20,
      "outputs": []
    },
    {
      "cell_type": "code",
      "source": [
        "list1=[3,5,3,2,6,8,'a','c',16]\n"
      ],
      "metadata": {
        "id": "MdWEb0g2-TzE"
      },
      "execution_count": 24,
      "outputs": []
    },
    {
      "cell_type": "code",
      "source": [
        "list1"
      ],
      "metadata": {
        "id": "yvY25rtG-pAD"
      },
      "execution_count": null,
      "outputs": []
    },
    {
      "cell_type": "code",
      "source": [
        "list3= [  x for x in list1 if isinstance(x,int)]"
      ],
      "metadata": {
        "id": "QTHoF_NuPCev"
      },
      "execution_count": 30,
      "outputs": []
    },
    {
      "cell_type": "code",
      "source": [
        "list3\n"
      ],
      "metadata": {
        "colab": {
          "base_uri": "https://localhost:8080/"
        },
        "id": "1mUIgxWVPTGF",
        "outputId": "d10dbc5a-a1a0-4807-aa1e-27042efdaf93"
      },
      "execution_count": 31,
      "outputs": [
        {
          "output_type": "execute_result",
          "data": {
            "text/plain": [
              "[3, 5, 3, 2, 6, 8, 16]"
            ]
          },
          "metadata": {},
          "execution_count": 31
        }
      ]
    },
    {
      "cell_type": "code",
      "source": [
        "list4= [  math.sqrt(x) for x in list3 if x%2==0]\n",
        "list4"
      ],
      "metadata": {
        "colab": {
          "base_uri": "https://localhost:8080/"
        },
        "id": "cRXHYxfeYkHr",
        "outputId": "b47af8f9-dd61-40fe-9776-82de8f9a419f"
      },
      "execution_count": 33,
      "outputs": [
        {
          "output_type": "execute_result",
          "data": {
            "text/plain": [
              "[1.4142135623730951, 2.449489742783178, 2.8284271247461903, 4.0]"
            ]
          },
          "metadata": {},
          "execution_count": 33
        }
      ]
    },
    {
      "cell_type": "markdown",
      "source": [
        "Different Scenario"
      ],
      "metadata": {
        "id": "x5hn3eA1aRx-"
      }
    },
    {
      "cell_type": "code",
      "source": [
        "mylist=['1','orange','2','3','4','apple']"
      ],
      "metadata": {
        "id": "jdNPYncOZlZA"
      },
      "execution_count": 34,
      "outputs": []
    },
    {
      "cell_type": "code",
      "source": [
        "mynewlist = [s for s in mylist if s.isdigit()]\n",
        "mynewlist"
      ],
      "metadata": {
        "colab": {
          "base_uri": "https://localhost:8080/"
        },
        "id": "lmAQItHXZlk0",
        "outputId": "fef0874b-bb8b-44a8-e6ca-2574e7544630"
      },
      "execution_count": 37,
      "outputs": [
        {
          "output_type": "execute_result",
          "data": {
            "text/plain": [
              "['1', '2', '3', '4']"
            ]
          },
          "metadata": {},
          "execution_count": 37
        }
      ]
    },
    {
      "cell_type": "code",
      "source": [
        "[x for x in mylist if x.isdigit()]\n"
      ],
      "metadata": {
        "colab": {
          "base_uri": "https://localhost:8080/"
        },
        "id": "g_b188UXaBbc",
        "outputId": "a7f276b5-8ae0-4581-c114-2209fdd29664"
      },
      "execution_count": 38,
      "outputs": [
        {
          "output_type": "execute_result",
          "data": {
            "text/plain": [
              "['1', '2', '3', '4']"
            ]
          },
          "metadata": {},
          "execution_count": 38
        }
      ]
    },
    {
      "cell_type": "code",
      "source": [
        "#OR this method can be used using exception handling\n",
        "new_list = []\n",
        "for value in mylist:\n",
        "    try:\n",
        "        new_list.append(int(value))\n",
        "    except ValueError:\n",
        "        continue"
      ],
      "metadata": {
        "id": "XoDobEXCaBkf"
      },
      "execution_count": 40,
      "outputs": []
    },
    {
      "cell_type": "code",
      "source": [
        "new_list"
      ],
      "metadata": {
        "colab": {
          "base_uri": "https://localhost:8080/"
        },
        "id": "cVj8G1l9aBoB",
        "outputId": "5b1f9c27-f537-49b2-b4f2-ae1fc1bbb0da"
      },
      "execution_count": 42,
      "outputs": [
        {
          "output_type": "execute_result",
          "data": {
            "text/plain": [
              "[1, 2, 3, 4]"
            ]
          },
          "metadata": {},
          "execution_count": 42
        }
      ]
    },
    {
      "cell_type": "code",
      "source": [
        "list3= [  x for x in list1 if x % 2 == 0 and x for x in list2 if x%2 == 0]"
      ],
      "metadata": {
        "id": "4TGBb-qvPYjw"
      },
      "execution_count": null,
      "outputs": []
    },
    {
      "cell_type": "code",
      "source": [
        "list3"
      ],
      "metadata": {
        "colab": {
          "base_uri": "https://localhost:8080/"
        },
        "id": "D4ik_S9zPeGH",
        "outputId": "c92d8a08-e651-4b64-cc38-4b849510344c"
      },
      "execution_count": null,
      "outputs": [
        {
          "output_type": "execute_result",
          "data": {
            "text/plain": [
              "[0, 2, 4, 6, 8, 10, 0, 2, 4, 6, 8, 10, 0, 2, 4, 6, 8, 10, 0, 2, 4, 6, 8, 10]"
            ]
          },
          "metadata": {},
          "execution_count": 13
        }
      ]
    },
    {
      "cell_type": "code",
      "source": [
        "def split(mix):\n",
        "  even = []\n",
        "  odd = []\n",
        "  for i in mix:\n",
        "    if (i % 2 == 0):\n",
        "      even.append(i)\n",
        "    else :\n",
        "      odd.append(i)\n",
        "  print(\"Even List: \",even)\n",
        "  print(\"Odd List: \",odd)\n",
        "\n",
        "\n",
        "split(list1)\n"
      ],
      "metadata": {
        "colab": {
          "base_uri": "https://localhost:8080/"
        },
        "id": "35gEv3s3Pngc",
        "outputId": "064037c5-5e6f-4657-d1f2-66d53fc0d37b"
      },
      "execution_count": null,
      "outputs": [
        {
          "output_type": "stream",
          "name": "stdout",
          "text": [
            "Even List:  [0, 2, 4, 6, 8]\n",
            "Odd List:  [1, 3, 5, 7, 9]\n"
          ]
        }
      ]
    },
    {
      "cell_type": "code",
      "source": [
        "def evenAdd(list1):\n",
        "  add=0\n",
        "  for i in list1:\n",
        "    if (i % 2 == 0):\n",
        "      add += i\n",
        "  return add\n",
        "evenAdd(list1) + evenAdd(list2)\n"
      ],
      "metadata": {
        "colab": {
          "base_uri": "https://localhost:8080/"
        },
        "id": "mQxi62rIU7px",
        "outputId": "c0a74e9d-3f60-40c0-a206-43b7dfbb6feb"
      },
      "execution_count": null,
      "outputs": [
        {
          "output_type": "execute_result",
          "data": {
            "text/plain": [
              "50"
            ]
          },
          "metadata": {},
          "execution_count": 18
        }
      ]
    },
    {
      "cell_type": "code",
      "source": [
        "def SumEvenNum(list1,list2):\n",
        "  even1=[x for x in list1 if x%2==0]\n",
        "  even2=[x for x in list2 if x%2==0]\n",
        "  return sum(even1)+sum(even2)\n",
        "SumEvenNum(list1,list2)"
      ],
      "metadata": {
        "colab": {
          "base_uri": "https://localhost:8080/"
        },
        "id": "zvH7LYfsWiHx",
        "outputId": "a718907e-1753-4180-ff3c-2b191267f7ca"
      },
      "execution_count": null,
      "outputs": [
        {
          "output_type": "execute_result",
          "data": {
            "text/plain": [
              "50"
            ]
          },
          "metadata": {},
          "execution_count": 20
        }
      ]
    },
    {
      "cell_type": "code",
      "source": [
        "list1[::-1]"
      ],
      "metadata": {
        "colab": {
          "base_uri": "https://localhost:8080/"
        },
        "id": "8OKYNvHZaaEl",
        "outputId": "e007dd7b-19b9-432d-a99c-a374c2e5d0f9"
      },
      "execution_count": null,
      "outputs": [
        {
          "output_type": "execute_result",
          "data": {
            "text/plain": [
              "array([9, 8, 7, 6, 5, 4, 3, 2, 1, 0])"
            ]
          },
          "metadata": {},
          "execution_count": 21
        }
      ]
    },
    {
      "cell_type": "code",
      "source": [
        "list1[::1]"
      ],
      "metadata": {
        "colab": {
          "base_uri": "https://localhost:8080/"
        },
        "id": "fk8SuCXXbqkH",
        "outputId": "b3607406-1178-4eda-b4b9-fc9a76af4c8d"
      },
      "execution_count": null,
      "outputs": [
        {
          "output_type": "execute_result",
          "data": {
            "text/plain": [
              "array([0, 1, 2, 3, 4, 5, 6, 7, 8, 9])"
            ]
          },
          "metadata": {},
          "execution_count": 22
        }
      ]
    },
    {
      "cell_type": "code",
      "source": [
        "list1[1:3]"
      ],
      "metadata": {
        "colab": {
          "base_uri": "https://localhost:8080/"
        },
        "id": "rgwX9zEmbuE_",
        "outputId": "3b07b174-ea23-4b65-c628-7ef99e0cb176"
      },
      "execution_count": null,
      "outputs": [
        {
          "output_type": "execute_result",
          "data": {
            "text/plain": [
              "array([1, 2])"
            ]
          },
          "metadata": {},
          "execution_count": 23
        }
      ]
    },
    {
      "cell_type": "code",
      "source": [
        "list1[1:-1:2]"
      ],
      "metadata": {
        "colab": {
          "base_uri": "https://localhost:8080/"
        },
        "id": "T5yBhzfAcz9w",
        "outputId": "439c19bc-3112-42bf-cc28-92be8b0af16f"
      },
      "execution_count": null,
      "outputs": [
        {
          "output_type": "execute_result",
          "data": {
            "text/plain": [
              "array([1, 3, 5, 7])"
            ]
          },
          "metadata": {},
          "execution_count": 37
        }
      ]
    },
    {
      "cell_type": "code",
      "source": [
        "print(10 / 3)   # Output: 3.3333333333333335 (true division)\n",
        "print(10 // 3)  # Output: 3 (floor division)"
      ],
      "metadata": {
        "id": "gtygDAC7c7nh",
        "colab": {
          "base_uri": "https://localhost:8080/"
        },
        "outputId": "c1ac1fe5-7ccd-4106-829c-88811b4daf0a"
      },
      "execution_count": 43,
      "outputs": [
        {
          "output_type": "stream",
          "name": "stdout",
          "text": [
            "3.3333333333333335\n",
            "3\n"
          ]
        }
      ]
    },
    {
      "cell_type": "code",
      "source": [],
      "metadata": {
        "id": "9RGAO7yicaRS"
      },
      "execution_count": null,
      "outputs": []
    },
    {
      "cell_type": "markdown",
      "source": [
        "In Python, sets and dictionaries are both collections used to store data, but they serve different purposes and have distinct characteristics. Here's a detailed comparison:\n",
        "1. Purpose\n",
        "\n",
        "    Set:\n",
        "        A collection of unique, unordered elements.\n",
        "        Used for membership testing, removing duplicates, and mathematical set operations (union, intersection, etc.).\n",
        "\n",
        "    Dictionary:\n",
        "        A collection of key-value pairs.\n",
        "        Used to store data that can be quickly retrieved using keys."
      ],
      "metadata": {
        "id": "1LaovkJdcrlP"
      }
    },
    {
      "cell_type": "code",
      "source": [
        "my_set = {1, 2, 3}  # Curly braces with only values\n",
        "empty_set = set()  # Use `set()` to create an empty set"
      ],
      "metadata": {
        "id": "PRF79sgMcthR"
      },
      "execution_count": 44,
      "outputs": []
    },
    {
      "cell_type": "code",
      "source": [
        "my_dict = {\"a\": 1, \"b\": 2, \"c\": 3}  # Curly braces with key-value pairs\n",
        "empty_dict = {}  # An empty `{}` creates a dictionary\n"
      ],
      "metadata": {
        "id": "mYOAaX-hc-Wj"
      },
      "execution_count": 45,
      "outputs": []
    },
    {
      "cell_type": "code",
      "source": [
        "# Create a set\n",
        "my_set = {1, 2, 3, 4}\n",
        "\n",
        "# Add elements\n",
        "my_set.add(5)\n",
        "\n",
        "# Remove duplicates\n",
        "unique_elements = set([1, 2, 2, 3])\n",
        "\n",
        "# Membership testing\n",
        "print(3 in my_set)  # True\n",
        "\n",
        "# Set operations\n",
        "set_a = {1, 2, 3}\n",
        "set_b = {3, 4, 5}\n",
        "print(set_a | set_b)  # Union: {1, 2, 3, 4, 5}\n",
        "print(set_a & set_b)  # Intersection: {3}\n"
      ],
      "metadata": {
        "colab": {
          "base_uri": "https://localhost:8080/"
        },
        "id": "MRnWCxX4c-4R",
        "outputId": "14cbce72-b54b-4d83-b709-3c85ab42996e"
      },
      "execution_count": 46,
      "outputs": [
        {
          "output_type": "stream",
          "name": "stdout",
          "text": [
            "True\n",
            "{1, 2, 3, 4, 5}\n",
            "{3}\n"
          ]
        }
      ]
    },
    {
      "cell_type": "code",
      "source": [],
      "metadata": {
        "id": "aiKvod49e5Y6"
      },
      "execution_count": null,
      "outputs": []
    }
  ]
}