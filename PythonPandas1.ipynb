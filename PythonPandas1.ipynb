{
  "cells": [
    {
      "cell_type": "markdown",
      "metadata": {
        "id": "view-in-github",
        "colab_type": "text"
      },
      "source": [
        "<a href=\"https://colab.research.google.com/github/LeMeASh/Python/blob/main/PythonPandas1.ipynb\" target=\"_parent\"><img src=\"https://colab.research.google.com/assets/colab-badge.svg\" alt=\"Open In Colab\"/></a>"
      ]
    },
    {
      "cell_type": "code",
      "execution_count": null,
      "id": "e5ca50e4",
      "metadata": {
        "id": "e5ca50e4"
      },
      "outputs": [],
      "source": [
        "import numpy as np\n",
        "import pandas as pd"
      ]
    },
    {
      "cell_type": "code",
      "execution_count": null,
      "id": "0b8b2ac0",
      "metadata": {
        "id": "0b8b2ac0"
      },
      "outputs": [],
      "source": [
        "series= pd.Series([20,30,40,50,10])"
      ]
    },
    {
      "cell_type": "code",
      "execution_count": null,
      "id": "e79eb57d",
      "metadata": {
        "id": "e79eb57d",
        "outputId": "3b9aa57b-531d-475d-b542-67df703fb994"
      },
      "outputs": [
        {
          "data": {
            "text/plain": [
              "0    20\n",
              "1    30\n",
              "2    40\n",
              "3    50\n",
              "4    10\n",
              "dtype: int64"
            ]
          },
          "execution_count": 3,
          "metadata": {},
          "output_type": "execute_result"
        }
      ],
      "source": [
        "series"
      ]
    },
    {
      "cell_type": "code",
      "execution_count": null,
      "id": "b4ec9eae",
      "metadata": {
        "id": "b4ec9eae",
        "outputId": "1c63dbd1-d977-4bff-a4b4-31d2da501688"
      },
      "outputs": [
        {
          "data": {
            "text/plain": [
              "pandas.core.series.Series"
            ]
          },
          "execution_count": 5,
          "metadata": {},
          "output_type": "execute_result"
        }
      ],
      "source": [
        "type(series)"
      ]
    },
    {
      "cell_type": "code",
      "execution_count": null,
      "id": "1241531d",
      "metadata": {
        "id": "1241531d",
        "outputId": "06f88d49-81fe-46dd-d6d2-b7f4b15e0098"
      },
      "outputs": [
        {
          "data": {
            "text/plain": [
              "RangeIndex(start=0, stop=5, step=1)"
            ]
          },
          "execution_count": 6,
          "metadata": {},
          "output_type": "execute_result"
        }
      ],
      "source": [
        "series.index"
      ]
    },
    {
      "cell_type": "code",
      "execution_count": null,
      "id": "d9d9f751",
      "metadata": {
        "id": "d9d9f751",
        "outputId": "e86e8a0a-de3e-4e55-9fbd-84c1a6008d23"
      },
      "outputs": [
        {
          "data": {
            "text/plain": [
              "array([20, 30, 40, 50, 10], dtype=int64)"
            ]
          },
          "execution_count": 7,
          "metadata": {},
          "output_type": "execute_result"
        }
      ],
      "source": [
        "series.values"
      ]
    },
    {
      "cell_type": "code",
      "execution_count": null,
      "id": "e665c935",
      "metadata": {
        "id": "e665c935",
        "outputId": "088d7e0a-4cc4-4ed6-c4b6-4d6fd1041513"
      },
      "outputs": [
        {
          "data": {
            "text/plain": [
              "numpy.ndarray"
            ]
          },
          "execution_count": 8,
          "metadata": {},
          "output_type": "execute_result"
        }
      ],
      "source": [
        "type(series.values)"
      ]
    },
    {
      "cell_type": "code",
      "execution_count": null,
      "id": "753bb240",
      "metadata": {
        "id": "753bb240"
      },
      "outputs": [],
      "source": [
        "scores = pd.Series([100, 200, 300, 400, 500],\n",
        "                  index=['s1', 's2', 's3', 's4', 's5'])"
      ]
    },
    {
      "cell_type": "code",
      "execution_count": null,
      "id": "8314de1b",
      "metadata": {
        "id": "8314de1b",
        "outputId": "3017450a-e31f-41d8-dfed-fc1d9cc2c4fe"
      },
      "outputs": [
        {
          "data": {
            "text/plain": [
              "s1    100\n",
              "s2    200\n",
              "s3    300\n",
              "s4    400\n",
              "s5    500\n",
              "dtype: int64"
            ]
          },
          "execution_count": 12,
          "metadata": {},
          "output_type": "execute_result"
        }
      ],
      "source": [
        "scores"
      ]
    },
    {
      "cell_type": "code",
      "execution_count": null,
      "id": "b2c91723",
      "metadata": {
        "id": "b2c91723",
        "outputId": "6d4789e6-b972-4c7a-d1f4-cb7edfa622d0"
      },
      "outputs": [
        {
          "data": {
            "text/plain": [
              "200"
            ]
          },
          "execution_count": 13,
          "metadata": {},
          "output_type": "execute_result"
        }
      ],
      "source": [
        "scores[\"s2\"]"
      ]
    },
    {
      "cell_type": "code",
      "execution_count": null,
      "id": "f73d5df8",
      "metadata": {
        "id": "f73d5df8",
        "outputId": "e0961dcc-370e-41af-92a6-b71d85ec36aa"
      },
      "outputs": [
        {
          "data": {
            "text/plain": [
              "300"
            ]
          },
          "execution_count": 15,
          "metadata": {},
          "output_type": "execute_result"
        }
      ],
      "source": [
        "scores[\"s3\"]"
      ]
    },
    {
      "cell_type": "code",
      "execution_count": null,
      "id": "cea1f3eb",
      "metadata": {
        "id": "cea1f3eb",
        "outputId": "160b3044-e727-4012-db5d-bf9f5e750233"
      },
      "outputs": [
        {
          "data": {
            "text/plain": [
              "s1     True\n",
              "s2     True\n",
              "s3    False\n",
              "s4    False\n",
              "s5    False\n",
              "dtype: bool"
            ]
          },
          "execution_count": 16,
          "metadata": {},
          "output_type": "execute_result"
        }
      ],
      "source": [
        "scores<250"
      ]
    },
    {
      "cell_type": "code",
      "execution_count": null,
      "id": "7de817d8",
      "metadata": {
        "id": "7de817d8",
        "outputId": "99ed5718-1fe4-4a10-af36-72b21b552b06"
      },
      "outputs": [
        {
          "data": {
            "text/plain": [
              "s3    300\n",
              "s4    400\n",
              "s5    500\n",
              "dtype: int64"
            ]
          },
          "execution_count": 17,
          "metadata": {},
          "output_type": "execute_result"
        }
      ],
      "source": [
        "scores[scores>250]"
      ]
    },
    {
      "cell_type": "code",
      "execution_count": null,
      "id": "759d50cf",
      "metadata": {
        "id": "759d50cf",
        "outputId": "6c1ecf8d-e63e-408b-d72d-a6dcfc499b47"
      },
      "outputs": [
        {
          "data": {
            "text/plain": [
              "s1   -0.506366\n",
              "s2   -0.873297\n",
              "s3   -0.999756\n",
              "s4   -0.850919\n",
              "s5   -0.467772\n",
              "dtype: float64"
            ]
          },
          "execution_count": 18,
          "metadata": {},
          "output_type": "execute_result"
        }
      ],
      "source": [
        "np.sin(scores)"
      ]
    },
    {
      "cell_type": "code",
      "execution_count": null,
      "id": "23964aaf",
      "metadata": {
        "id": "23964aaf"
      },
      "outputs": [],
      "source": [
        "scores[\"s6\"]=43"
      ]
    },
    {
      "cell_type": "code",
      "execution_count": null,
      "id": "355dba68",
      "metadata": {
        "id": "355dba68",
        "outputId": "f74deffd-2375-4c52-f3c8-f5f29f63602c"
      },
      "outputs": [
        {
          "data": {
            "text/plain": [
              "s1    100\n",
              "s2    200\n",
              "s3    300\n",
              "s4    400\n",
              "s5    500\n",
              "s6     43\n",
              "dtype: int64"
            ]
          },
          "execution_count": 20,
          "metadata": {},
          "output_type": "execute_result"
        }
      ],
      "source": [
        "scores"
      ]
    },
    {
      "cell_type": "code",
      "execution_count": null,
      "id": "9ec9d1fa",
      "metadata": {
        "id": "9ec9d1fa",
        "outputId": "97d74c72-6b3f-4c4f-fbef-d96ee0147557"
      },
      "outputs": [
        {
          "data": {
            "text/plain": [
              "{'laptop': 1500, 'bag': 50, 'TV': 300, 'speakers': 400}"
            ]
          },
          "execution_count": 21,
          "metadata": {},
          "output_type": "execute_result"
        }
      ],
      "source": [
        "##Dictionary to series\n",
        "\n",
        "inventory = {'laptop': 1500, 'bag': 50, 'TV': 300, 'speakers': 400}\n",
        "inventory"
      ]
    },
    {
      "cell_type": "code",
      "execution_count": null,
      "id": "088f0864",
      "metadata": {
        "id": "088f0864"
      },
      "outputs": [],
      "source": [
        "inventory_ser=pd.Series(inventory)"
      ]
    },
    {
      "cell_type": "code",
      "execution_count": null,
      "id": "e14d4525",
      "metadata": {
        "id": "e14d4525",
        "outputId": "c259cc7d-f55d-4c90-b5b2-e48ff48f3cfe"
      },
      "outputs": [
        {
          "data": {
            "text/plain": [
              "laptop      1500\n",
              "bag           50\n",
              "TV           300\n",
              "speakers     400\n",
              "dtype: int64"
            ]
          },
          "execution_count": 24,
          "metadata": {},
          "output_type": "execute_result"
        }
      ],
      "source": [
        "inventory_ser"
      ]
    },
    {
      "cell_type": "code",
      "execution_count": null,
      "id": "e5013e31",
      "metadata": {
        "id": "e5013e31",
        "outputId": "ef9264a3-7062-40e0-e355-9584e55601c9"
      },
      "outputs": [
        {
          "data": {
            "text/plain": [
              "Index(['laptop', 'bag', 'TV', 'speakers'], dtype='object')"
            ]
          },
          "execution_count": 25,
          "metadata": {},
          "output_type": "execute_result"
        }
      ],
      "source": [
        "inventory_ser.index"
      ]
    },
    {
      "cell_type": "code",
      "execution_count": null,
      "id": "23e635e5",
      "metadata": {
        "id": "23e635e5",
        "outputId": "ab0d86ea-7f7c-483f-870a-5ef583728321"
      },
      "outputs": [
        {
          "data": {
            "text/plain": [
              "array([1500,   50,  300,  400], dtype=int64)"
            ]
          },
          "execution_count": 26,
          "metadata": {},
          "output_type": "execute_result"
        }
      ],
      "source": [
        "inventory_ser.values"
      ]
    },
    {
      "cell_type": "markdown",
      "id": "12285163",
      "metadata": {
        "id": "12285163"
      },
      "source": [
        "# Creating dataframes Using dictionary"
      ]
    },
    {
      "cell_type": "code",
      "execution_count": null,
      "id": "8a214433",
      "metadata": {
        "id": "8a214433"
      },
      "outputs": [],
      "source": [
        "scores_data={\n",
        "    \"student\":[\"a\",\"b\",\"c\",\"d\",\"e\"],\n",
        "    \"sub1\": np.random.randint(40,100,size=5),\n",
        "    \"sub2\": np.random.randint(40,100,size=5),\n",
        "    \"sub3\": np.random.randint(40,100,size=5)\n",
        "}"
      ]
    },
    {
      "cell_type": "code",
      "execution_count": null,
      "id": "54d6df2b",
      "metadata": {
        "id": "54d6df2b",
        "outputId": "671e7bb8-d83e-42ab-f4cc-80b4f2fced0d"
      },
      "outputs": [
        {
          "data": {
            "text/plain": [
              "{'student': ['a', 'b', 'c', 'd', 'e'],\n",
              " 'sub1': array([42, 55, 50, 46, 59]),\n",
              " 'sub2': array([84, 68, 81, 72, 41]),\n",
              " 'sub3': array([78, 84, 51, 65, 75])}"
            ]
          },
          "execution_count": 31,
          "metadata": {},
          "output_type": "execute_result"
        }
      ],
      "source": [
        "scores_data"
      ]
    },
    {
      "cell_type": "code",
      "execution_count": null,
      "id": "0753ce5a",
      "metadata": {
        "id": "0753ce5a"
      },
      "outputs": [],
      "source": [
        "df= pd.DataFrame(scores_data)"
      ]
    },
    {
      "cell_type": "code",
      "execution_count": null,
      "id": "dc881e48",
      "metadata": {
        "id": "dc881e48",
        "outputId": "5deff25f-f358-4c9f-94f2-2bfe6746cf26"
      },
      "outputs": [
        {
          "data": {
            "text/html": [
              "<div>\n",
              "<style scoped>\n",
              "    .dataframe tbody tr th:only-of-type {\n",
              "        vertical-align: middle;\n",
              "    }\n",
              "\n",
              "    .dataframe tbody tr th {\n",
              "        vertical-align: top;\n",
              "    }\n",
              "\n",
              "    .dataframe thead th {\n",
              "        text-align: right;\n",
              "    }\n",
              "</style>\n",
              "<table border=\"1\" class=\"dataframe\">\n",
              "  <thead>\n",
              "    <tr style=\"text-align: right;\">\n",
              "      <th></th>\n",
              "      <th>student</th>\n",
              "      <th>sub1</th>\n",
              "      <th>sub2</th>\n",
              "      <th>sub3</th>\n",
              "    </tr>\n",
              "  </thead>\n",
              "  <tbody>\n",
              "    <tr>\n",
              "      <th>0</th>\n",
              "      <td>a</td>\n",
              "      <td>42</td>\n",
              "      <td>84</td>\n",
              "      <td>78</td>\n",
              "    </tr>\n",
              "    <tr>\n",
              "      <th>1</th>\n",
              "      <td>b</td>\n",
              "      <td>55</td>\n",
              "      <td>68</td>\n",
              "      <td>84</td>\n",
              "    </tr>\n",
              "    <tr>\n",
              "      <th>2</th>\n",
              "      <td>c</td>\n",
              "      <td>50</td>\n",
              "      <td>81</td>\n",
              "      <td>51</td>\n",
              "    </tr>\n",
              "    <tr>\n",
              "      <th>3</th>\n",
              "      <td>d</td>\n",
              "      <td>46</td>\n",
              "      <td>72</td>\n",
              "      <td>65</td>\n",
              "    </tr>\n",
              "    <tr>\n",
              "      <th>4</th>\n",
              "      <td>e</td>\n",
              "      <td>59</td>\n",
              "      <td>41</td>\n",
              "      <td>75</td>\n",
              "    </tr>\n",
              "  </tbody>\n",
              "</table>\n",
              "</div>"
            ],
            "text/plain": [
              "  student  sub1  sub2  sub3\n",
              "0       a    42    84    78\n",
              "1       b    55    68    84\n",
              "2       c    50    81    51\n",
              "3       d    46    72    65\n",
              "4       e    59    41    75"
            ]
          },
          "execution_count": 34,
          "metadata": {},
          "output_type": "execute_result"
        }
      ],
      "source": [
        "df"
      ]
    },
    {
      "cell_type": "code",
      "execution_count": null,
      "id": "4132785d",
      "metadata": {
        "id": "4132785d",
        "outputId": "4a6f5c41-0ac6-44c4-a231-48b446be1bed"
      },
      "outputs": [
        {
          "data": {
            "text/plain": [
              "array([['a', 42, 84, 78],\n",
              "       ['b', 55, 68, 84],\n",
              "       ['c', 50, 81, 51],\n",
              "       ['d', 46, 72, 65],\n",
              "       ['e', 59, 41, 75]], dtype=object)"
            ]
          },
          "execution_count": 35,
          "metadata": {},
          "output_type": "execute_result"
        }
      ],
      "source": [
        "df.values"
      ]
    },
    {
      "cell_type": "code",
      "execution_count": null,
      "id": "48f37f06",
      "metadata": {
        "id": "48f37f06",
        "outputId": "8139d497-dc6a-4276-a77b-3e0dbce6fcea"
      },
      "outputs": [
        {
          "data": {
            "text/plain": [
              "RangeIndex(start=0, stop=5, step=1)"
            ]
          },
          "execution_count": 36,
          "metadata": {},
          "output_type": "execute_result"
        }
      ],
      "source": [
        "df.index"
      ]
    },
    {
      "cell_type": "code",
      "execution_count": null,
      "id": "fb9fdbf6",
      "metadata": {
        "id": "fb9fdbf6",
        "outputId": "8a5c481f-e876-4e18-b7c5-06ae463ed308"
      },
      "outputs": [
        {
          "data": {
            "text/plain": [
              "Index(['student', 'sub1', 'sub2', 'sub3'], dtype='object')"
            ]
          },
          "execution_count": 37,
          "metadata": {},
          "output_type": "execute_result"
        }
      ],
      "source": [
        "df.columns"
      ]
    },
    {
      "cell_type": "code",
      "execution_count": null,
      "id": "3d597ff0",
      "metadata": {
        "id": "3d597ff0",
        "outputId": "6ba635dc-9253-427c-c1b2-cc28c117359a"
      },
      "outputs": [
        {
          "data": {
            "text/plain": [
              "pandas.core.frame.DataFrame"
            ]
          },
          "execution_count": 38,
          "metadata": {},
          "output_type": "execute_result"
        }
      ],
      "source": [
        "type(df)"
      ]
    },
    {
      "cell_type": "code",
      "execution_count": null,
      "id": "09037bab",
      "metadata": {
        "id": "09037bab",
        "outputId": "0359aa6c-a070-48d6-84cc-407ed073c5a8"
      },
      "outputs": [
        {
          "data": {
            "text/plain": [
              "pandas.core.series.Series"
            ]
          },
          "execution_count": 39,
          "metadata": {},
          "output_type": "execute_result"
        }
      ],
      "source": [
        "type(df[\"student\"])"
      ]
    },
    {
      "cell_type": "markdown",
      "id": "6fa4f2f4",
      "metadata": {
        "id": "6fa4f2f4"
      },
      "source": [
        "## creating a dataframe using a 2D array"
      ]
    },
    {
      "cell_type": "code",
      "execution_count": null,
      "id": "09f47cf4",
      "metadata": {
        "id": "09f47cf4",
        "outputId": "9156af54-f26e-4b8d-a9c7-ba3bc1da1fd2"
      },
      "outputs": [
        {
          "data": {
            "text/plain": [
              "array([[79, 67, 79, 95, 67],\n",
              "       [62, 63, 51, 82, 81],\n",
              "       [77, 74, 71, 73, 85],\n",
              "       [56, 52, 66, 60, 90],\n",
              "       [81, 78, 64, 56, 58],\n",
              "       [91, 82, 58, 81, 98],\n",
              "       [75, 70, 93, 89, 59],\n",
              "       [89, 97, 57, 50, 91]])"
            ]
          },
          "execution_count": 40,
          "metadata": {},
          "output_type": "execute_result"
        }
      ],
      "source": [
        "arr_2d = np.random.randint(50, 100, size=(40)).reshape(8, 5)\n",
        "arr_2d"
      ]
    },
    {
      "cell_type": "code",
      "execution_count": null,
      "id": "f4d2e0a5",
      "metadata": {
        "id": "f4d2e0a5",
        "outputId": "dd05acdc-b34b-4950-8cf0-65c756526dd3"
      },
      "outputs": [
        {
          "data": {
            "text/html": [
              "<div>\n",
              "<style scoped>\n",
              "    .dataframe tbody tr th:only-of-type {\n",
              "        vertical-align: middle;\n",
              "    }\n",
              "\n",
              "    .dataframe tbody tr th {\n",
              "        vertical-align: top;\n",
              "    }\n",
              "\n",
              "    .dataframe thead th {\n",
              "        text-align: right;\n",
              "    }\n",
              "</style>\n",
              "<table border=\"1\" class=\"dataframe\">\n",
              "  <thead>\n",
              "    <tr style=\"text-align: right;\">\n",
              "      <th></th>\n",
              "      <th>0</th>\n",
              "      <th>1</th>\n",
              "      <th>2</th>\n",
              "      <th>3</th>\n",
              "      <th>4</th>\n",
              "    </tr>\n",
              "  </thead>\n",
              "  <tbody>\n",
              "    <tr>\n",
              "      <th>0</th>\n",
              "      <td>79</td>\n",
              "      <td>67</td>\n",
              "      <td>79</td>\n",
              "      <td>95</td>\n",
              "      <td>67</td>\n",
              "    </tr>\n",
              "    <tr>\n",
              "      <th>1</th>\n",
              "      <td>62</td>\n",
              "      <td>63</td>\n",
              "      <td>51</td>\n",
              "      <td>82</td>\n",
              "      <td>81</td>\n",
              "    </tr>\n",
              "    <tr>\n",
              "      <th>2</th>\n",
              "      <td>77</td>\n",
              "      <td>74</td>\n",
              "      <td>71</td>\n",
              "      <td>73</td>\n",
              "      <td>85</td>\n",
              "    </tr>\n",
              "    <tr>\n",
              "      <th>3</th>\n",
              "      <td>56</td>\n",
              "      <td>52</td>\n",
              "      <td>66</td>\n",
              "      <td>60</td>\n",
              "      <td>90</td>\n",
              "    </tr>\n",
              "    <tr>\n",
              "      <th>4</th>\n",
              "      <td>81</td>\n",
              "      <td>78</td>\n",
              "      <td>64</td>\n",
              "      <td>56</td>\n",
              "      <td>58</td>\n",
              "    </tr>\n",
              "    <tr>\n",
              "      <th>5</th>\n",
              "      <td>91</td>\n",
              "      <td>82</td>\n",
              "      <td>58</td>\n",
              "      <td>81</td>\n",
              "      <td>98</td>\n",
              "    </tr>\n",
              "    <tr>\n",
              "      <th>6</th>\n",
              "      <td>75</td>\n",
              "      <td>70</td>\n",
              "      <td>93</td>\n",
              "      <td>89</td>\n",
              "      <td>59</td>\n",
              "    </tr>\n",
              "    <tr>\n",
              "      <th>7</th>\n",
              "      <td>89</td>\n",
              "      <td>97</td>\n",
              "      <td>57</td>\n",
              "      <td>50</td>\n",
              "      <td>91</td>\n",
              "    </tr>\n",
              "  </tbody>\n",
              "</table>\n",
              "</div>"
            ],
            "text/plain": [
              "    0   1   2   3   4\n",
              "0  79  67  79  95  67\n",
              "1  62  63  51  82  81\n",
              "2  77  74  71  73  85\n",
              "3  56  52  66  60  90\n",
              "4  81  78  64  56  58\n",
              "5  91  82  58  81  98\n",
              "6  75  70  93  89  59\n",
              "7  89  97  57  50  91"
            ]
          },
          "execution_count": 41,
          "metadata": {},
          "output_type": "execute_result"
        }
      ],
      "source": [
        "arr_df = pd.DataFrame(arr_2d)\n",
        "\n",
        "arr_df"
      ]
    },
    {
      "cell_type": "code",
      "execution_count": null,
      "id": "3f33f955",
      "metadata": {
        "id": "3f33f955",
        "outputId": "cd8cd584-8a84-4efd-f498-3cffe0fdf0cc"
      },
      "outputs": [
        {
          "data": {
            "text/html": [
              "<div>\n",
              "<style scoped>\n",
              "    .dataframe tbody tr th:only-of-type {\n",
              "        vertical-align: middle;\n",
              "    }\n",
              "\n",
              "    .dataframe tbody tr th {\n",
              "        vertical-align: top;\n",
              "    }\n",
              "\n",
              "    .dataframe thead th {\n",
              "        text-align: right;\n",
              "    }\n",
              "</style>\n",
              "<table border=\"1\" class=\"dataframe\">\n",
              "  <thead>\n",
              "    <tr style=\"text-align: right;\">\n",
              "      <th></th>\n",
              "      <th>sub1_score</th>\n",
              "      <th>sub2_score</th>\n",
              "      <th>sub3_score</th>\n",
              "      <th>sub4_score</th>\n",
              "      <th>sub5_score</th>\n",
              "    </tr>\n",
              "  </thead>\n",
              "  <tbody>\n",
              "    <tr>\n",
              "      <th>0</th>\n",
              "      <td>79</td>\n",
              "      <td>67</td>\n",
              "      <td>79</td>\n",
              "      <td>95</td>\n",
              "      <td>67</td>\n",
              "    </tr>\n",
              "    <tr>\n",
              "      <th>1</th>\n",
              "      <td>62</td>\n",
              "      <td>63</td>\n",
              "      <td>51</td>\n",
              "      <td>82</td>\n",
              "      <td>81</td>\n",
              "    </tr>\n",
              "    <tr>\n",
              "      <th>2</th>\n",
              "      <td>77</td>\n",
              "      <td>74</td>\n",
              "      <td>71</td>\n",
              "      <td>73</td>\n",
              "      <td>85</td>\n",
              "    </tr>\n",
              "    <tr>\n",
              "      <th>3</th>\n",
              "      <td>56</td>\n",
              "      <td>52</td>\n",
              "      <td>66</td>\n",
              "      <td>60</td>\n",
              "      <td>90</td>\n",
              "    </tr>\n",
              "    <tr>\n",
              "      <th>4</th>\n",
              "      <td>81</td>\n",
              "      <td>78</td>\n",
              "      <td>64</td>\n",
              "      <td>56</td>\n",
              "      <td>58</td>\n",
              "    </tr>\n",
              "    <tr>\n",
              "      <th>5</th>\n",
              "      <td>91</td>\n",
              "      <td>82</td>\n",
              "      <td>58</td>\n",
              "      <td>81</td>\n",
              "      <td>98</td>\n",
              "    </tr>\n",
              "    <tr>\n",
              "      <th>6</th>\n",
              "      <td>75</td>\n",
              "      <td>70</td>\n",
              "      <td>93</td>\n",
              "      <td>89</td>\n",
              "      <td>59</td>\n",
              "    </tr>\n",
              "    <tr>\n",
              "      <th>7</th>\n",
              "      <td>89</td>\n",
              "      <td>97</td>\n",
              "      <td>57</td>\n",
              "      <td>50</td>\n",
              "      <td>91</td>\n",
              "    </tr>\n",
              "  </tbody>\n",
              "</table>\n",
              "</div>"
            ],
            "text/plain": [
              "   sub1_score  sub2_score  sub3_score  sub4_score  sub5_score\n",
              "0          79          67          79          95          67\n",
              "1          62          63          51          82          81\n",
              "2          77          74          71          73          85\n",
              "3          56          52          66          60          90\n",
              "4          81          78          64          56          58\n",
              "5          91          82          58          81          98\n",
              "6          75          70          93          89          59\n",
              "7          89          97          57          50          91"
            ]
          },
          "execution_count": 42,
          "metadata": {},
          "output_type": "execute_result"
        }
      ],
      "source": [
        "arr_df = pd.DataFrame(arr_2d, columns=['sub1_score', 'sub2_score', 'sub3_score', 'sub4_score', 'sub5_score'])\n",
        "arr_df"
      ]
    },
    {
      "cell_type": "code",
      "execution_count": null,
      "id": "a1ba7d65",
      "metadata": {
        "id": "a1ba7d65",
        "outputId": "eefdc4cb-af80-43dd-e5ce-fc045b59ec99"
      },
      "outputs": [
        {
          "data": {
            "text/plain": [
              "Index(['sub1_score', 'sub2_score', 'sub3_score', 'sub4_score', 'sub5_score'], dtype='object')"
            ]
          },
          "execution_count": 43,
          "metadata": {},
          "output_type": "execute_result"
        }
      ],
      "source": [
        "arr_df.columns"
      ]
    },
    {
      "cell_type": "code",
      "execution_count": null,
      "id": "b1976fdc",
      "metadata": {
        "id": "b1976fdc",
        "outputId": "62b33b31-7018-4677-b64c-f8811350e38d"
      },
      "outputs": [
        {
          "data": {
            "text/plain": [
              "['sub1_score', 'sub2_score', 'sub3_score', 'sub4_score', 'sub5_score']"
            ]
          },
          "execution_count": 44,
          "metadata": {},
          "output_type": "execute_result"
        }
      ],
      "source": [
        "list(arr_df.columns)"
      ]
    },
    {
      "cell_type": "code",
      "execution_count": null,
      "id": "b027f846",
      "metadata": {
        "id": "b027f846",
        "outputId": "144b4e15-d980-4ca8-a2f6-b992f09da602"
      },
      "outputs": [
        {
          "data": {
            "text/html": [
              "<div>\n",
              "<style scoped>\n",
              "    .dataframe tbody tr th:only-of-type {\n",
              "        vertical-align: middle;\n",
              "    }\n",
              "\n",
              "    .dataframe tbody tr th {\n",
              "        vertical-align: top;\n",
              "    }\n",
              "\n",
              "    .dataframe thead th {\n",
              "        text-align: right;\n",
              "    }\n",
              "</style>\n",
              "<table border=\"1\" class=\"dataframe\">\n",
              "  <thead>\n",
              "    <tr style=\"text-align: right;\">\n",
              "      <th></th>\n",
              "      <th>sub1_score</th>\n",
              "      <th>sub2_score</th>\n",
              "      <th>sub3_score</th>\n",
              "      <th>sub4_score</th>\n",
              "      <th>sub5_score</th>\n",
              "    </tr>\n",
              "  </thead>\n",
              "  <tbody>\n",
              "    <tr>\n",
              "      <th>0</th>\n",
              "      <td>79</td>\n",
              "      <td>67</td>\n",
              "      <td>79</td>\n",
              "      <td>95</td>\n",
              "      <td>67</td>\n",
              "    </tr>\n",
              "    <tr>\n",
              "      <th>1</th>\n",
              "      <td>62</td>\n",
              "      <td>63</td>\n",
              "      <td>51</td>\n",
              "      <td>82</td>\n",
              "      <td>81</td>\n",
              "    </tr>\n",
              "    <tr>\n",
              "      <th>2</th>\n",
              "      <td>77</td>\n",
              "      <td>74</td>\n",
              "      <td>71</td>\n",
              "      <td>73</td>\n",
              "      <td>85</td>\n",
              "    </tr>\n",
              "    <tr>\n",
              "      <th>3</th>\n",
              "      <td>56</td>\n",
              "      <td>52</td>\n",
              "      <td>66</td>\n",
              "      <td>60</td>\n",
              "      <td>90</td>\n",
              "    </tr>\n",
              "    <tr>\n",
              "      <th>4</th>\n",
              "      <td>81</td>\n",
              "      <td>78</td>\n",
              "      <td>64</td>\n",
              "      <td>56</td>\n",
              "      <td>58</td>\n",
              "    </tr>\n",
              "    <tr>\n",
              "      <th>5</th>\n",
              "      <td>91</td>\n",
              "      <td>82</td>\n",
              "      <td>58</td>\n",
              "      <td>81</td>\n",
              "      <td>98</td>\n",
              "    </tr>\n",
              "    <tr>\n",
              "      <th>6</th>\n",
              "      <td>75</td>\n",
              "      <td>70</td>\n",
              "      <td>93</td>\n",
              "      <td>89</td>\n",
              "      <td>59</td>\n",
              "    </tr>\n",
              "    <tr>\n",
              "      <th>7</th>\n",
              "      <td>89</td>\n",
              "      <td>97</td>\n",
              "      <td>57</td>\n",
              "      <td>50</td>\n",
              "      <td>91</td>\n",
              "    </tr>\n",
              "  </tbody>\n",
              "</table>\n",
              "</div>"
            ],
            "text/plain": [
              "   sub1_score  sub2_score  sub3_score  sub4_score  sub5_score\n",
              "0          79          67          79          95          67\n",
              "1          62          63          51          82          81\n",
              "2          77          74          71          73          85\n",
              "3          56          52          66          60          90\n",
              "4          81          78          64          56          58\n",
              "5          91          82          58          81          98\n",
              "6          75          70          93          89          59\n",
              "7          89          97          57          50          91"
            ]
          },
          "execution_count": 45,
          "metadata": {},
          "output_type": "execute_result"
        }
      ],
      "source": [
        "arr_df.head(10)"
      ]
    },
    {
      "cell_type": "code",
      "execution_count": null,
      "id": "5b9dbc8b",
      "metadata": {
        "id": "5b9dbc8b",
        "outputId": "0ccda975-5723-40eb-c815-62747d3edb4a"
      },
      "outputs": [
        {
          "data": {
            "text/html": [
              "<div>\n",
              "<style scoped>\n",
              "    .dataframe tbody tr th:only-of-type {\n",
              "        vertical-align: middle;\n",
              "    }\n",
              "\n",
              "    .dataframe tbody tr th {\n",
              "        vertical-align: top;\n",
              "    }\n",
              "\n",
              "    .dataframe thead th {\n",
              "        text-align: right;\n",
              "    }\n",
              "</style>\n",
              "<table border=\"1\" class=\"dataframe\">\n",
              "  <thead>\n",
              "    <tr style=\"text-align: right;\">\n",
              "      <th></th>\n",
              "      <th>sub1_score</th>\n",
              "      <th>sub2_score</th>\n",
              "      <th>sub3_score</th>\n",
              "      <th>sub4_score</th>\n",
              "      <th>sub5_score</th>\n",
              "    </tr>\n",
              "  </thead>\n",
              "  <tbody>\n",
              "    <tr>\n",
              "      <th>0</th>\n",
              "      <td>79</td>\n",
              "      <td>67</td>\n",
              "      <td>79</td>\n",
              "      <td>95</td>\n",
              "      <td>67</td>\n",
              "    </tr>\n",
              "  </tbody>\n",
              "</table>\n",
              "</div>"
            ],
            "text/plain": [
              "   sub1_score  sub2_score  sub3_score  sub4_score  sub5_score\n",
              "0          79          67          79          95          67"
            ]
          },
          "execution_count": 46,
          "metadata": {},
          "output_type": "execute_result"
        }
      ],
      "source": [
        "arr_df.head(1)"
      ]
    },
    {
      "cell_type": "code",
      "execution_count": null,
      "id": "62def1b4",
      "metadata": {
        "id": "62def1b4",
        "outputId": "ce54e8a4-8da4-4e07-8970-185b4a4f3688"
      },
      "outputs": [
        {
          "data": {
            "text/html": [
              "<div>\n",
              "<style scoped>\n",
              "    .dataframe tbody tr th:only-of-type {\n",
              "        vertical-align: middle;\n",
              "    }\n",
              "\n",
              "    .dataframe tbody tr th {\n",
              "        vertical-align: top;\n",
              "    }\n",
              "\n",
              "    .dataframe thead th {\n",
              "        text-align: right;\n",
              "    }\n",
              "</style>\n",
              "<table border=\"1\" class=\"dataframe\">\n",
              "  <thead>\n",
              "    <tr style=\"text-align: right;\">\n",
              "      <th></th>\n",
              "      <th>sub1_score</th>\n",
              "      <th>sub2_score</th>\n",
              "      <th>sub3_score</th>\n",
              "      <th>sub4_score</th>\n",
              "      <th>sub5_score</th>\n",
              "    </tr>\n",
              "  </thead>\n",
              "  <tbody>\n",
              "    <tr>\n",
              "      <th>7</th>\n",
              "      <td>89</td>\n",
              "      <td>97</td>\n",
              "      <td>57</td>\n",
              "      <td>50</td>\n",
              "      <td>91</td>\n",
              "    </tr>\n",
              "  </tbody>\n",
              "</table>\n",
              "</div>"
            ],
            "text/plain": [
              "   sub1_score  sub2_score  sub3_score  sub4_score  sub5_score\n",
              "7          89          97          57          50          91"
            ]
          },
          "execution_count": 48,
          "metadata": {},
          "output_type": "execute_result"
        }
      ],
      "source": [
        "arr_df.tail(1)"
      ]
    },
    {
      "cell_type": "code",
      "execution_count": null,
      "id": "4c2e9564",
      "metadata": {
        "id": "4c2e9564",
        "outputId": "ac22a373-d926-48e4-9196-daef0ad6290d"
      },
      "outputs": [
        {
          "data": {
            "text/html": [
              "<div>\n",
              "<style scoped>\n",
              "    .dataframe tbody tr th:only-of-type {\n",
              "        vertical-align: middle;\n",
              "    }\n",
              "\n",
              "    .dataframe tbody tr th {\n",
              "        vertical-align: top;\n",
              "    }\n",
              "\n",
              "    .dataframe thead th {\n",
              "        text-align: right;\n",
              "    }\n",
              "</style>\n",
              "<table border=\"1\" class=\"dataframe\">\n",
              "  <thead>\n",
              "    <tr style=\"text-align: right;\">\n",
              "      <th></th>\n",
              "      <th>sub1_score</th>\n",
              "      <th>sub2_score</th>\n",
              "      <th>sub3_score</th>\n",
              "      <th>sub4_score</th>\n",
              "      <th>sub5_score</th>\n",
              "    </tr>\n",
              "  </thead>\n",
              "  <tbody>\n",
              "    <tr>\n",
              "      <th>3</th>\n",
              "      <td>56</td>\n",
              "      <td>52</td>\n",
              "      <td>66</td>\n",
              "      <td>60</td>\n",
              "      <td>90</td>\n",
              "    </tr>\n",
              "    <tr>\n",
              "      <th>1</th>\n",
              "      <td>62</td>\n",
              "      <td>63</td>\n",
              "      <td>51</td>\n",
              "      <td>82</td>\n",
              "      <td>81</td>\n",
              "    </tr>\n",
              "    <tr>\n",
              "      <th>2</th>\n",
              "      <td>77</td>\n",
              "      <td>74</td>\n",
              "      <td>71</td>\n",
              "      <td>73</td>\n",
              "      <td>85</td>\n",
              "    </tr>\n",
              "  </tbody>\n",
              "</table>\n",
              "</div>"
            ],
            "text/plain": [
              "   sub1_score  sub2_score  sub3_score  sub4_score  sub5_score\n",
              "3          56          52          66          60          90\n",
              "1          62          63          51          82          81\n",
              "2          77          74          71          73          85"
            ]
          },
          "execution_count": 49,
          "metadata": {},
          "output_type": "execute_result"
        }
      ],
      "source": [
        "arr_df.sample(3)"
      ]
    },
    {
      "cell_type": "code",
      "execution_count": null,
      "id": "3aed30ff",
      "metadata": {
        "id": "3aed30ff",
        "outputId": "7fa85daa-4685-4f52-ec42-d0aeb57b4540"
      },
      "outputs": [
        {
          "data": {
            "text/html": [
              "<div>\n",
              "<style scoped>\n",
              "    .dataframe tbody tr th:only-of-type {\n",
              "        vertical-align: middle;\n",
              "    }\n",
              "\n",
              "    .dataframe tbody tr th {\n",
              "        vertical-align: top;\n",
              "    }\n",
              "\n",
              "    .dataframe thead th {\n",
              "        text-align: right;\n",
              "    }\n",
              "</style>\n",
              "<table border=\"1\" class=\"dataframe\">\n",
              "  <thead>\n",
              "    <tr style=\"text-align: right;\">\n",
              "      <th></th>\n",
              "      <th>sub1_score</th>\n",
              "      <th>sub2_score</th>\n",
              "      <th>sub3_score</th>\n",
              "      <th>sub4_score</th>\n",
              "      <th>sub5_score</th>\n",
              "    </tr>\n",
              "  </thead>\n",
              "  <tbody>\n",
              "    <tr>\n",
              "      <th>0</th>\n",
              "      <td>79</td>\n",
              "      <td>67</td>\n",
              "      <td>NaN</td>\n",
              "      <td>95</td>\n",
              "      <td>67</td>\n",
              "    </tr>\n",
              "    <tr>\n",
              "      <th>1</th>\n",
              "      <td>62</td>\n",
              "      <td>63</td>\n",
              "      <td>NaN</td>\n",
              "      <td>82</td>\n",
              "      <td>81</td>\n",
              "    </tr>\n",
              "    <tr>\n",
              "      <th>2</th>\n",
              "      <td>77</td>\n",
              "      <td>74</td>\n",
              "      <td>NaN</td>\n",
              "      <td>73</td>\n",
              "      <td>85</td>\n",
              "    </tr>\n",
              "    <tr>\n",
              "      <th>3</th>\n",
              "      <td>56</td>\n",
              "      <td>52</td>\n",
              "      <td>NaN</td>\n",
              "      <td>60</td>\n",
              "      <td>90</td>\n",
              "    </tr>\n",
              "    <tr>\n",
              "      <th>4</th>\n",
              "      <td>81</td>\n",
              "      <td>78</td>\n",
              "      <td>NaN</td>\n",
              "      <td>56</td>\n",
              "      <td>58</td>\n",
              "    </tr>\n",
              "    <tr>\n",
              "      <th>5</th>\n",
              "      <td>91</td>\n",
              "      <td>82</td>\n",
              "      <td>NaN</td>\n",
              "      <td>81</td>\n",
              "      <td>98</td>\n",
              "    </tr>\n",
              "    <tr>\n",
              "      <th>6</th>\n",
              "      <td>75</td>\n",
              "      <td>70</td>\n",
              "      <td>NaN</td>\n",
              "      <td>89</td>\n",
              "      <td>59</td>\n",
              "    </tr>\n",
              "    <tr>\n",
              "      <th>7</th>\n",
              "      <td>89</td>\n",
              "      <td>97</td>\n",
              "      <td>NaN</td>\n",
              "      <td>50</td>\n",
              "      <td>91</td>\n",
              "    </tr>\n",
              "  </tbody>\n",
              "</table>\n",
              "</div>"
            ],
            "text/plain": [
              "   sub1_score  sub2_score  sub3_score  sub4_score  sub5_score\n",
              "0          79          67         NaN          95          67\n",
              "1          62          63         NaN          82          81\n",
              "2          77          74         NaN          73          85\n",
              "3          56          52         NaN          60          90\n",
              "4          81          78         NaN          56          58\n",
              "5          91          82         NaN          81          98\n",
              "6          75          70         NaN          89          59\n",
              "7          89          97         NaN          50          91"
            ]
          },
          "execution_count": 50,
          "metadata": {},
          "output_type": "execute_result"
        }
      ],
      "source": [
        "arr_df['sub3_score'] = np.nan\n",
        "arr_df"
      ]
    },
    {
      "cell_type": "code",
      "execution_count": null,
      "id": "7e88b608",
      "metadata": {
        "id": "7e88b608",
        "outputId": "1f8fb5b5-2a65-4b7b-af1d-d8d7c4180e54"
      },
      "outputs": [
        {
          "data": {
            "text/html": [
              "<div>\n",
              "<style scoped>\n",
              "    .dataframe tbody tr th:only-of-type {\n",
              "        vertical-align: middle;\n",
              "    }\n",
              "\n",
              "    .dataframe tbody tr th {\n",
              "        vertical-align: top;\n",
              "    }\n",
              "\n",
              "    .dataframe thead th {\n",
              "        text-align: right;\n",
              "    }\n",
              "</style>\n",
              "<table border=\"1\" class=\"dataframe\">\n",
              "  <thead>\n",
              "    <tr style=\"text-align: right;\">\n",
              "      <th></th>\n",
              "      <th>Student</th>\n",
              "      <th>Age</th>\n",
              "      <th>Sub1_Score</th>\n",
              "      <th>Sub2_Score</th>\n",
              "      <th>Sub3_Score</th>\n",
              "    </tr>\n",
              "  </thead>\n",
              "  <tbody>\n",
              "    <tr>\n",
              "      <th>0</th>\n",
              "      <td>Tom</td>\n",
              "      <td>22</td>\n",
              "      <td>84</td>\n",
              "      <td>40</td>\n",
              "      <td>55</td>\n",
              "    </tr>\n",
              "    <tr>\n",
              "      <th>1</th>\n",
              "      <td>Katey</td>\n",
              "      <td>21</td>\n",
              "      <td>82</td>\n",
              "      <td>89</td>\n",
              "      <td>91</td>\n",
              "    </tr>\n",
              "    <tr>\n",
              "      <th>2</th>\n",
              "      <td>Mak</td>\n",
              "      <td>24</td>\n",
              "      <td>68</td>\n",
              "      <td>83</td>\n",
              "      <td>51</td>\n",
              "    </tr>\n",
              "    <tr>\n",
              "      <th>3</th>\n",
              "      <td>Bill</td>\n",
              "      <td>21</td>\n",
              "      <td>86</td>\n",
              "      <td>77</td>\n",
              "      <td>69</td>\n",
              "    </tr>\n",
              "    <tr>\n",
              "      <th>4</th>\n",
              "      <td>Rahul</td>\n",
              "      <td>23</td>\n",
              "      <td>56</td>\n",
              "      <td>88</td>\n",
              "      <td>58</td>\n",
              "    </tr>\n",
              "  </tbody>\n",
              "</table>\n",
              "</div>"
            ],
            "text/plain": [
              "  Student  Age  Sub1_Score  Sub2_Score  Sub3_Score\n",
              "0     Tom   22          84          40          55\n",
              "1   Katey   21          82          89          91\n",
              "2     Mak   24          68          83          51\n",
              "3    Bill   21          86          77          69\n",
              "4   Rahul   23          56          88          58"
            ]
          },
          "execution_count": 51,
          "metadata": {},
          "output_type": "execute_result"
        }
      ],
      "source": [
        "##creating a dataframe using dictionary\n",
        "scores_data = {\"Student\": [\"Tom\", \"Katey\", \"Mak\", \"Bill\", \"Rahul\"],\n",
        "               \"Age\": np.random.randint(20, 25, size=5),\n",
        "               \"Sub1_Score\": np.random.randint(40, 100, size=5),\n",
        "               \"Sub2_Score\": np.random.randint(40, 100, size=5),\n",
        "               \"Sub3_Score\": np.random.randint(40, 100, size=5)\n",
        "              }\n",
        "\n",
        "scores_df = pd.DataFrame(scores_data)\n",
        "scores_df"
      ]
    },
    {
      "cell_type": "code",
      "execution_count": null,
      "id": "3e1aa862",
      "metadata": {
        "id": "3e1aa862",
        "outputId": "c4cf6016-9749-4512-f98c-fa3c145d080c"
      },
      "outputs": [
        {
          "data": {
            "text/plain": [
              "[0, 1, 2, 3, 4]"
            ]
          },
          "execution_count": 52,
          "metadata": {},
          "output_type": "execute_result"
        }
      ],
      "source": [
        "list(scores_df.index)"
      ]
    },
    {
      "cell_type": "code",
      "execution_count": null,
      "id": "2a94e9ed",
      "metadata": {
        "id": "2a94e9ed",
        "outputId": "665f69d9-6061-4447-abbd-5ac962f9244d"
      },
      "outputs": [
        {
          "data": {
            "text/html": [
              "<div>\n",
              "<style scoped>\n",
              "    .dataframe tbody tr th:only-of-type {\n",
              "        vertical-align: middle;\n",
              "    }\n",
              "\n",
              "    .dataframe tbody tr th {\n",
              "        vertical-align: top;\n",
              "    }\n",
              "\n",
              "    .dataframe thead th {\n",
              "        text-align: right;\n",
              "    }\n",
              "</style>\n",
              "<table border=\"1\" class=\"dataframe\">\n",
              "  <thead>\n",
              "    <tr style=\"text-align: right;\">\n",
              "      <th></th>\n",
              "      <th>Student</th>\n",
              "      <th>Age</th>\n",
              "      <th>Sub1_Score</th>\n",
              "      <th>Sub2_Score</th>\n",
              "      <th>Sub3_Score</th>\n",
              "    </tr>\n",
              "  </thead>\n",
              "  <tbody>\n",
              "    <tr>\n",
              "      <th>A</th>\n",
              "      <td>Tom</td>\n",
              "      <td>22</td>\n",
              "      <td>84</td>\n",
              "      <td>40</td>\n",
              "      <td>55</td>\n",
              "    </tr>\n",
              "    <tr>\n",
              "      <th>B</th>\n",
              "      <td>Katey</td>\n",
              "      <td>21</td>\n",
              "      <td>82</td>\n",
              "      <td>89</td>\n",
              "      <td>91</td>\n",
              "    </tr>\n",
              "    <tr>\n",
              "      <th>C</th>\n",
              "      <td>Mak</td>\n",
              "      <td>24</td>\n",
              "      <td>68</td>\n",
              "      <td>83</td>\n",
              "      <td>51</td>\n",
              "    </tr>\n",
              "    <tr>\n",
              "      <th>D</th>\n",
              "      <td>Bill</td>\n",
              "      <td>21</td>\n",
              "      <td>86</td>\n",
              "      <td>77</td>\n",
              "      <td>69</td>\n",
              "    </tr>\n",
              "    <tr>\n",
              "      <th>E</th>\n",
              "      <td>Rahul</td>\n",
              "      <td>23</td>\n",
              "      <td>56</td>\n",
              "      <td>88</td>\n",
              "      <td>58</td>\n",
              "    </tr>\n",
              "  </tbody>\n",
              "</table>\n",
              "</div>"
            ],
            "text/plain": [
              "  Student  Age  Sub1_Score  Sub2_Score  Sub3_Score\n",
              "A     Tom   22          84          40          55\n",
              "B   Katey   21          82          89          91\n",
              "C     Mak   24          68          83          51\n",
              "D    Bill   21          86          77          69\n",
              "E   Rahul   23          56          88          58"
            ]
          },
          "execution_count": 53,
          "metadata": {},
          "output_type": "execute_result"
        }
      ],
      "source": [
        "##setting a custom index\n",
        "\n",
        "scores_df.index = ['A', 'B', 'C', 'D', 'E']\n",
        "\n",
        "scores_df"
      ]
    },
    {
      "cell_type": "markdown",
      "id": "20ff91bc",
      "metadata": {
        "id": "20ff91bc"
      },
      "source": [
        "# Add new values to specific indices"
      ]
    },
    {
      "cell_type": "code",
      "execution_count": null,
      "id": "3a20dbda",
      "metadata": {
        "id": "3a20dbda",
        "outputId": "1e486bdb-dfd5-4676-a0c3-881ef9bffb07"
      },
      "outputs": [
        {
          "data": {
            "text/html": [
              "<div>\n",
              "<style scoped>\n",
              "    .dataframe tbody tr th:only-of-type {\n",
              "        vertical-align: middle;\n",
              "    }\n",
              "\n",
              "    .dataframe tbody tr th {\n",
              "        vertical-align: top;\n",
              "    }\n",
              "\n",
              "    .dataframe thead th {\n",
              "        text-align: right;\n",
              "    }\n",
              "</style>\n",
              "<table border=\"1\" class=\"dataframe\">\n",
              "  <thead>\n",
              "    <tr style=\"text-align: right;\">\n",
              "      <th></th>\n",
              "      <th>Student</th>\n",
              "      <th>Age</th>\n",
              "      <th>Sub1_Score</th>\n",
              "      <th>Sub2_Score</th>\n",
              "      <th>Sub3_Score</th>\n",
              "      <th>sub4_score</th>\n",
              "    </tr>\n",
              "  </thead>\n",
              "  <tbody>\n",
              "    <tr>\n",
              "      <th>A</th>\n",
              "      <td>Tom</td>\n",
              "      <td>22</td>\n",
              "      <td>84</td>\n",
              "      <td>40</td>\n",
              "      <td>55</td>\n",
              "      <td>NaN</td>\n",
              "    </tr>\n",
              "    <tr>\n",
              "      <th>B</th>\n",
              "      <td>Katey</td>\n",
              "      <td>21</td>\n",
              "      <td>82</td>\n",
              "      <td>89</td>\n",
              "      <td>91</td>\n",
              "      <td>98.0</td>\n",
              "    </tr>\n",
              "    <tr>\n",
              "      <th>C</th>\n",
              "      <td>Mak</td>\n",
              "      <td>24</td>\n",
              "      <td>68</td>\n",
              "      <td>83</td>\n",
              "      <td>51</td>\n",
              "      <td>NaN</td>\n",
              "    </tr>\n",
              "    <tr>\n",
              "      <th>D</th>\n",
              "      <td>Bill</td>\n",
              "      <td>21</td>\n",
              "      <td>86</td>\n",
              "      <td>77</td>\n",
              "      <td>69</td>\n",
              "      <td>78.0</td>\n",
              "    </tr>\n",
              "    <tr>\n",
              "      <th>E</th>\n",
              "      <td>Rahul</td>\n",
              "      <td>23</td>\n",
              "      <td>56</td>\n",
              "      <td>88</td>\n",
              "      <td>58</td>\n",
              "      <td>65.0</td>\n",
              "    </tr>\n",
              "  </tbody>\n",
              "</table>\n",
              "</div>"
            ],
            "text/plain": [
              "  Student  Age  Sub1_Score  Sub2_Score  Sub3_Score  sub4_score\n",
              "A     Tom   22          84          40          55         NaN\n",
              "B   Katey   21          82          89          91        98.0\n",
              "C     Mak   24          68          83          51         NaN\n",
              "D    Bill   21          86          77          69        78.0\n",
              "E   Rahul   23          56          88          58        65.0"
            ]
          },
          "execution_count": 54,
          "metadata": {},
          "output_type": "execute_result"
        }
      ],
      "source": [
        "scores_df['sub4_score'] = np.nan\n",
        "scores_df\n",
        "\n",
        "\n",
        "## some of the scores for sub4 has come in\n",
        "\n",
        "scores_df['sub4_score'] = pd.Series([98, 78, 65], index=['B', 'D', 'E'])\n",
        "scores_df"
      ]
    },
    {
      "cell_type": "code",
      "execution_count": null,
      "id": "3df99e91",
      "metadata": {
        "id": "3df99e91",
        "outputId": "342926ff-f5ea-4923-dc27-7448ff44a152"
      },
      "outputs": [
        {
          "data": {
            "text/plain": [
              "Int64Index([0, 1, 2, 3, 4], dtype='int64')"
            ]
          },
          "execution_count": 55,
          "metadata": {},
          "output_type": "execute_result"
        }
      ],
      "source": [
        "index = pd.Index(np.arange(5))\n",
        "index"
      ]
    },
    {
      "cell_type": "code",
      "execution_count": null,
      "id": "bc18fc83",
      "metadata": {
        "id": "bc18fc83",
        "outputId": "5ecb1cea-d0c7-4299-8d3a-73f7e44f4a43"
      },
      "outputs": [
        {
          "data": {
            "text/plain": [
              "pandas.core.indexes.numeric.Int64Index"
            ]
          },
          "execution_count": 56,
          "metadata": {},
          "output_type": "execute_result"
        }
      ],
      "source": [
        "type(index)"
      ]
    },
    {
      "cell_type": "code",
      "execution_count": null,
      "id": "d63bfb7c",
      "metadata": {
        "id": "d63bfb7c",
        "outputId": "bff0bfca-1ff2-466c-dbfd-3f8f97113c4e"
      },
      "outputs": [
        {
          "data": {
            "text/html": [
              "<div>\n",
              "<style scoped>\n",
              "    .dataframe tbody tr th:only-of-type {\n",
              "        vertical-align: middle;\n",
              "    }\n",
              "\n",
              "    .dataframe tbody tr th {\n",
              "        vertical-align: top;\n",
              "    }\n",
              "\n",
              "    .dataframe thead th {\n",
              "        text-align: right;\n",
              "    }\n",
              "</style>\n",
              "<table border=\"1\" class=\"dataframe\">\n",
              "  <thead>\n",
              "    <tr style=\"text-align: right;\">\n",
              "      <th></th>\n",
              "      <th>Student</th>\n",
              "      <th>Age</th>\n",
              "      <th>Sub1_Score</th>\n",
              "      <th>Sub2_Score</th>\n",
              "      <th>Sub3_Score</th>\n",
              "      <th>sub4_score</th>\n",
              "    </tr>\n",
              "  </thead>\n",
              "  <tbody>\n",
              "    <tr>\n",
              "      <th>0</th>\n",
              "      <td>Tom</td>\n",
              "      <td>22</td>\n",
              "      <td>84</td>\n",
              "      <td>40</td>\n",
              "      <td>55</td>\n",
              "      <td>NaN</td>\n",
              "    </tr>\n",
              "    <tr>\n",
              "      <th>1</th>\n",
              "      <td>Katey</td>\n",
              "      <td>21</td>\n",
              "      <td>82</td>\n",
              "      <td>89</td>\n",
              "      <td>91</td>\n",
              "      <td>98.0</td>\n",
              "    </tr>\n",
              "    <tr>\n",
              "      <th>2</th>\n",
              "      <td>Mak</td>\n",
              "      <td>24</td>\n",
              "      <td>68</td>\n",
              "      <td>83</td>\n",
              "      <td>51</td>\n",
              "      <td>NaN</td>\n",
              "    </tr>\n",
              "    <tr>\n",
              "      <th>3</th>\n",
              "      <td>Bill</td>\n",
              "      <td>21</td>\n",
              "      <td>86</td>\n",
              "      <td>77</td>\n",
              "      <td>69</td>\n",
              "      <td>78.0</td>\n",
              "    </tr>\n",
              "    <tr>\n",
              "      <th>4</th>\n",
              "      <td>Rahul</td>\n",
              "      <td>23</td>\n",
              "      <td>56</td>\n",
              "      <td>88</td>\n",
              "      <td>58</td>\n",
              "      <td>65.0</td>\n",
              "    </tr>\n",
              "  </tbody>\n",
              "</table>\n",
              "</div>"
            ],
            "text/plain": [
              "  Student  Age  Sub1_Score  Sub2_Score  Sub3_Score  sub4_score\n",
              "0     Tom   22          84          40          55         NaN\n",
              "1   Katey   21          82          89          91        98.0\n",
              "2     Mak   24          68          83          51         NaN\n",
              "3    Bill   21          86          77          69        78.0\n",
              "4   Rahul   23          56          88          58        65.0"
            ]
          },
          "execution_count": 57,
          "metadata": {},
          "output_type": "execute_result"
        }
      ],
      "source": [
        "scores_df.index = index\n",
        "scores_df"
      ]
    },
    {
      "cell_type": "markdown",
      "id": "8297eafd",
      "metadata": {
        "id": "8297eafd"
      },
      "source": [
        "# setting and resetting index"
      ]
    },
    {
      "cell_type": "code",
      "execution_count": null,
      "id": "92bb204e",
      "metadata": {
        "id": "92bb204e",
        "outputId": "e3b08cec-aecc-4d3e-f6bb-92c377cfbb96"
      },
      "outputs": [
        {
          "data": {
            "text/html": [
              "<div>\n",
              "<style scoped>\n",
              "    .dataframe tbody tr th:only-of-type {\n",
              "        vertical-align: middle;\n",
              "    }\n",
              "\n",
              "    .dataframe tbody tr th {\n",
              "        vertical-align: top;\n",
              "    }\n",
              "\n",
              "    .dataframe thead th {\n",
              "        text-align: right;\n",
              "    }\n",
              "</style>\n",
              "<table border=\"1\" class=\"dataframe\">\n",
              "  <thead>\n",
              "    <tr style=\"text-align: right;\">\n",
              "      <th></th>\n",
              "      <th>Age</th>\n",
              "      <th>Sub1_Score</th>\n",
              "      <th>Sub2_Score</th>\n",
              "      <th>Sub3_Score</th>\n",
              "      <th>sub4_score</th>\n",
              "    </tr>\n",
              "    <tr>\n",
              "      <th>Student</th>\n",
              "      <th></th>\n",
              "      <th></th>\n",
              "      <th></th>\n",
              "      <th></th>\n",
              "      <th></th>\n",
              "    </tr>\n",
              "  </thead>\n",
              "  <tbody>\n",
              "    <tr>\n",
              "      <th>Tom</th>\n",
              "      <td>22</td>\n",
              "      <td>84</td>\n",
              "      <td>40</td>\n",
              "      <td>55</td>\n",
              "      <td>NaN</td>\n",
              "    </tr>\n",
              "    <tr>\n",
              "      <th>Katey</th>\n",
              "      <td>21</td>\n",
              "      <td>82</td>\n",
              "      <td>89</td>\n",
              "      <td>91</td>\n",
              "      <td>98.0</td>\n",
              "    </tr>\n",
              "    <tr>\n",
              "      <th>Mak</th>\n",
              "      <td>24</td>\n",
              "      <td>68</td>\n",
              "      <td>83</td>\n",
              "      <td>51</td>\n",
              "      <td>NaN</td>\n",
              "    </tr>\n",
              "    <tr>\n",
              "      <th>Bill</th>\n",
              "      <td>21</td>\n",
              "      <td>86</td>\n",
              "      <td>77</td>\n",
              "      <td>69</td>\n",
              "      <td>78.0</td>\n",
              "    </tr>\n",
              "    <tr>\n",
              "      <th>Rahul</th>\n",
              "      <td>23</td>\n",
              "      <td>56</td>\n",
              "      <td>88</td>\n",
              "      <td>58</td>\n",
              "      <td>65.0</td>\n",
              "    </tr>\n",
              "  </tbody>\n",
              "</table>\n",
              "</div>"
            ],
            "text/plain": [
              "         Age  Sub1_Score  Sub2_Score  Sub3_Score  sub4_score\n",
              "Student                                                     \n",
              "Tom       22          84          40          55         NaN\n",
              "Katey     21          82          89          91        98.0\n",
              "Mak       24          68          83          51         NaN\n",
              "Bill      21          86          77          69        78.0\n",
              "Rahul     23          56          88          58        65.0"
            ]
          },
          "execution_count": 58,
          "metadata": {},
          "output_type": "execute_result"
        }
      ],
      "source": [
        "scores_df = scores_df.set_index('Student')\n",
        "scores_df"
      ]
    },
    {
      "cell_type": "code",
      "execution_count": null,
      "id": "85ffe0f1",
      "metadata": {
        "id": "85ffe0f1",
        "outputId": "df3c5054-aea7-4f60-aebe-b0e01443c0ad"
      },
      "outputs": [
        {
          "data": {
            "text/html": [
              "<div>\n",
              "<style scoped>\n",
              "    .dataframe tbody tr th:only-of-type {\n",
              "        vertical-align: middle;\n",
              "    }\n",
              "\n",
              "    .dataframe tbody tr th {\n",
              "        vertical-align: top;\n",
              "    }\n",
              "\n",
              "    .dataframe thead th {\n",
              "        text-align: right;\n",
              "    }\n",
              "</style>\n",
              "<table border=\"1\" class=\"dataframe\">\n",
              "  <thead>\n",
              "    <tr style=\"text-align: right;\">\n",
              "      <th></th>\n",
              "      <th>Student</th>\n",
              "      <th>Age</th>\n",
              "      <th>Sub1_Score</th>\n",
              "      <th>Sub2_Score</th>\n",
              "      <th>Sub3_Score</th>\n",
              "      <th>sub4_score</th>\n",
              "    </tr>\n",
              "  </thead>\n",
              "  <tbody>\n",
              "    <tr>\n",
              "      <th>0</th>\n",
              "      <td>Tom</td>\n",
              "      <td>22</td>\n",
              "      <td>84</td>\n",
              "      <td>40</td>\n",
              "      <td>55</td>\n",
              "      <td>NaN</td>\n",
              "    </tr>\n",
              "    <tr>\n",
              "      <th>1</th>\n",
              "      <td>Katey</td>\n",
              "      <td>21</td>\n",
              "      <td>82</td>\n",
              "      <td>89</td>\n",
              "      <td>91</td>\n",
              "      <td>98.0</td>\n",
              "    </tr>\n",
              "    <tr>\n",
              "      <th>2</th>\n",
              "      <td>Mak</td>\n",
              "      <td>24</td>\n",
              "      <td>68</td>\n",
              "      <td>83</td>\n",
              "      <td>51</td>\n",
              "      <td>NaN</td>\n",
              "    </tr>\n",
              "    <tr>\n",
              "      <th>3</th>\n",
              "      <td>Bill</td>\n",
              "      <td>21</td>\n",
              "      <td>86</td>\n",
              "      <td>77</td>\n",
              "      <td>69</td>\n",
              "      <td>78.0</td>\n",
              "    </tr>\n",
              "    <tr>\n",
              "      <th>4</th>\n",
              "      <td>Rahul</td>\n",
              "      <td>23</td>\n",
              "      <td>56</td>\n",
              "      <td>88</td>\n",
              "      <td>58</td>\n",
              "      <td>65.0</td>\n",
              "    </tr>\n",
              "  </tbody>\n",
              "</table>\n",
              "</div>"
            ],
            "text/plain": [
              "  Student  Age  Sub1_Score  Sub2_Score  Sub3_Score  sub4_score\n",
              "0     Tom   22          84          40          55         NaN\n",
              "1   Katey   21          82          89          91        98.0\n",
              "2     Mak   24          68          83          51         NaN\n",
              "3    Bill   21          86          77          69        78.0\n",
              "4   Rahul   23          56          88          58        65.0"
            ]
          },
          "execution_count": 59,
          "metadata": {},
          "output_type": "execute_result"
        }
      ],
      "source": [
        "\n",
        "\n",
        "scores_df = scores_df.reset_index(drop=False)\n",
        "scores_df"
      ]
    },
    {
      "cell_type": "code",
      "execution_count": null,
      "id": "f3a8fa1b",
      "metadata": {
        "id": "f3a8fa1b",
        "outputId": "f8f187e6-f04f-48e4-fa0f-c3b32a94d396"
      },
      "outputs": [
        {
          "ename": "KeyError",
          "evalue": "2",
          "output_type": "error",
          "traceback": [
            "\u001b[1;31m---------------------------------------------------------------------------\u001b[0m",
            "\u001b[1;31mKeyError\u001b[0m                                  Traceback (most recent call last)",
            "\u001b[1;32m~\\anaconda3\\lib\\site-packages\\pandas\\core\\indexes\\base.py\u001b[0m in \u001b[0;36mget_loc\u001b[1;34m(self, key, method, tolerance)\u001b[0m\n\u001b[0;32m   3079\u001b[0m             \u001b[1;32mtry\u001b[0m\u001b[1;33m:\u001b[0m\u001b[1;33m\u001b[0m\u001b[1;33m\u001b[0m\u001b[0m\n\u001b[1;32m-> 3080\u001b[1;33m                 \u001b[1;32mreturn\u001b[0m \u001b[0mself\u001b[0m\u001b[1;33m.\u001b[0m\u001b[0m_engine\u001b[0m\u001b[1;33m.\u001b[0m\u001b[0mget_loc\u001b[0m\u001b[1;33m(\u001b[0m\u001b[0mcasted_key\u001b[0m\u001b[1;33m)\u001b[0m\u001b[1;33m\u001b[0m\u001b[1;33m\u001b[0m\u001b[0m\n\u001b[0m\u001b[0;32m   3081\u001b[0m             \u001b[1;32mexcept\u001b[0m \u001b[0mKeyError\u001b[0m \u001b[1;32mas\u001b[0m \u001b[0merr\u001b[0m\u001b[1;33m:\u001b[0m\u001b[1;33m\u001b[0m\u001b[1;33m\u001b[0m\u001b[0m\n",
            "\u001b[1;32mpandas\\_libs\\index.pyx\u001b[0m in \u001b[0;36mpandas._libs.index.IndexEngine.get_loc\u001b[1;34m()\u001b[0m\n",
            "\u001b[1;32mpandas\\_libs\\index.pyx\u001b[0m in \u001b[0;36mpandas._libs.index.IndexEngine.get_loc\u001b[1;34m()\u001b[0m\n",
            "\u001b[1;32mpandas\\_libs\\hashtable_class_helper.pxi\u001b[0m in \u001b[0;36mpandas._libs.hashtable.PyObjectHashTable.get_item\u001b[1;34m()\u001b[0m\n",
            "\u001b[1;32mpandas\\_libs\\hashtable_class_helper.pxi\u001b[0m in \u001b[0;36mpandas._libs.hashtable.PyObjectHashTable.get_item\u001b[1;34m()\u001b[0m\n",
            "\u001b[1;31mKeyError\u001b[0m: 2",
            "\nThe above exception was the direct cause of the following exception:\n",
            "\u001b[1;31mKeyError\u001b[0m                                  Traceback (most recent call last)",
            "\u001b[1;32m<ipython-input-60-004ae640c7c5>\u001b[0m in \u001b[0;36m<module>\u001b[1;34m\u001b[0m\n\u001b[1;32m----> 1\u001b[1;33m \u001b[0mscores_df\u001b[0m\u001b[1;33m[\u001b[0m\u001b[1;36m2\u001b[0m\u001b[1;33m]\u001b[0m\u001b[1;33m\u001b[0m\u001b[1;33m\u001b[0m\u001b[0m\n\u001b[0m",
            "\u001b[1;32m~\\anaconda3\\lib\\site-packages\\pandas\\core\\frame.py\u001b[0m in \u001b[0;36m__getitem__\u001b[1;34m(self, key)\u001b[0m\n\u001b[0;32m   3022\u001b[0m             \u001b[1;32mif\u001b[0m \u001b[0mself\u001b[0m\u001b[1;33m.\u001b[0m\u001b[0mcolumns\u001b[0m\u001b[1;33m.\u001b[0m\u001b[0mnlevels\u001b[0m \u001b[1;33m>\u001b[0m \u001b[1;36m1\u001b[0m\u001b[1;33m:\u001b[0m\u001b[1;33m\u001b[0m\u001b[1;33m\u001b[0m\u001b[0m\n\u001b[0;32m   3023\u001b[0m                 \u001b[1;32mreturn\u001b[0m \u001b[0mself\u001b[0m\u001b[1;33m.\u001b[0m\u001b[0m_getitem_multilevel\u001b[0m\u001b[1;33m(\u001b[0m\u001b[0mkey\u001b[0m\u001b[1;33m)\u001b[0m\u001b[1;33m\u001b[0m\u001b[1;33m\u001b[0m\u001b[0m\n\u001b[1;32m-> 3024\u001b[1;33m             \u001b[0mindexer\u001b[0m \u001b[1;33m=\u001b[0m \u001b[0mself\u001b[0m\u001b[1;33m.\u001b[0m\u001b[0mcolumns\u001b[0m\u001b[1;33m.\u001b[0m\u001b[0mget_loc\u001b[0m\u001b[1;33m(\u001b[0m\u001b[0mkey\u001b[0m\u001b[1;33m)\u001b[0m\u001b[1;33m\u001b[0m\u001b[1;33m\u001b[0m\u001b[0m\n\u001b[0m\u001b[0;32m   3025\u001b[0m             \u001b[1;32mif\u001b[0m \u001b[0mis_integer\u001b[0m\u001b[1;33m(\u001b[0m\u001b[0mindexer\u001b[0m\u001b[1;33m)\u001b[0m\u001b[1;33m:\u001b[0m\u001b[1;33m\u001b[0m\u001b[1;33m\u001b[0m\u001b[0m\n\u001b[0;32m   3026\u001b[0m                 \u001b[0mindexer\u001b[0m \u001b[1;33m=\u001b[0m \u001b[1;33m[\u001b[0m\u001b[0mindexer\u001b[0m\u001b[1;33m]\u001b[0m\u001b[1;33m\u001b[0m\u001b[1;33m\u001b[0m\u001b[0m\n",
            "\u001b[1;32m~\\anaconda3\\lib\\site-packages\\pandas\\core\\indexes\\base.py\u001b[0m in \u001b[0;36mget_loc\u001b[1;34m(self, key, method, tolerance)\u001b[0m\n\u001b[0;32m   3080\u001b[0m                 \u001b[1;32mreturn\u001b[0m \u001b[0mself\u001b[0m\u001b[1;33m.\u001b[0m\u001b[0m_engine\u001b[0m\u001b[1;33m.\u001b[0m\u001b[0mget_loc\u001b[0m\u001b[1;33m(\u001b[0m\u001b[0mcasted_key\u001b[0m\u001b[1;33m)\u001b[0m\u001b[1;33m\u001b[0m\u001b[1;33m\u001b[0m\u001b[0m\n\u001b[0;32m   3081\u001b[0m             \u001b[1;32mexcept\u001b[0m \u001b[0mKeyError\u001b[0m \u001b[1;32mas\u001b[0m \u001b[0merr\u001b[0m\u001b[1;33m:\u001b[0m\u001b[1;33m\u001b[0m\u001b[1;33m\u001b[0m\u001b[0m\n\u001b[1;32m-> 3082\u001b[1;33m                 \u001b[1;32mraise\u001b[0m \u001b[0mKeyError\u001b[0m\u001b[1;33m(\u001b[0m\u001b[0mkey\u001b[0m\u001b[1;33m)\u001b[0m \u001b[1;32mfrom\u001b[0m \u001b[0merr\u001b[0m\u001b[1;33m\u001b[0m\u001b[1;33m\u001b[0m\u001b[0m\n\u001b[0m\u001b[0;32m   3083\u001b[0m \u001b[1;33m\u001b[0m\u001b[0m\n\u001b[0;32m   3084\u001b[0m         \u001b[1;32mif\u001b[0m \u001b[0mtolerance\u001b[0m \u001b[1;32mis\u001b[0m \u001b[1;32mnot\u001b[0m \u001b[1;32mNone\u001b[0m\u001b[1;33m:\u001b[0m\u001b[1;33m\u001b[0m\u001b[1;33m\u001b[0m\u001b[0m\n",
            "\u001b[1;31mKeyError\u001b[0m: 2"
          ]
        }
      ],
      "source": [
        "scores_df[2]"
      ]
    },
    {
      "cell_type": "code",
      "execution_count": null,
      "id": "a3ec0fa6",
      "metadata": {
        "id": "a3ec0fa6",
        "outputId": "65d0dd4a-ea76-4c51-e633-bd43b672c4c0"
      },
      "outputs": [
        {
          "data": {
            "text/html": [
              "<div>\n",
              "<style scoped>\n",
              "    .dataframe tbody tr th:only-of-type {\n",
              "        vertical-align: middle;\n",
              "    }\n",
              "\n",
              "    .dataframe tbody tr th {\n",
              "        vertical-align: top;\n",
              "    }\n",
              "\n",
              "    .dataframe thead th {\n",
              "        text-align: right;\n",
              "    }\n",
              "</style>\n",
              "<table border=\"1\" class=\"dataframe\">\n",
              "  <thead>\n",
              "    <tr style=\"text-align: right;\">\n",
              "      <th></th>\n",
              "      <th>Student</th>\n",
              "      <th>Age</th>\n",
              "      <th>Sub1_Score</th>\n",
              "      <th>Sub2_Score</th>\n",
              "      <th>Sub3_Score</th>\n",
              "      <th>sub4_score</th>\n",
              "    </tr>\n",
              "  </thead>\n",
              "  <tbody>\n",
              "    <tr>\n",
              "      <th>2</th>\n",
              "      <td>Mak</td>\n",
              "      <td>24</td>\n",
              "      <td>68</td>\n",
              "      <td>83</td>\n",
              "      <td>51</td>\n",
              "      <td>NaN</td>\n",
              "    </tr>\n",
              "  </tbody>\n",
              "</table>\n",
              "</div>"
            ],
            "text/plain": [
              "  Student  Age  Sub1_Score  Sub2_Score  Sub3_Score  sub4_score\n",
              "2     Mak   24          68          83          51         NaN"
            ]
          },
          "execution_count": 61,
          "metadata": {},
          "output_type": "execute_result"
        }
      ],
      "source": [
        "scores_df[2:3]"
      ]
    },
    {
      "cell_type": "code",
      "execution_count": null,
      "id": "78534623",
      "metadata": {
        "id": "78534623",
        "outputId": "f24b1ea3-64d1-41b4-f6ed-2b2a41830005"
      },
      "outputs": [
        {
          "data": {
            "text/html": [
              "<div>\n",
              "<style scoped>\n",
              "    .dataframe tbody tr th:only-of-type {\n",
              "        vertical-align: middle;\n",
              "    }\n",
              "\n",
              "    .dataframe tbody tr th {\n",
              "        vertical-align: top;\n",
              "    }\n",
              "\n",
              "    .dataframe thead th {\n",
              "        text-align: right;\n",
              "    }\n",
              "</style>\n",
              "<table border=\"1\" class=\"dataframe\">\n",
              "  <thead>\n",
              "    <tr style=\"text-align: right;\">\n",
              "      <th></th>\n",
              "      <th>Student</th>\n",
              "      <th>Age</th>\n",
              "      <th>Sub1_Score</th>\n",
              "      <th>Sub2_Score</th>\n",
              "      <th>Sub3_Score</th>\n",
              "      <th>sub4_score</th>\n",
              "    </tr>\n",
              "  </thead>\n",
              "  <tbody>\n",
              "    <tr>\n",
              "      <th>2</th>\n",
              "      <td>Mak</td>\n",
              "      <td>24</td>\n",
              "      <td>68</td>\n",
              "      <td>83</td>\n",
              "      <td>51</td>\n",
              "      <td>NaN</td>\n",
              "    </tr>\n",
              "    <tr>\n",
              "      <th>3</th>\n",
              "      <td>Bill</td>\n",
              "      <td>21</td>\n",
              "      <td>86</td>\n",
              "      <td>77</td>\n",
              "      <td>69</td>\n",
              "      <td>78.0</td>\n",
              "    </tr>\n",
              "    <tr>\n",
              "      <th>4</th>\n",
              "      <td>Rahul</td>\n",
              "      <td>23</td>\n",
              "      <td>56</td>\n",
              "      <td>88</td>\n",
              "      <td>58</td>\n",
              "      <td>65.0</td>\n",
              "    </tr>\n",
              "  </tbody>\n",
              "</table>\n",
              "</div>"
            ],
            "text/plain": [
              "  Student  Age  Sub1_Score  Sub2_Score  Sub3_Score  sub4_score\n",
              "2     Mak   24          68          83          51         NaN\n",
              "3    Bill   21          86          77          69        78.0\n",
              "4   Rahul   23          56          88          58        65.0"
            ]
          },
          "execution_count": 62,
          "metadata": {},
          "output_type": "execute_result"
        }
      ],
      "source": [
        "scores_df[2:5]"
      ]
    },
    {
      "cell_type": "markdown",
      "id": "8581d542",
      "metadata": {
        "id": "8581d542"
      },
      "source": [
        "## Column Selection"
      ]
    },
    {
      "cell_type": "code",
      "execution_count": null,
      "id": "0029c8a7",
      "metadata": {
        "id": "0029c8a7",
        "outputId": "b904aea3-26d4-4987-d80d-0591b79b4254"
      },
      "outputs": [
        {
          "data": {
            "text/html": [
              "<div>\n",
              "<style scoped>\n",
              "    .dataframe tbody tr th:only-of-type {\n",
              "        vertical-align: middle;\n",
              "    }\n",
              "\n",
              "    .dataframe tbody tr th {\n",
              "        vertical-align: top;\n",
              "    }\n",
              "\n",
              "    .dataframe thead th {\n",
              "        text-align: right;\n",
              "    }\n",
              "</style>\n",
              "<table border=\"1\" class=\"dataframe\">\n",
              "  <thead>\n",
              "    <tr style=\"text-align: right;\">\n",
              "      <th></th>\n",
              "      <th>Sub1_Score</th>\n",
              "      <th>Sub2_Score</th>\n",
              "    </tr>\n",
              "  </thead>\n",
              "  <tbody>\n",
              "    <tr>\n",
              "      <th>0</th>\n",
              "      <td>84</td>\n",
              "      <td>40</td>\n",
              "    </tr>\n",
              "    <tr>\n",
              "      <th>1</th>\n",
              "      <td>82</td>\n",
              "      <td>89</td>\n",
              "    </tr>\n",
              "    <tr>\n",
              "      <th>2</th>\n",
              "      <td>68</td>\n",
              "      <td>83</td>\n",
              "    </tr>\n",
              "    <tr>\n",
              "      <th>3</th>\n",
              "      <td>86</td>\n",
              "      <td>77</td>\n",
              "    </tr>\n",
              "    <tr>\n",
              "      <th>4</th>\n",
              "      <td>56</td>\n",
              "      <td>88</td>\n",
              "    </tr>\n",
              "  </tbody>\n",
              "</table>\n",
              "</div>"
            ],
            "text/plain": [
              "   Sub1_Score  Sub2_Score\n",
              "0          84          40\n",
              "1          82          89\n",
              "2          68          83\n",
              "3          86          77\n",
              "4          56          88"
            ]
          },
          "execution_count": 63,
          "metadata": {},
          "output_type": "execute_result"
        }
      ],
      "source": [
        "scores_df[[\"Sub1_Score\",'Sub2_Score']]"
      ]
    },
    {
      "cell_type": "markdown",
      "id": "70d955b2",
      "metadata": {
        "id": "70d955b2"
      },
      "source": [
        "# .loc() method    "
      ]
    },
    {
      "cell_type": "code",
      "execution_count": null,
      "id": "6bf799e0",
      "metadata": {
        "id": "6bf799e0",
        "outputId": "d559bc15-f933-4ee9-da88-941b37c43638"
      },
      "outputs": [
        {
          "data": {
            "text/plain": [
              "Student       Tom\n",
              "Age            22\n",
              "Sub1_Score     84\n",
              "Sub2_Score     40\n",
              "Sub3_Score     55\n",
              "sub4_score    NaN\n",
              "Name: 0, dtype: object"
            ]
          },
          "execution_count": 67,
          "metadata": {},
          "output_type": "execute_result"
        }
      ],
      "source": [
        "scores_df.loc[0]"
      ]
    },
    {
      "cell_type": "code",
      "execution_count": null,
      "id": "8bcb9549",
      "metadata": {
        "id": "8bcb9549",
        "outputId": "c8127c24-7977-469a-ac4f-f6a900704ab8"
      },
      "outputs": [
        {
          "data": {
            "text/html": [
              "<div>\n",
              "<style scoped>\n",
              "    .dataframe tbody tr th:only-of-type {\n",
              "        vertical-align: middle;\n",
              "    }\n",
              "\n",
              "    .dataframe tbody tr th {\n",
              "        vertical-align: top;\n",
              "    }\n",
              "\n",
              "    .dataframe thead th {\n",
              "        text-align: right;\n",
              "    }\n",
              "</style>\n",
              "<table border=\"1\" class=\"dataframe\">\n",
              "  <thead>\n",
              "    <tr style=\"text-align: right;\">\n",
              "      <th></th>\n",
              "      <th>Student</th>\n",
              "      <th>Age</th>\n",
              "      <th>Sub1_Score</th>\n",
              "      <th>Sub2_Score</th>\n",
              "      <th>Sub3_Score</th>\n",
              "      <th>sub4_score</th>\n",
              "    </tr>\n",
              "  </thead>\n",
              "  <tbody>\n",
              "    <tr>\n",
              "      <th>0</th>\n",
              "      <td>Tom</td>\n",
              "      <td>22</td>\n",
              "      <td>84</td>\n",
              "      <td>40</td>\n",
              "      <td>55</td>\n",
              "      <td>NaN</td>\n",
              "    </tr>\n",
              "    <tr>\n",
              "      <th>1</th>\n",
              "      <td>Katey</td>\n",
              "      <td>21</td>\n",
              "      <td>82</td>\n",
              "      <td>89</td>\n",
              "      <td>91</td>\n",
              "      <td>98.0</td>\n",
              "    </tr>\n",
              "    <tr>\n",
              "      <th>2</th>\n",
              "      <td>Mak</td>\n",
              "      <td>24</td>\n",
              "      <td>68</td>\n",
              "      <td>83</td>\n",
              "      <td>51</td>\n",
              "      <td>NaN</td>\n",
              "    </tr>\n",
              "  </tbody>\n",
              "</table>\n",
              "</div>"
            ],
            "text/plain": [
              "  Student  Age  Sub1_Score  Sub2_Score  Sub3_Score  sub4_score\n",
              "0     Tom   22          84          40          55         NaN\n",
              "1   Katey   21          82          89          91        98.0\n",
              "2     Mak   24          68          83          51         NaN"
            ]
          },
          "execution_count": 68,
          "metadata": {},
          "output_type": "execute_result"
        }
      ],
      "source": [
        "scores_df.loc[0:2]"
      ]
    },
    {
      "cell_type": "code",
      "execution_count": null,
      "id": "d6a1a44b",
      "metadata": {
        "id": "d6a1a44b",
        "outputId": "c3448a28-669a-4d2a-bc63-478fa85992fd"
      },
      "outputs": [
        {
          "data": {
            "text/html": [
              "<div>\n",
              "<style scoped>\n",
              "    .dataframe tbody tr th:only-of-type {\n",
              "        vertical-align: middle;\n",
              "    }\n",
              "\n",
              "    .dataframe tbody tr th {\n",
              "        vertical-align: top;\n",
              "    }\n",
              "\n",
              "    .dataframe thead th {\n",
              "        text-align: right;\n",
              "    }\n",
              "</style>\n",
              "<table border=\"1\" class=\"dataframe\">\n",
              "  <thead>\n",
              "    <tr style=\"text-align: right;\">\n",
              "      <th></th>\n",
              "      <th>Age</th>\n",
              "      <th>Sub1_Score</th>\n",
              "      <th>Sub2_Score</th>\n",
              "      <th>Sub3_Score</th>\n",
              "      <th>sub4_score</th>\n",
              "    </tr>\n",
              "    <tr>\n",
              "      <th>Student</th>\n",
              "      <th></th>\n",
              "      <th></th>\n",
              "      <th></th>\n",
              "      <th></th>\n",
              "      <th></th>\n",
              "    </tr>\n",
              "  </thead>\n",
              "  <tbody>\n",
              "    <tr>\n",
              "      <th>Tom</th>\n",
              "      <td>22</td>\n",
              "      <td>84</td>\n",
              "      <td>40</td>\n",
              "      <td>55</td>\n",
              "      <td>NaN</td>\n",
              "    </tr>\n",
              "    <tr>\n",
              "      <th>Katey</th>\n",
              "      <td>21</td>\n",
              "      <td>82</td>\n",
              "      <td>89</td>\n",
              "      <td>91</td>\n",
              "      <td>98.0</td>\n",
              "    </tr>\n",
              "    <tr>\n",
              "      <th>Mak</th>\n",
              "      <td>24</td>\n",
              "      <td>68</td>\n",
              "      <td>83</td>\n",
              "      <td>51</td>\n",
              "      <td>NaN</td>\n",
              "    </tr>\n",
              "    <tr>\n",
              "      <th>Bill</th>\n",
              "      <td>21</td>\n",
              "      <td>86</td>\n",
              "      <td>77</td>\n",
              "      <td>69</td>\n",
              "      <td>78.0</td>\n",
              "    </tr>\n",
              "    <tr>\n",
              "      <th>Rahul</th>\n",
              "      <td>23</td>\n",
              "      <td>56</td>\n",
              "      <td>88</td>\n",
              "      <td>58</td>\n",
              "      <td>65.0</td>\n",
              "    </tr>\n",
              "  </tbody>\n",
              "</table>\n",
              "</div>"
            ],
            "text/plain": [
              "         Age  Sub1_Score  Sub2_Score  Sub3_Score  sub4_score\n",
              "Student                                                     \n",
              "Tom       22          84          40          55         NaN\n",
              "Katey     21          82          89          91        98.0\n",
              "Mak       24          68          83          51         NaN\n",
              "Bill      21          86          77          69        78.0\n",
              "Rahul     23          56          88          58        65.0"
            ]
          },
          "execution_count": 69,
          "metadata": {},
          "output_type": "execute_result"
        }
      ],
      "source": [
        "scores_df = scores_df.set_index('Student')\n",
        "scores_df"
      ]
    },
    {
      "cell_type": "code",
      "execution_count": null,
      "id": "7678f936",
      "metadata": {
        "id": "7678f936",
        "outputId": "281b8f18-0b53-4555-aa3e-eb20fa02d212"
      },
      "outputs": [
        {
          "data": {
            "text/plain": [
              "Age           21.0\n",
              "Sub1_Score    82.0\n",
              "Sub2_Score    89.0\n",
              "Sub3_Score    91.0\n",
              "sub4_score    98.0\n",
              "Name: Katey, dtype: float64"
            ]
          },
          "execution_count": 70,
          "metadata": {},
          "output_type": "execute_result"
        }
      ],
      "source": [
        "scores_df.loc[\"Katey\"]"
      ]
    },
    {
      "cell_type": "markdown",
      "id": "dfa4ae25",
      "metadata": {
        "id": "dfa4ae25"
      },
      "source": [
        "# iloc() method\n",
        "difference between iloc and loc is that iloc is integer based location. In loc, we use labels to locate"
      ]
    },
    {
      "cell_type": "code",
      "execution_count": null,
      "id": "e4900ee0",
      "metadata": {
        "id": "e4900ee0",
        "outputId": "2d770df3-1d35-4681-b92d-7f2f99c04f46"
      },
      "outputs": [
        {
          "data": {
            "text/html": [
              "<div>\n",
              "<style scoped>\n",
              "    .dataframe tbody tr th:only-of-type {\n",
              "        vertical-align: middle;\n",
              "    }\n",
              "\n",
              "    .dataframe tbody tr th {\n",
              "        vertical-align: top;\n",
              "    }\n",
              "\n",
              "    .dataframe thead th {\n",
              "        text-align: right;\n",
              "    }\n",
              "</style>\n",
              "<table border=\"1\" class=\"dataframe\">\n",
              "  <thead>\n",
              "    <tr style=\"text-align: right;\">\n",
              "      <th></th>\n",
              "      <th>Age</th>\n",
              "      <th>Sub1_Score</th>\n",
              "      <th>Sub2_Score</th>\n",
              "      <th>Sub3_Score</th>\n",
              "      <th>sub4_score</th>\n",
              "    </tr>\n",
              "    <tr>\n",
              "      <th>Student</th>\n",
              "      <th></th>\n",
              "      <th></th>\n",
              "      <th></th>\n",
              "      <th></th>\n",
              "      <th></th>\n",
              "    </tr>\n",
              "  </thead>\n",
              "  <tbody>\n",
              "    <tr>\n",
              "      <th>Rahul</th>\n",
              "      <td>23</td>\n",
              "      <td>56</td>\n",
              "      <td>88</td>\n",
              "      <td>58</td>\n",
              "      <td>65.0</td>\n",
              "    </tr>\n",
              "    <tr>\n",
              "      <th>Bill</th>\n",
              "      <td>21</td>\n",
              "      <td>86</td>\n",
              "      <td>77</td>\n",
              "      <td>69</td>\n",
              "      <td>78.0</td>\n",
              "    </tr>\n",
              "    <tr>\n",
              "      <th>Mak</th>\n",
              "      <td>24</td>\n",
              "      <td>68</td>\n",
              "      <td>83</td>\n",
              "      <td>51</td>\n",
              "      <td>NaN</td>\n",
              "    </tr>\n",
              "    <tr>\n",
              "      <th>Katey</th>\n",
              "      <td>21</td>\n",
              "      <td>82</td>\n",
              "      <td>89</td>\n",
              "      <td>91</td>\n",
              "      <td>98.0</td>\n",
              "    </tr>\n",
              "    <tr>\n",
              "      <th>Tom</th>\n",
              "      <td>22</td>\n",
              "      <td>84</td>\n",
              "      <td>40</td>\n",
              "      <td>55</td>\n",
              "      <td>NaN</td>\n",
              "    </tr>\n",
              "  </tbody>\n",
              "</table>\n",
              "</div>"
            ],
            "text/plain": [
              "         Age  Sub1_Score  Sub2_Score  Sub3_Score  sub4_score\n",
              "Student                                                     \n",
              "Rahul     23          56          88          58        65.0\n",
              "Bill      21          86          77          69        78.0\n",
              "Mak       24          68          83          51         NaN\n",
              "Katey     21          82          89          91        98.0\n",
              "Tom       22          84          40          55         NaN"
            ]
          },
          "execution_count": 71,
          "metadata": {},
          "output_type": "execute_result"
        }
      ],
      "source": [
        "scores_df[::-1]"
      ]
    },
    {
      "cell_type": "code",
      "execution_count": null,
      "id": "0b5b00d3",
      "metadata": {
        "id": "0b5b00d3",
        "outputId": "cef891c3-a983-4753-9592-1c0513f56f3f"
      },
      "outputs": [
        {
          "data": {
            "text/html": [
              "<div>\n",
              "<style scoped>\n",
              "    .dataframe tbody tr th:only-of-type {\n",
              "        vertical-align: middle;\n",
              "    }\n",
              "\n",
              "    .dataframe tbody tr th {\n",
              "        vertical-align: top;\n",
              "    }\n",
              "\n",
              "    .dataframe thead th {\n",
              "        text-align: right;\n",
              "    }\n",
              "</style>\n",
              "<table border=\"1\" class=\"dataframe\">\n",
              "  <thead>\n",
              "    <tr style=\"text-align: right;\">\n",
              "      <th></th>\n",
              "      <th>Student</th>\n",
              "      <th>Age</th>\n",
              "      <th>Sub1_Score</th>\n",
              "      <th>Sub2_Score</th>\n",
              "      <th>Sub3_Score</th>\n",
              "      <th>sub4_score</th>\n",
              "    </tr>\n",
              "  </thead>\n",
              "  <tbody>\n",
              "    <tr>\n",
              "      <th>0</th>\n",
              "      <td>Tom</td>\n",
              "      <td>22</td>\n",
              "      <td>84</td>\n",
              "      <td>40</td>\n",
              "      <td>55</td>\n",
              "      <td>NaN</td>\n",
              "    </tr>\n",
              "    <tr>\n",
              "      <th>1</th>\n",
              "      <td>Katey</td>\n",
              "      <td>21</td>\n",
              "      <td>82</td>\n",
              "      <td>89</td>\n",
              "      <td>91</td>\n",
              "      <td>98.0</td>\n",
              "    </tr>\n",
              "    <tr>\n",
              "      <th>2</th>\n",
              "      <td>Mak</td>\n",
              "      <td>24</td>\n",
              "      <td>68</td>\n",
              "      <td>83</td>\n",
              "      <td>51</td>\n",
              "      <td>NaN</td>\n",
              "    </tr>\n",
              "    <tr>\n",
              "      <th>3</th>\n",
              "      <td>Bill</td>\n",
              "      <td>21</td>\n",
              "      <td>86</td>\n",
              "      <td>77</td>\n",
              "      <td>69</td>\n",
              "      <td>78.0</td>\n",
              "    </tr>\n",
              "    <tr>\n",
              "      <th>4</th>\n",
              "      <td>Rahul</td>\n",
              "      <td>23</td>\n",
              "      <td>56</td>\n",
              "      <td>88</td>\n",
              "      <td>58</td>\n",
              "      <td>65.0</td>\n",
              "    </tr>\n",
              "  </tbody>\n",
              "</table>\n",
              "</div>"
            ],
            "text/plain": [
              "  Student  Age  Sub1_Score  Sub2_Score  Sub3_Score  sub4_score\n",
              "0     Tom   22          84          40          55         NaN\n",
              "1   Katey   21          82          89          91        98.0\n",
              "2     Mak   24          68          83          51         NaN\n",
              "3    Bill   21          86          77          69        78.0\n",
              "4   Rahul   23          56          88          58        65.0"
            ]
          },
          "execution_count": 72,
          "metadata": {},
          "output_type": "execute_result"
        }
      ],
      "source": [
        "scores_df = scores_df.reset_index(drop=False)\n",
        "scores_df"
      ]
    },
    {
      "cell_type": "code",
      "execution_count": null,
      "id": "204615ce",
      "metadata": {
        "id": "204615ce",
        "outputId": "6cb3af94-8b13-48c7-b39e-53869f0e928c"
      },
      "outputs": [
        {
          "data": {
            "text/plain": [
              "Student       Mak\n",
              "Age            24\n",
              "Sub1_Score     68\n",
              "Sub2_Score     83\n",
              "Sub3_Score     51\n",
              "sub4_score    NaN\n",
              "Name: 2, dtype: object"
            ]
          },
          "execution_count": 73,
          "metadata": {},
          "output_type": "execute_result"
        }
      ],
      "source": [
        "scores_df.iloc[2]"
      ]
    },
    {
      "cell_type": "code",
      "execution_count": null,
      "id": "be6b5762",
      "metadata": {
        "id": "be6b5762",
        "outputId": "d55d767f-d525-4e0c-f656-9b23c8031643"
      },
      "outputs": [
        {
          "data": {
            "text/html": [
              "<div>\n",
              "<style scoped>\n",
              "    .dataframe tbody tr th:only-of-type {\n",
              "        vertical-align: middle;\n",
              "    }\n",
              "\n",
              "    .dataframe tbody tr th {\n",
              "        vertical-align: top;\n",
              "    }\n",
              "\n",
              "    .dataframe thead th {\n",
              "        text-align: right;\n",
              "    }\n",
              "</style>\n",
              "<table border=\"1\" class=\"dataframe\">\n",
              "  <thead>\n",
              "    <tr style=\"text-align: right;\">\n",
              "      <th></th>\n",
              "      <th>Age</th>\n",
              "      <th>Sub1_Score</th>\n",
              "      <th>Sub2_Score</th>\n",
              "      <th>Sub3_Score</th>\n",
              "      <th>sub4_score</th>\n",
              "    </tr>\n",
              "    <tr>\n",
              "      <th>Student</th>\n",
              "      <th></th>\n",
              "      <th></th>\n",
              "      <th></th>\n",
              "      <th></th>\n",
              "      <th></th>\n",
              "    </tr>\n",
              "  </thead>\n",
              "  <tbody>\n",
              "    <tr>\n",
              "      <th>Tom</th>\n",
              "      <td>22</td>\n",
              "      <td>84</td>\n",
              "      <td>40</td>\n",
              "      <td>55</td>\n",
              "      <td>NaN</td>\n",
              "    </tr>\n",
              "    <tr>\n",
              "      <th>Katey</th>\n",
              "      <td>21</td>\n",
              "      <td>82</td>\n",
              "      <td>89</td>\n",
              "      <td>91</td>\n",
              "      <td>98.0</td>\n",
              "    </tr>\n",
              "    <tr>\n",
              "      <th>Mak</th>\n",
              "      <td>24</td>\n",
              "      <td>68</td>\n",
              "      <td>83</td>\n",
              "      <td>51</td>\n",
              "      <td>NaN</td>\n",
              "    </tr>\n",
              "    <tr>\n",
              "      <th>Bill</th>\n",
              "      <td>21</td>\n",
              "      <td>86</td>\n",
              "      <td>77</td>\n",
              "      <td>69</td>\n",
              "      <td>78.0</td>\n",
              "    </tr>\n",
              "    <tr>\n",
              "      <th>Rahul</th>\n",
              "      <td>23</td>\n",
              "      <td>56</td>\n",
              "      <td>88</td>\n",
              "      <td>58</td>\n",
              "      <td>65.0</td>\n",
              "    </tr>\n",
              "  </tbody>\n",
              "</table>\n",
              "</div>"
            ],
            "text/plain": [
              "         Age  Sub1_Score  Sub2_Score  Sub3_Score  sub4_score\n",
              "Student                                                     \n",
              "Tom       22          84          40          55         NaN\n",
              "Katey     21          82          89          91        98.0\n",
              "Mak       24          68          83          51         NaN\n",
              "Bill      21          86          77          69        78.0\n",
              "Rahul     23          56          88          58        65.0"
            ]
          },
          "execution_count": 74,
          "metadata": {},
          "output_type": "execute_result"
        }
      ],
      "source": [
        "scores_df = scores_df.set_index('Student')\n",
        "scores_df"
      ]
    },
    {
      "cell_type": "code",
      "execution_count": null,
      "id": "768d80ee",
      "metadata": {
        "id": "768d80ee",
        "outputId": "6c2e6503-008a-4515-90db-a0f1ebfd01d4"
      },
      "outputs": [
        {
          "data": {
            "text/plain": [
              "Age           24.0\n",
              "Sub1_Score    68.0\n",
              "Sub2_Score    83.0\n",
              "Sub3_Score    51.0\n",
              "sub4_score     NaN\n",
              "Name: Mak, dtype: float64"
            ]
          },
          "execution_count": 75,
          "metadata": {},
          "output_type": "execute_result"
        }
      ],
      "source": [
        "scores_df.iloc[2]"
      ]
    },
    {
      "cell_type": "code",
      "execution_count": null,
      "id": "7f811972",
      "metadata": {
        "id": "7f811972",
        "outputId": "3f331aaf-1912-4edf-81ad-056bc172a004"
      },
      "outputs": [
        {
          "data": {
            "text/html": [
              "<div>\n",
              "<style scoped>\n",
              "    .dataframe tbody tr th:only-of-type {\n",
              "        vertical-align: middle;\n",
              "    }\n",
              "\n",
              "    .dataframe tbody tr th {\n",
              "        vertical-align: top;\n",
              "    }\n",
              "\n",
              "    .dataframe thead th {\n",
              "        text-align: right;\n",
              "    }\n",
              "</style>\n",
              "<table border=\"1\" class=\"dataframe\">\n",
              "  <thead>\n",
              "    <tr style=\"text-align: right;\">\n",
              "      <th></th>\n",
              "      <th>Age</th>\n",
              "      <th>Sub1_Score</th>\n",
              "      <th>Sub2_Score</th>\n",
              "      <th>Sub3_Score</th>\n",
              "      <th>sub4_score</th>\n",
              "    </tr>\n",
              "    <tr>\n",
              "      <th>Student</th>\n",
              "      <th></th>\n",
              "      <th></th>\n",
              "      <th></th>\n",
              "      <th></th>\n",
              "      <th></th>\n",
              "    </tr>\n",
              "  </thead>\n",
              "  <tbody>\n",
              "    <tr>\n",
              "      <th>Mak</th>\n",
              "      <td>24</td>\n",
              "      <td>68</td>\n",
              "      <td>83</td>\n",
              "      <td>51</td>\n",
              "      <td>NaN</td>\n",
              "    </tr>\n",
              "    <tr>\n",
              "      <th>Bill</th>\n",
              "      <td>21</td>\n",
              "      <td>86</td>\n",
              "      <td>77</td>\n",
              "      <td>69</td>\n",
              "      <td>78.0</td>\n",
              "    </tr>\n",
              "    <tr>\n",
              "      <th>Rahul</th>\n",
              "      <td>23</td>\n",
              "      <td>56</td>\n",
              "      <td>88</td>\n",
              "      <td>58</td>\n",
              "      <td>65.0</td>\n",
              "    </tr>\n",
              "  </tbody>\n",
              "</table>\n",
              "</div>"
            ],
            "text/plain": [
              "         Age  Sub1_Score  Sub2_Score  Sub3_Score  sub4_score\n",
              "Student                                                     \n",
              "Mak       24          68          83          51         NaN\n",
              "Bill      21          86          77          69        78.0\n",
              "Rahul     23          56          88          58        65.0"
            ]
          },
          "execution_count": 78,
          "metadata": {},
          "output_type": "execute_result"
        }
      ],
      "source": [
        "scores_df[2:]"
      ]
    },
    {
      "cell_type": "code",
      "execution_count": null,
      "id": "9680e3b1",
      "metadata": {
        "id": "9680e3b1",
        "outputId": "dfa3c1af-e810-440b-eb99-a8a4145ef992"
      },
      "outputs": [
        {
          "ename": "TypeError",
          "evalue": "'(slice(None, None, None), slice(2, None, None))' is an invalid key",
          "output_type": "error",
          "traceback": [
            "\u001b[1;31m---------------------------------------------------------------------------\u001b[0m",
            "\u001b[1;31mTypeError\u001b[0m                                 Traceback (most recent call last)",
            "\u001b[1;32m<ipython-input-77-dd6630988b55>\u001b[0m in \u001b[0;36m<module>\u001b[1;34m\u001b[0m\n\u001b[1;32m----> 1\u001b[1;33m \u001b[0mscores_df\u001b[0m\u001b[1;33m[\u001b[0m\u001b[1;33m:\u001b[0m\u001b[1;33m,\u001b[0m\u001b[1;36m2\u001b[0m\u001b[1;33m:\u001b[0m\u001b[1;33m]\u001b[0m\u001b[1;33m\u001b[0m\u001b[1;33m\u001b[0m\u001b[0m\n\u001b[0m",
            "\u001b[1;32m~\\anaconda3\\lib\\site-packages\\pandas\\core\\frame.py\u001b[0m in \u001b[0;36m__getitem__\u001b[1;34m(self, key)\u001b[0m\n\u001b[0;32m   3022\u001b[0m             \u001b[1;32mif\u001b[0m \u001b[0mself\u001b[0m\u001b[1;33m.\u001b[0m\u001b[0mcolumns\u001b[0m\u001b[1;33m.\u001b[0m\u001b[0mnlevels\u001b[0m \u001b[1;33m>\u001b[0m \u001b[1;36m1\u001b[0m\u001b[1;33m:\u001b[0m\u001b[1;33m\u001b[0m\u001b[1;33m\u001b[0m\u001b[0m\n\u001b[0;32m   3023\u001b[0m                 \u001b[1;32mreturn\u001b[0m \u001b[0mself\u001b[0m\u001b[1;33m.\u001b[0m\u001b[0m_getitem_multilevel\u001b[0m\u001b[1;33m(\u001b[0m\u001b[0mkey\u001b[0m\u001b[1;33m)\u001b[0m\u001b[1;33m\u001b[0m\u001b[1;33m\u001b[0m\u001b[0m\n\u001b[1;32m-> 3024\u001b[1;33m             \u001b[0mindexer\u001b[0m \u001b[1;33m=\u001b[0m \u001b[0mself\u001b[0m\u001b[1;33m.\u001b[0m\u001b[0mcolumns\u001b[0m\u001b[1;33m.\u001b[0m\u001b[0mget_loc\u001b[0m\u001b[1;33m(\u001b[0m\u001b[0mkey\u001b[0m\u001b[1;33m)\u001b[0m\u001b[1;33m\u001b[0m\u001b[1;33m\u001b[0m\u001b[0m\n\u001b[0m\u001b[0;32m   3025\u001b[0m             \u001b[1;32mif\u001b[0m \u001b[0mis_integer\u001b[0m\u001b[1;33m(\u001b[0m\u001b[0mindexer\u001b[0m\u001b[1;33m)\u001b[0m\u001b[1;33m:\u001b[0m\u001b[1;33m\u001b[0m\u001b[1;33m\u001b[0m\u001b[0m\n\u001b[0;32m   3026\u001b[0m                 \u001b[0mindexer\u001b[0m \u001b[1;33m=\u001b[0m \u001b[1;33m[\u001b[0m\u001b[0mindexer\u001b[0m\u001b[1;33m]\u001b[0m\u001b[1;33m\u001b[0m\u001b[1;33m\u001b[0m\u001b[0m\n",
            "\u001b[1;32m~\\anaconda3\\lib\\site-packages\\pandas\\core\\indexes\\base.py\u001b[0m in \u001b[0;36mget_loc\u001b[1;34m(self, key, method, tolerance)\u001b[0m\n\u001b[0;32m   3078\u001b[0m             \u001b[0mcasted_key\u001b[0m \u001b[1;33m=\u001b[0m \u001b[0mself\u001b[0m\u001b[1;33m.\u001b[0m\u001b[0m_maybe_cast_indexer\u001b[0m\u001b[1;33m(\u001b[0m\u001b[0mkey\u001b[0m\u001b[1;33m)\u001b[0m\u001b[1;33m\u001b[0m\u001b[1;33m\u001b[0m\u001b[0m\n\u001b[0;32m   3079\u001b[0m             \u001b[1;32mtry\u001b[0m\u001b[1;33m:\u001b[0m\u001b[1;33m\u001b[0m\u001b[1;33m\u001b[0m\u001b[0m\n\u001b[1;32m-> 3080\u001b[1;33m                 \u001b[1;32mreturn\u001b[0m \u001b[0mself\u001b[0m\u001b[1;33m.\u001b[0m\u001b[0m_engine\u001b[0m\u001b[1;33m.\u001b[0m\u001b[0mget_loc\u001b[0m\u001b[1;33m(\u001b[0m\u001b[0mcasted_key\u001b[0m\u001b[1;33m)\u001b[0m\u001b[1;33m\u001b[0m\u001b[1;33m\u001b[0m\u001b[0m\n\u001b[0m\u001b[0;32m   3081\u001b[0m             \u001b[1;32mexcept\u001b[0m \u001b[0mKeyError\u001b[0m \u001b[1;32mas\u001b[0m \u001b[0merr\u001b[0m\u001b[1;33m:\u001b[0m\u001b[1;33m\u001b[0m\u001b[1;33m\u001b[0m\u001b[0m\n\u001b[0;32m   3082\u001b[0m                 \u001b[1;32mraise\u001b[0m \u001b[0mKeyError\u001b[0m\u001b[1;33m(\u001b[0m\u001b[0mkey\u001b[0m\u001b[1;33m)\u001b[0m \u001b[1;32mfrom\u001b[0m \u001b[0merr\u001b[0m\u001b[1;33m\u001b[0m\u001b[1;33m\u001b[0m\u001b[0m\n",
            "\u001b[1;32mpandas\\_libs\\index.pyx\u001b[0m in \u001b[0;36mpandas._libs.index.IndexEngine.get_loc\u001b[1;34m()\u001b[0m\n",
            "\u001b[1;32mpandas\\_libs\\index.pyx\u001b[0m in \u001b[0;36mpandas._libs.index.IndexEngine.get_loc\u001b[1;34m()\u001b[0m\n",
            "\u001b[1;31mTypeError\u001b[0m: '(slice(None, None, None), slice(2, None, None))' is an invalid key"
          ]
        }
      ],
      "source": [
        "scores_df[:,2:]"
      ]
    },
    {
      "cell_type": "code",
      "execution_count": null,
      "id": "62d11c81",
      "metadata": {
        "id": "62d11c81",
        "outputId": "a28d3f65-5bda-468d-9a57-d08e41483a21"
      },
      "outputs": [
        {
          "ename": "TypeError",
          "evalue": "cannot do slice indexing on Index with these indexers [2] of type int",
          "output_type": "error",
          "traceback": [
            "\u001b[1;31m---------------------------------------------------------------------------\u001b[0m",
            "\u001b[1;31mTypeError\u001b[0m                                 Traceback (most recent call last)",
            "\u001b[1;32m<ipython-input-79-87ea04397982>\u001b[0m in \u001b[0;36m<module>\u001b[1;34m\u001b[0m\n\u001b[1;32m----> 1\u001b[1;33m \u001b[0mscores_df\u001b[0m\u001b[1;33m.\u001b[0m\u001b[0mloc\u001b[0m\u001b[1;33m[\u001b[0m\u001b[1;33m:\u001b[0m\u001b[1;33m,\u001b[0m\u001b[1;36m2\u001b[0m\u001b[1;33m:\u001b[0m\u001b[1;33m]\u001b[0m\u001b[1;33m\u001b[0m\u001b[1;33m\u001b[0m\u001b[0m\n\u001b[0m",
            "\u001b[1;32m~\\anaconda3\\lib\\site-packages\\pandas\\core\\indexing.py\u001b[0m in \u001b[0;36m__getitem__\u001b[1;34m(self, key)\u001b[0m\n\u001b[0;32m    887\u001b[0m                     \u001b[1;31m# AttributeError for IntervalTree get_value\u001b[0m\u001b[1;33m\u001b[0m\u001b[1;33m\u001b[0m\u001b[1;33m\u001b[0m\u001b[0m\n\u001b[0;32m    888\u001b[0m                     \u001b[1;32mreturn\u001b[0m \u001b[0mself\u001b[0m\u001b[1;33m.\u001b[0m\u001b[0mobj\u001b[0m\u001b[1;33m.\u001b[0m\u001b[0m_get_value\u001b[0m\u001b[1;33m(\u001b[0m\u001b[1;33m*\u001b[0m\u001b[0mkey\u001b[0m\u001b[1;33m,\u001b[0m \u001b[0mtakeable\u001b[0m\u001b[1;33m=\u001b[0m\u001b[0mself\u001b[0m\u001b[1;33m.\u001b[0m\u001b[0m_takeable\u001b[0m\u001b[1;33m)\u001b[0m\u001b[1;33m\u001b[0m\u001b[1;33m\u001b[0m\u001b[0m\n\u001b[1;32m--> 889\u001b[1;33m             \u001b[1;32mreturn\u001b[0m \u001b[0mself\u001b[0m\u001b[1;33m.\u001b[0m\u001b[0m_getitem_tuple\u001b[0m\u001b[1;33m(\u001b[0m\u001b[0mkey\u001b[0m\u001b[1;33m)\u001b[0m\u001b[1;33m\u001b[0m\u001b[1;33m\u001b[0m\u001b[0m\n\u001b[0m\u001b[0;32m    890\u001b[0m         \u001b[1;32melse\u001b[0m\u001b[1;33m:\u001b[0m\u001b[1;33m\u001b[0m\u001b[1;33m\u001b[0m\u001b[0m\n\u001b[0;32m    891\u001b[0m             \u001b[1;31m# we by definition only have the 0th axis\u001b[0m\u001b[1;33m\u001b[0m\u001b[1;33m\u001b[0m\u001b[1;33m\u001b[0m\u001b[0m\n",
            "\u001b[1;32m~\\anaconda3\\lib\\site-packages\\pandas\\core\\indexing.py\u001b[0m in \u001b[0;36m_getitem_tuple\u001b[1;34m(self, tup)\u001b[0m\n\u001b[0;32m   1067\u001b[0m             \u001b[1;32mreturn\u001b[0m \u001b[0mself\u001b[0m\u001b[1;33m.\u001b[0m\u001b[0m_multi_take\u001b[0m\u001b[1;33m(\u001b[0m\u001b[0mtup\u001b[0m\u001b[1;33m)\u001b[0m\u001b[1;33m\u001b[0m\u001b[1;33m\u001b[0m\u001b[0m\n\u001b[0;32m   1068\u001b[0m \u001b[1;33m\u001b[0m\u001b[0m\n\u001b[1;32m-> 1069\u001b[1;33m         \u001b[1;32mreturn\u001b[0m \u001b[0mself\u001b[0m\u001b[1;33m.\u001b[0m\u001b[0m_getitem_tuple_same_dim\u001b[0m\u001b[1;33m(\u001b[0m\u001b[0mtup\u001b[0m\u001b[1;33m)\u001b[0m\u001b[1;33m\u001b[0m\u001b[1;33m\u001b[0m\u001b[0m\n\u001b[0m\u001b[0;32m   1070\u001b[0m \u001b[1;33m\u001b[0m\u001b[0m\n\u001b[0;32m   1071\u001b[0m     \u001b[1;32mdef\u001b[0m \u001b[0m_get_label\u001b[0m\u001b[1;33m(\u001b[0m\u001b[0mself\u001b[0m\u001b[1;33m,\u001b[0m \u001b[0mlabel\u001b[0m\u001b[1;33m,\u001b[0m \u001b[0maxis\u001b[0m\u001b[1;33m:\u001b[0m \u001b[0mint\u001b[0m\u001b[1;33m)\u001b[0m\u001b[1;33m:\u001b[0m\u001b[1;33m\u001b[0m\u001b[1;33m\u001b[0m\u001b[0m\n",
            "\u001b[1;32m~\\anaconda3\\lib\\site-packages\\pandas\\core\\indexing.py\u001b[0m in \u001b[0;36m_getitem_tuple_same_dim\u001b[1;34m(self, tup)\u001b[0m\n\u001b[0;32m    773\u001b[0m                 \u001b[1;32mcontinue\u001b[0m\u001b[1;33m\u001b[0m\u001b[1;33m\u001b[0m\u001b[0m\n\u001b[0;32m    774\u001b[0m \u001b[1;33m\u001b[0m\u001b[0m\n\u001b[1;32m--> 775\u001b[1;33m             \u001b[0mretval\u001b[0m \u001b[1;33m=\u001b[0m \u001b[0mgetattr\u001b[0m\u001b[1;33m(\u001b[0m\u001b[0mretval\u001b[0m\u001b[1;33m,\u001b[0m \u001b[0mself\u001b[0m\u001b[1;33m.\u001b[0m\u001b[0mname\u001b[0m\u001b[1;33m)\u001b[0m\u001b[1;33m.\u001b[0m\u001b[0m_getitem_axis\u001b[0m\u001b[1;33m(\u001b[0m\u001b[0mkey\u001b[0m\u001b[1;33m,\u001b[0m \u001b[0maxis\u001b[0m\u001b[1;33m=\u001b[0m\u001b[0mi\u001b[0m\u001b[1;33m)\u001b[0m\u001b[1;33m\u001b[0m\u001b[1;33m\u001b[0m\u001b[0m\n\u001b[0m\u001b[0;32m    776\u001b[0m             \u001b[1;31m# We should never have retval.ndim < self.ndim, as that should\u001b[0m\u001b[1;33m\u001b[0m\u001b[1;33m\u001b[0m\u001b[1;33m\u001b[0m\u001b[0m\n\u001b[0;32m    777\u001b[0m             \u001b[1;31m#  be handled by the _getitem_lowerdim call above.\u001b[0m\u001b[1;33m\u001b[0m\u001b[1;33m\u001b[0m\u001b[1;33m\u001b[0m\u001b[0m\n",
            "\u001b[1;32m~\\anaconda3\\lib\\site-packages\\pandas\\core\\indexing.py\u001b[0m in \u001b[0;36m_getitem_axis\u001b[1;34m(self, key, axis)\u001b[0m\n\u001b[0;32m   1100\u001b[0m         \u001b[1;32mif\u001b[0m \u001b[0misinstance\u001b[0m\u001b[1;33m(\u001b[0m\u001b[0mkey\u001b[0m\u001b[1;33m,\u001b[0m \u001b[0mslice\u001b[0m\u001b[1;33m)\u001b[0m\u001b[1;33m:\u001b[0m\u001b[1;33m\u001b[0m\u001b[1;33m\u001b[0m\u001b[0m\n\u001b[0;32m   1101\u001b[0m             \u001b[0mself\u001b[0m\u001b[1;33m.\u001b[0m\u001b[0m_validate_key\u001b[0m\u001b[1;33m(\u001b[0m\u001b[0mkey\u001b[0m\u001b[1;33m,\u001b[0m \u001b[0maxis\u001b[0m\u001b[1;33m)\u001b[0m\u001b[1;33m\u001b[0m\u001b[1;33m\u001b[0m\u001b[0m\n\u001b[1;32m-> 1102\u001b[1;33m             \u001b[1;32mreturn\u001b[0m \u001b[0mself\u001b[0m\u001b[1;33m.\u001b[0m\u001b[0m_get_slice_axis\u001b[0m\u001b[1;33m(\u001b[0m\u001b[0mkey\u001b[0m\u001b[1;33m,\u001b[0m \u001b[0maxis\u001b[0m\u001b[1;33m=\u001b[0m\u001b[0maxis\u001b[0m\u001b[1;33m)\u001b[0m\u001b[1;33m\u001b[0m\u001b[1;33m\u001b[0m\u001b[0m\n\u001b[0m\u001b[0;32m   1103\u001b[0m         \u001b[1;32melif\u001b[0m \u001b[0mcom\u001b[0m\u001b[1;33m.\u001b[0m\u001b[0mis_bool_indexer\u001b[0m\u001b[1;33m(\u001b[0m\u001b[0mkey\u001b[0m\u001b[1;33m)\u001b[0m\u001b[1;33m:\u001b[0m\u001b[1;33m\u001b[0m\u001b[1;33m\u001b[0m\u001b[0m\n\u001b[0;32m   1104\u001b[0m             \u001b[1;32mreturn\u001b[0m \u001b[0mself\u001b[0m\u001b[1;33m.\u001b[0m\u001b[0m_getbool_axis\u001b[0m\u001b[1;33m(\u001b[0m\u001b[0mkey\u001b[0m\u001b[1;33m,\u001b[0m \u001b[0maxis\u001b[0m\u001b[1;33m=\u001b[0m\u001b[0maxis\u001b[0m\u001b[1;33m)\u001b[0m\u001b[1;33m\u001b[0m\u001b[1;33m\u001b[0m\u001b[0m\n",
            "\u001b[1;32m~\\anaconda3\\lib\\site-packages\\pandas\\core\\indexing.py\u001b[0m in \u001b[0;36m_get_slice_axis\u001b[1;34m(self, slice_obj, axis)\u001b[0m\n\u001b[0;32m   1134\u001b[0m \u001b[1;33m\u001b[0m\u001b[0m\n\u001b[0;32m   1135\u001b[0m         \u001b[0mlabels\u001b[0m \u001b[1;33m=\u001b[0m \u001b[0mobj\u001b[0m\u001b[1;33m.\u001b[0m\u001b[0m_get_axis\u001b[0m\u001b[1;33m(\u001b[0m\u001b[0maxis\u001b[0m\u001b[1;33m)\u001b[0m\u001b[1;33m\u001b[0m\u001b[1;33m\u001b[0m\u001b[0m\n\u001b[1;32m-> 1136\u001b[1;33m         indexer = labels.slice_indexer(\n\u001b[0m\u001b[0;32m   1137\u001b[0m             \u001b[0mslice_obj\u001b[0m\u001b[1;33m.\u001b[0m\u001b[0mstart\u001b[0m\u001b[1;33m,\u001b[0m \u001b[0mslice_obj\u001b[0m\u001b[1;33m.\u001b[0m\u001b[0mstop\u001b[0m\u001b[1;33m,\u001b[0m \u001b[0mslice_obj\u001b[0m\u001b[1;33m.\u001b[0m\u001b[0mstep\u001b[0m\u001b[1;33m,\u001b[0m \u001b[0mkind\u001b[0m\u001b[1;33m=\u001b[0m\u001b[1;34m\"loc\"\u001b[0m\u001b[1;33m\u001b[0m\u001b[1;33m\u001b[0m\u001b[0m\n\u001b[0;32m   1138\u001b[0m         )\n",
            "\u001b[1;32m~\\anaconda3\\lib\\site-packages\\pandas\\core\\indexes\\base.py\u001b[0m in \u001b[0;36mslice_indexer\u001b[1;34m(self, start, end, step, kind)\u001b[0m\n\u001b[0;32m   5275\u001b[0m         \u001b[0mslice\u001b[0m\u001b[1;33m(\u001b[0m\u001b[1;36m1\u001b[0m\u001b[1;33m,\u001b[0m \u001b[1;36m3\u001b[0m\u001b[1;33m,\u001b[0m \u001b[1;32mNone\u001b[0m\u001b[1;33m)\u001b[0m\u001b[1;33m\u001b[0m\u001b[1;33m\u001b[0m\u001b[0m\n\u001b[0;32m   5276\u001b[0m         \"\"\"\n\u001b[1;32m-> 5277\u001b[1;33m         \u001b[0mstart_slice\u001b[0m\u001b[1;33m,\u001b[0m \u001b[0mend_slice\u001b[0m \u001b[1;33m=\u001b[0m \u001b[0mself\u001b[0m\u001b[1;33m.\u001b[0m\u001b[0mslice_locs\u001b[0m\u001b[1;33m(\u001b[0m\u001b[0mstart\u001b[0m\u001b[1;33m,\u001b[0m \u001b[0mend\u001b[0m\u001b[1;33m,\u001b[0m \u001b[0mstep\u001b[0m\u001b[1;33m=\u001b[0m\u001b[0mstep\u001b[0m\u001b[1;33m,\u001b[0m \u001b[0mkind\u001b[0m\u001b[1;33m=\u001b[0m\u001b[0mkind\u001b[0m\u001b[1;33m)\u001b[0m\u001b[1;33m\u001b[0m\u001b[1;33m\u001b[0m\u001b[0m\n\u001b[0m\u001b[0;32m   5278\u001b[0m \u001b[1;33m\u001b[0m\u001b[0m\n\u001b[0;32m   5279\u001b[0m         \u001b[1;31m# return a slice\u001b[0m\u001b[1;33m\u001b[0m\u001b[1;33m\u001b[0m\u001b[1;33m\u001b[0m\u001b[0m\n",
            "\u001b[1;32m~\\anaconda3\\lib\\site-packages\\pandas\\core\\indexes\\base.py\u001b[0m in \u001b[0;36mslice_locs\u001b[1;34m(self, start, end, step, kind)\u001b[0m\n\u001b[0;32m   5474\u001b[0m         \u001b[0mstart_slice\u001b[0m \u001b[1;33m=\u001b[0m \u001b[1;32mNone\u001b[0m\u001b[1;33m\u001b[0m\u001b[1;33m\u001b[0m\u001b[0m\n\u001b[0;32m   5475\u001b[0m         \u001b[1;32mif\u001b[0m \u001b[0mstart\u001b[0m \u001b[1;32mis\u001b[0m \u001b[1;32mnot\u001b[0m \u001b[1;32mNone\u001b[0m\u001b[1;33m:\u001b[0m\u001b[1;33m\u001b[0m\u001b[1;33m\u001b[0m\u001b[0m\n\u001b[1;32m-> 5476\u001b[1;33m             \u001b[0mstart_slice\u001b[0m \u001b[1;33m=\u001b[0m \u001b[0mself\u001b[0m\u001b[1;33m.\u001b[0m\u001b[0mget_slice_bound\u001b[0m\u001b[1;33m(\u001b[0m\u001b[0mstart\u001b[0m\u001b[1;33m,\u001b[0m \u001b[1;34m\"left\"\u001b[0m\u001b[1;33m,\u001b[0m \u001b[0mkind\u001b[0m\u001b[1;33m)\u001b[0m\u001b[1;33m\u001b[0m\u001b[1;33m\u001b[0m\u001b[0m\n\u001b[0m\u001b[0;32m   5477\u001b[0m         \u001b[1;32mif\u001b[0m \u001b[0mstart_slice\u001b[0m \u001b[1;32mis\u001b[0m \u001b[1;32mNone\u001b[0m\u001b[1;33m:\u001b[0m\u001b[1;33m\u001b[0m\u001b[1;33m\u001b[0m\u001b[0m\n\u001b[0;32m   5478\u001b[0m             \u001b[0mstart_slice\u001b[0m \u001b[1;33m=\u001b[0m \u001b[1;36m0\u001b[0m\u001b[1;33m\u001b[0m\u001b[1;33m\u001b[0m\u001b[0m\n",
            "\u001b[1;32m~\\anaconda3\\lib\\site-packages\\pandas\\core\\indexes\\base.py\u001b[0m in \u001b[0;36mget_slice_bound\u001b[1;34m(self, label, side, kind)\u001b[0m\n\u001b[0;32m   5384\u001b[0m         \u001b[1;31m# For datetime indices label may be a string that has to be converted\u001b[0m\u001b[1;33m\u001b[0m\u001b[1;33m\u001b[0m\u001b[1;33m\u001b[0m\u001b[0m\n\u001b[0;32m   5385\u001b[0m         \u001b[1;31m# to datetime boundary according to its resolution.\u001b[0m\u001b[1;33m\u001b[0m\u001b[1;33m\u001b[0m\u001b[1;33m\u001b[0m\u001b[0m\n\u001b[1;32m-> 5386\u001b[1;33m         \u001b[0mlabel\u001b[0m \u001b[1;33m=\u001b[0m \u001b[0mself\u001b[0m\u001b[1;33m.\u001b[0m\u001b[0m_maybe_cast_slice_bound\u001b[0m\u001b[1;33m(\u001b[0m\u001b[0mlabel\u001b[0m\u001b[1;33m,\u001b[0m \u001b[0mside\u001b[0m\u001b[1;33m,\u001b[0m \u001b[0mkind\u001b[0m\u001b[1;33m)\u001b[0m\u001b[1;33m\u001b[0m\u001b[1;33m\u001b[0m\u001b[0m\n\u001b[0m\u001b[0;32m   5387\u001b[0m \u001b[1;33m\u001b[0m\u001b[0m\n\u001b[0;32m   5388\u001b[0m         \u001b[1;31m# we need to look up the label\u001b[0m\u001b[1;33m\u001b[0m\u001b[1;33m\u001b[0m\u001b[1;33m\u001b[0m\u001b[0m\n",
            "\u001b[1;32m~\\anaconda3\\lib\\site-packages\\pandas\\core\\indexes\\base.py\u001b[0m in \u001b[0;36m_maybe_cast_slice_bound\u001b[1;34m(self, label, side, kind)\u001b[0m\n\u001b[0;32m   5336\u001b[0m         \u001b[1;31m# reject them, if index does not contain label\u001b[0m\u001b[1;33m\u001b[0m\u001b[1;33m\u001b[0m\u001b[1;33m\u001b[0m\u001b[0m\n\u001b[0;32m   5337\u001b[0m         \u001b[1;32mif\u001b[0m \u001b[1;33m(\u001b[0m\u001b[0mis_float\u001b[0m\u001b[1;33m(\u001b[0m\u001b[0mlabel\u001b[0m\u001b[1;33m)\u001b[0m \u001b[1;32mor\u001b[0m \u001b[0mis_integer\u001b[0m\u001b[1;33m(\u001b[0m\u001b[0mlabel\u001b[0m\u001b[1;33m)\u001b[0m\u001b[1;33m)\u001b[0m \u001b[1;32mand\u001b[0m \u001b[0mlabel\u001b[0m \u001b[1;32mnot\u001b[0m \u001b[1;32min\u001b[0m \u001b[0mself\u001b[0m\u001b[1;33m.\u001b[0m\u001b[0mvalues\u001b[0m\u001b[1;33m:\u001b[0m\u001b[1;33m\u001b[0m\u001b[1;33m\u001b[0m\u001b[0m\n\u001b[1;32m-> 5338\u001b[1;33m             \u001b[1;32mraise\u001b[0m \u001b[0mself\u001b[0m\u001b[1;33m.\u001b[0m\u001b[0m_invalid_indexer\u001b[0m\u001b[1;33m(\u001b[0m\u001b[1;34m\"slice\"\u001b[0m\u001b[1;33m,\u001b[0m \u001b[0mlabel\u001b[0m\u001b[1;33m)\u001b[0m\u001b[1;33m\u001b[0m\u001b[1;33m\u001b[0m\u001b[0m\n\u001b[0m\u001b[0;32m   5339\u001b[0m \u001b[1;33m\u001b[0m\u001b[0m\n\u001b[0;32m   5340\u001b[0m         \u001b[1;32mreturn\u001b[0m \u001b[0mlabel\u001b[0m\u001b[1;33m\u001b[0m\u001b[1;33m\u001b[0m\u001b[0m\n",
            "\u001b[1;31mTypeError\u001b[0m: cannot do slice indexing on Index with these indexers [2] of type int"
          ]
        }
      ],
      "source": [
        "scores_df.loc[:,2:]"
      ]
    },
    {
      "cell_type": "code",
      "execution_count": null,
      "id": "eb77179a",
      "metadata": {
        "id": "eb77179a",
        "outputId": "a501384f-ce6d-47e8-9f81-377c54784afd"
      },
      "outputs": [
        {
          "data": {
            "text/html": [
              "<div>\n",
              "<style scoped>\n",
              "    .dataframe tbody tr th:only-of-type {\n",
              "        vertical-align: middle;\n",
              "    }\n",
              "\n",
              "    .dataframe tbody tr th {\n",
              "        vertical-align: top;\n",
              "    }\n",
              "\n",
              "    .dataframe thead th {\n",
              "        text-align: right;\n",
              "    }\n",
              "</style>\n",
              "<table border=\"1\" class=\"dataframe\">\n",
              "  <thead>\n",
              "    <tr style=\"text-align: right;\">\n",
              "      <th></th>\n",
              "      <th>Sub2_Score</th>\n",
              "      <th>Sub3_Score</th>\n",
              "      <th>sub4_score</th>\n",
              "    </tr>\n",
              "    <tr>\n",
              "      <th>Student</th>\n",
              "      <th></th>\n",
              "      <th></th>\n",
              "      <th></th>\n",
              "    </tr>\n",
              "  </thead>\n",
              "  <tbody>\n",
              "    <tr>\n",
              "      <th>Tom</th>\n",
              "      <td>40</td>\n",
              "      <td>55</td>\n",
              "      <td>NaN</td>\n",
              "    </tr>\n",
              "    <tr>\n",
              "      <th>Katey</th>\n",
              "      <td>89</td>\n",
              "      <td>91</td>\n",
              "      <td>98.0</td>\n",
              "    </tr>\n",
              "    <tr>\n",
              "      <th>Mak</th>\n",
              "      <td>83</td>\n",
              "      <td>51</td>\n",
              "      <td>NaN</td>\n",
              "    </tr>\n",
              "    <tr>\n",
              "      <th>Bill</th>\n",
              "      <td>77</td>\n",
              "      <td>69</td>\n",
              "      <td>78.0</td>\n",
              "    </tr>\n",
              "    <tr>\n",
              "      <th>Rahul</th>\n",
              "      <td>88</td>\n",
              "      <td>58</td>\n",
              "      <td>65.0</td>\n",
              "    </tr>\n",
              "  </tbody>\n",
              "</table>\n",
              "</div>"
            ],
            "text/plain": [
              "         Sub2_Score  Sub3_Score  sub4_score\n",
              "Student                                    \n",
              "Tom              40          55         NaN\n",
              "Katey            89          91        98.0\n",
              "Mak              83          51         NaN\n",
              "Bill             77          69        78.0\n",
              "Rahul            88          58        65.0"
            ]
          },
          "execution_count": 80,
          "metadata": {},
          "output_type": "execute_result"
        }
      ],
      "source": [
        "scores_df.iloc[:,2:]"
      ]
    },
    {
      "cell_type": "markdown",
      "id": "baa13943",
      "metadata": {
        "id": "baa13943"
      },
      "source": [
        ""
      ]
    },
    {
      "cell_type": "code",
      "execution_count": null,
      "id": "bf0add4f",
      "metadata": {
        "id": "bf0add4f",
        "outputId": "ca7ad788-b025-428b-8d43-a53169fc12ec"
      },
      "outputs": [
        {
          "data": {
            "text/plain": [
              "Student\n",
              "Tom      False\n",
              "Katey     True\n",
              "Mak       True\n",
              "Bill      True\n",
              "Rahul     True\n",
              "Name: Sub2_Score, dtype: bool"
            ]
          },
          "execution_count": 81,
          "metadata": {},
          "output_type": "execute_result"
        }
      ],
      "source": [
        "scores_df['Sub2_Score'] > 50"
      ]
    },
    {
      "cell_type": "code",
      "execution_count": null,
      "id": "f5bc0fa5",
      "metadata": {
        "id": "f5bc0fa5",
        "outputId": "cff84d79-eafd-4aa9-f257-27068c51ebdf"
      },
      "outputs": [
        {
          "data": {
            "text/html": [
              "<div>\n",
              "<style scoped>\n",
              "    .dataframe tbody tr th:only-of-type {\n",
              "        vertical-align: middle;\n",
              "    }\n",
              "\n",
              "    .dataframe tbody tr th {\n",
              "        vertical-align: top;\n",
              "    }\n",
              "\n",
              "    .dataframe thead th {\n",
              "        text-align: right;\n",
              "    }\n",
              "</style>\n",
              "<table border=\"1\" class=\"dataframe\">\n",
              "  <thead>\n",
              "    <tr style=\"text-align: right;\">\n",
              "      <th></th>\n",
              "      <th>Age</th>\n",
              "      <th>Sub1_Score</th>\n",
              "      <th>Sub2_Score</th>\n",
              "      <th>Sub3_Score</th>\n",
              "      <th>sub4_score</th>\n",
              "    </tr>\n",
              "    <tr>\n",
              "      <th>Student</th>\n",
              "      <th></th>\n",
              "      <th></th>\n",
              "      <th></th>\n",
              "      <th></th>\n",
              "      <th></th>\n",
              "    </tr>\n",
              "  </thead>\n",
              "  <tbody>\n",
              "    <tr>\n",
              "      <th>Katey</th>\n",
              "      <td>21</td>\n",
              "      <td>82</td>\n",
              "      <td>89</td>\n",
              "      <td>91</td>\n",
              "      <td>98.0</td>\n",
              "    </tr>\n",
              "    <tr>\n",
              "      <th>Mak</th>\n",
              "      <td>24</td>\n",
              "      <td>68</td>\n",
              "      <td>83</td>\n",
              "      <td>51</td>\n",
              "      <td>NaN</td>\n",
              "    </tr>\n",
              "    <tr>\n",
              "      <th>Bill</th>\n",
              "      <td>21</td>\n",
              "      <td>86</td>\n",
              "      <td>77</td>\n",
              "      <td>69</td>\n",
              "      <td>78.0</td>\n",
              "    </tr>\n",
              "    <tr>\n",
              "      <th>Rahul</th>\n",
              "      <td>23</td>\n",
              "      <td>56</td>\n",
              "      <td>88</td>\n",
              "      <td>58</td>\n",
              "      <td>65.0</td>\n",
              "    </tr>\n",
              "  </tbody>\n",
              "</table>\n",
              "</div>"
            ],
            "text/plain": [
              "         Age  Sub1_Score  Sub2_Score  Sub3_Score  sub4_score\n",
              "Student                                                     \n",
              "Katey     21          82          89          91        98.0\n",
              "Mak       24          68          83          51         NaN\n",
              "Bill      21          86          77          69        78.0\n",
              "Rahul     23          56          88          58        65.0"
            ]
          },
          "execution_count": 82,
          "metadata": {},
          "output_type": "execute_result"
        }
      ],
      "source": [
        "scores_df[scores_df['Sub2_Score'] > 50]"
      ]
    },
    {
      "cell_type": "code",
      "execution_count": null,
      "id": "b5ab84cb",
      "metadata": {
        "id": "b5ab84cb",
        "outputId": "39f7b0b2-2fbb-4fd4-d92a-e4a6964fc8ca"
      },
      "outputs": [
        {
          "data": {
            "text/plain": [
              "pandas.core.series.Series"
            ]
          },
          "execution_count": 84,
          "metadata": {},
          "output_type": "execute_result"
        }
      ],
      "source": [
        "type(scores_df[\"Age\"])"
      ]
    },
    {
      "cell_type": "code",
      "execution_count": null,
      "id": "5fc89e90",
      "metadata": {
        "id": "5fc89e90",
        "outputId": "2309ae96-7df7-4560-ae9a-2e20d80f56ff"
      },
      "outputs": [
        {
          "data": {
            "text/html": [
              "<div>\n",
              "<style scoped>\n",
              "    .dataframe tbody tr th:only-of-type {\n",
              "        vertical-align: middle;\n",
              "    }\n",
              "\n",
              "    .dataframe tbody tr th {\n",
              "        vertical-align: top;\n",
              "    }\n",
              "\n",
              "    .dataframe thead th {\n",
              "        text-align: right;\n",
              "    }\n",
              "</style>\n",
              "<table border=\"1\" class=\"dataframe\">\n",
              "  <thead>\n",
              "    <tr style=\"text-align: right;\">\n",
              "      <th></th>\n",
              "      <th>Age</th>\n",
              "      <th>Sub1_Score</th>\n",
              "      <th>Sub2_Score</th>\n",
              "      <th>Sub3_Score</th>\n",
              "      <th>sub4_score</th>\n",
              "    </tr>\n",
              "    <tr>\n",
              "      <th>Student</th>\n",
              "      <th></th>\n",
              "      <th></th>\n",
              "      <th></th>\n",
              "      <th></th>\n",
              "      <th></th>\n",
              "    </tr>\n",
              "  </thead>\n",
              "  <tbody>\n",
              "    <tr>\n",
              "      <th>Katey</th>\n",
              "      <td>21</td>\n",
              "      <td>82</td>\n",
              "      <td>89</td>\n",
              "      <td>91</td>\n",
              "      <td>98.0</td>\n",
              "    </tr>\n",
              "  </tbody>\n",
              "</table>\n",
              "</div>"
            ],
            "text/plain": [
              "         Age  Sub1_Score  Sub2_Score  Sub3_Score  sub4_score\n",
              "Student                                                     \n",
              "Katey     21          82          89          91        98.0"
            ]
          },
          "execution_count": 86,
          "metadata": {},
          "output_type": "execute_result"
        }
      ],
      "source": [
        "#cascaded Conditions\n",
        "\n",
        "scores_df[(scores_df['Sub2_Score'] > 80) & (scores_df['Sub3_Score'] > 80)]\n"
      ]
    },
    {
      "cell_type": "markdown",
      "id": "3838786b",
      "metadata": {
        "id": "3838786b"
      },
      "source": [
        "# query() method for filtering"
      ]
    },
    {
      "cell_type": "code",
      "execution_count": null,
      "id": "80430e43",
      "metadata": {
        "id": "80430e43",
        "outputId": "ec51e442-6daf-412b-b0ac-efc8d45b11a0"
      },
      "outputs": [
        {
          "data": {
            "text/html": [
              "<div>\n",
              "<style scoped>\n",
              "    .dataframe tbody tr th:only-of-type {\n",
              "        vertical-align: middle;\n",
              "    }\n",
              "\n",
              "    .dataframe tbody tr th {\n",
              "        vertical-align: top;\n",
              "    }\n",
              "\n",
              "    .dataframe thead th {\n",
              "        text-align: right;\n",
              "    }\n",
              "</style>\n",
              "<table border=\"1\" class=\"dataframe\">\n",
              "  <thead>\n",
              "    <tr style=\"text-align: right;\">\n",
              "      <th></th>\n",
              "      <th>Age</th>\n",
              "      <th>Sub1_Score</th>\n",
              "      <th>Sub2_Score</th>\n",
              "      <th>Sub3_Score</th>\n",
              "      <th>sub4_score</th>\n",
              "    </tr>\n",
              "    <tr>\n",
              "      <th>Student</th>\n",
              "      <th></th>\n",
              "      <th></th>\n",
              "      <th></th>\n",
              "      <th></th>\n",
              "      <th></th>\n",
              "    </tr>\n",
              "  </thead>\n",
              "  <tbody>\n",
              "    <tr>\n",
              "      <th>Katey</th>\n",
              "      <td>21</td>\n",
              "      <td>82</td>\n",
              "      <td>89</td>\n",
              "      <td>91</td>\n",
              "      <td>98.0</td>\n",
              "    </tr>\n",
              "  </tbody>\n",
              "</table>\n",
              "</div>"
            ],
            "text/plain": [
              "         Age  Sub1_Score  Sub2_Score  Sub3_Score  sub4_score\n",
              "Student                                                     \n",
              "Katey     21          82          89          91        98.0"
            ]
          },
          "execution_count": 87,
          "metadata": {},
          "output_type": "execute_result"
        }
      ],
      "source": [
        "scores_df.query('Sub1_Score >= 80 & Sub2_Score >= 80')"
      ]
    },
    {
      "cell_type": "code",
      "execution_count": null,
      "id": "12071dd2",
      "metadata": {
        "id": "12071dd2",
        "outputId": "3ef2ee7c-fb4e-4f54-c601-ac4264142dee"
      },
      "outputs": [
        {
          "data": {
            "text/html": [
              "<div>\n",
              "<style scoped>\n",
              "    .dataframe tbody tr th:only-of-type {\n",
              "        vertical-align: middle;\n",
              "    }\n",
              "\n",
              "    .dataframe tbody tr th {\n",
              "        vertical-align: top;\n",
              "    }\n",
              "\n",
              "    .dataframe thead th {\n",
              "        text-align: right;\n",
              "    }\n",
              "</style>\n",
              "<table border=\"1\" class=\"dataframe\">\n",
              "  <thead>\n",
              "    <tr style=\"text-align: right;\">\n",
              "      <th></th>\n",
              "      <th>Age</th>\n",
              "      <th>Sub1_Score</th>\n",
              "      <th>Sub2_Score</th>\n",
              "      <th>Sub3_Score</th>\n",
              "      <th>sub4_score</th>\n",
              "    </tr>\n",
              "    <tr>\n",
              "      <th>Student</th>\n",
              "      <th></th>\n",
              "      <th></th>\n",
              "      <th></th>\n",
              "      <th></th>\n",
              "      <th></th>\n",
              "    </tr>\n",
              "  </thead>\n",
              "  <tbody>\n",
              "    <tr>\n",
              "      <th>Tom</th>\n",
              "      <td>22</td>\n",
              "      <td>84</td>\n",
              "      <td>40</td>\n",
              "      <td>55</td>\n",
              "      <td>NaN</td>\n",
              "    </tr>\n",
              "    <tr>\n",
              "      <th>Mak</th>\n",
              "      <td>24</td>\n",
              "      <td>68</td>\n",
              "      <td>83</td>\n",
              "      <td>51</td>\n",
              "      <td>NaN</td>\n",
              "    </tr>\n",
              "    <tr>\n",
              "      <th>Rahul</th>\n",
              "      <td>23</td>\n",
              "      <td>56</td>\n",
              "      <td>88</td>\n",
              "      <td>58</td>\n",
              "      <td>65.0</td>\n",
              "    </tr>\n",
              "  </tbody>\n",
              "</table>\n",
              "</div>"
            ],
            "text/plain": [
              "         Age  Sub1_Score  Sub2_Score  Sub3_Score  sub4_score\n",
              "Student                                                     \n",
              "Tom       22          84          40          55         NaN\n",
              "Mak       24          68          83          51         NaN\n",
              "Rahul     23          56          88          58        65.0"
            ]
          },
          "execution_count": 89,
          "metadata": {},
          "output_type": "execute_result"
        }
      ],
      "source": [
        "scores_df.query('Sub1_Score == Sub2_Score | Sub3_Score<60')"
      ]
    },
    {
      "cell_type": "markdown",
      "id": "82a9bc08",
      "metadata": {
        "id": "82a9bc08"
      },
      "source": [
        "# Insert new data in dataframe"
      ]
    },
    {
      "cell_type": "code",
      "execution_count": null,
      "id": "fca3d371",
      "metadata": {
        "id": "fca3d371",
        "outputId": "41784bac-2fba-4459-c244-81d26e282694"
      },
      "outputs": [
        {
          "data": {
            "text/html": [
              "<div>\n",
              "<style scoped>\n",
              "    .dataframe tbody tr th:only-of-type {\n",
              "        vertical-align: middle;\n",
              "    }\n",
              "\n",
              "    .dataframe tbody tr th {\n",
              "        vertical-align: top;\n",
              "    }\n",
              "\n",
              "    .dataframe thead th {\n",
              "        text-align: right;\n",
              "    }\n",
              "</style>\n",
              "<table border=\"1\" class=\"dataframe\">\n",
              "  <thead>\n",
              "    <tr style=\"text-align: right;\">\n",
              "      <th></th>\n",
              "      <th>Student</th>\n",
              "      <th>Age</th>\n",
              "      <th>Sub1_Score</th>\n",
              "      <th>Sub2_Score</th>\n",
              "      <th>Sub3_Score</th>\n",
              "    </tr>\n",
              "  </thead>\n",
              "  <tbody>\n",
              "    <tr>\n",
              "      <th>0</th>\n",
              "      <td>Tom</td>\n",
              "      <td>23</td>\n",
              "      <td>75</td>\n",
              "      <td>85</td>\n",
              "      <td>85</td>\n",
              "    </tr>\n",
              "    <tr>\n",
              "      <th>1</th>\n",
              "      <td>Katey</td>\n",
              "      <td>23</td>\n",
              "      <td>51</td>\n",
              "      <td>59</td>\n",
              "      <td>84</td>\n",
              "    </tr>\n",
              "    <tr>\n",
              "      <th>2</th>\n",
              "      <td>Mak</td>\n",
              "      <td>22</td>\n",
              "      <td>96</td>\n",
              "      <td>95</td>\n",
              "      <td>40</td>\n",
              "    </tr>\n",
              "    <tr>\n",
              "      <th>3</th>\n",
              "      <td>Bill</td>\n",
              "      <td>22</td>\n",
              "      <td>61</td>\n",
              "      <td>53</td>\n",
              "      <td>40</td>\n",
              "    </tr>\n",
              "    <tr>\n",
              "      <th>4</th>\n",
              "      <td>Tom</td>\n",
              "      <td>22</td>\n",
              "      <td>72</td>\n",
              "      <td>70</td>\n",
              "      <td>58</td>\n",
              "    </tr>\n",
              "    <tr>\n",
              "      <th>5</th>\n",
              "      <td>Rahul</td>\n",
              "      <td>20</td>\n",
              "      <td>50</td>\n",
              "      <td>83</td>\n",
              "      <td>92</td>\n",
              "    </tr>\n",
              "  </tbody>\n",
              "</table>\n",
              "</div>"
            ],
            "text/plain": [
              "  Student  Age  Sub1_Score  Sub2_Score  Sub3_Score\n",
              "0     Tom   23          75          85          85\n",
              "1   Katey   23          51          59          84\n",
              "2     Mak   22          96          95          40\n",
              "3    Bill   22          61          53          40\n",
              "4     Tom   22          72          70          58\n",
              "5   Rahul   20          50          83          92"
            ]
          },
          "execution_count": 97,
          "metadata": {},
          "output_type": "execute_result"
        }
      ],
      "source": [
        "##creating a dataframe using dictionary\n",
        "scores_data = {\"Student\": [\"Tom\", \"Katey\", \"Mak\", \"Bill\", \"Tom\", \"Rahul\"],\n",
        "               \"Age\": np.random.randint(20, 25, size=6),\n",
        "               \"Sub1_Score\": np.random.randint(40, 100, size=6),\n",
        "               \"Sub2_Score\": np.random.randint(40, 100, size=6),\n",
        "               \"Sub3_Score\": np.random.randint(40, 100, size=6)\n",
        "              }\n",
        "\n",
        "scores_df = pd.DataFrame(scores_data)\n",
        "scores_df"
      ]
    },
    {
      "cell_type": "code",
      "execution_count": null,
      "id": "344931cb",
      "metadata": {
        "id": "344931cb",
        "outputId": "c8a3b7f5-dc3d-4a96-ab59-094914d66be0"
      },
      "outputs": [
        {
          "data": {
            "text/html": [
              "<div>\n",
              "<style scoped>\n",
              "    .dataframe tbody tr th:only-of-type {\n",
              "        vertical-align: middle;\n",
              "    }\n",
              "\n",
              "    .dataframe tbody tr th {\n",
              "        vertical-align: top;\n",
              "    }\n",
              "\n",
              "    .dataframe thead th {\n",
              "        text-align: right;\n",
              "    }\n",
              "</style>\n",
              "<table border=\"1\" class=\"dataframe\">\n",
              "  <thead>\n",
              "    <tr style=\"text-align: right;\">\n",
              "      <th></th>\n",
              "      <th>Student</th>\n",
              "      <th>Age</th>\n",
              "      <th>Sub1_Score</th>\n",
              "      <th>Sub2_Score</th>\n",
              "      <th>Sub3_Score</th>\n",
              "    </tr>\n",
              "  </thead>\n",
              "  <tbody>\n",
              "    <tr>\n",
              "      <th>0</th>\n",
              "      <td>Tom</td>\n",
              "      <td>23</td>\n",
              "      <td>75</td>\n",
              "      <td>85</td>\n",
              "      <td>85</td>\n",
              "    </tr>\n",
              "    <tr>\n",
              "      <th>1</th>\n",
              "      <td>Katey</td>\n",
              "      <td>23</td>\n",
              "      <td>51</td>\n",
              "      <td>59</td>\n",
              "      <td>84</td>\n",
              "    </tr>\n",
              "    <tr>\n",
              "      <th>2</th>\n",
              "      <td>Mak</td>\n",
              "      <td>22</td>\n",
              "      <td>96</td>\n",
              "      <td>95</td>\n",
              "      <td>40</td>\n",
              "    </tr>\n",
              "    <tr>\n",
              "      <th>3</th>\n",
              "      <td>Bill</td>\n",
              "      <td>22</td>\n",
              "      <td>61</td>\n",
              "      <td>53</td>\n",
              "      <td>40</td>\n",
              "    </tr>\n",
              "    <tr>\n",
              "      <th>4</th>\n",
              "      <td>Tom</td>\n",
              "      <td>22</td>\n",
              "      <td>72</td>\n",
              "      <td>70</td>\n",
              "      <td>58</td>\n",
              "    </tr>\n",
              "    <tr>\n",
              "      <th>5</th>\n",
              "      <td>Rahul</td>\n",
              "      <td>20</td>\n",
              "      <td>50</td>\n",
              "      <td>83</td>\n",
              "      <td>92</td>\n",
              "    </tr>\n",
              "    <tr>\n",
              "      <th>6</th>\n",
              "      <td>Sahil</td>\n",
              "      <td>26</td>\n",
              "      <td>92</td>\n",
              "      <td>82</td>\n",
              "      <td>67</td>\n",
              "    </tr>\n",
              "  </tbody>\n",
              "</table>\n",
              "</div>"
            ],
            "text/plain": [
              "  Student  Age  Sub1_Score  Sub2_Score  Sub3_Score\n",
              "0     Tom   23          75          85          85\n",
              "1   Katey   23          51          59          84\n",
              "2     Mak   22          96          95          40\n",
              "3    Bill   22          61          53          40\n",
              "4     Tom   22          72          70          58\n",
              "5   Rahul   20          50          83          92\n",
              "6   Sahil   26          92          82          67"
            ]
          },
          "execution_count": 98,
          "metadata": {},
          "output_type": "execute_result"
        }
      ],
      "source": [
        "#Using dictionary\n",
        "new_student = {\n",
        "    \"Student\": \"Sahil\",\n",
        "    \"Age\": 26,\n",
        "    \"Sub1_Score\": 92,\n",
        "    \"Sub2_Score\": 82,\n",
        "    \"Sub3_Score\": 67,\n",
        "}\n",
        "\n",
        "scores_df = scores_df.append(new_student, ignore_index=True)\n",
        "scores_df"
      ]
    },
    {
      "cell_type": "code",
      "execution_count": null,
      "id": "d629f465",
      "metadata": {
        "id": "d629f465",
        "outputId": "ab883d1a-4ba3-4cac-85bc-b4ae23cf2fc7"
      },
      "outputs": [
        {
          "data": {
            "text/html": [
              "<div>\n",
              "<style scoped>\n",
              "    .dataframe tbody tr th:only-of-type {\n",
              "        vertical-align: middle;\n",
              "    }\n",
              "\n",
              "    .dataframe tbody tr th {\n",
              "        vertical-align: top;\n",
              "    }\n",
              "\n",
              "    .dataframe thead th {\n",
              "        text-align: right;\n",
              "    }\n",
              "</style>\n",
              "<table border=\"1\" class=\"dataframe\">\n",
              "  <thead>\n",
              "    <tr style=\"text-align: right;\">\n",
              "      <th></th>\n",
              "      <th>Student</th>\n",
              "      <th>Age</th>\n",
              "      <th>Sub1_Score</th>\n",
              "      <th>Sub2_Score</th>\n",
              "      <th>Sub3_Score</th>\n",
              "    </tr>\n",
              "  </thead>\n",
              "  <tbody>\n",
              "    <tr>\n",
              "      <th>0</th>\n",
              "      <td>Tom</td>\n",
              "      <td>23</td>\n",
              "      <td>75</td>\n",
              "      <td>85</td>\n",
              "      <td>85</td>\n",
              "    </tr>\n",
              "    <tr>\n",
              "      <th>1</th>\n",
              "      <td>Katey</td>\n",
              "      <td>23</td>\n",
              "      <td>51</td>\n",
              "      <td>59</td>\n",
              "      <td>84</td>\n",
              "    </tr>\n",
              "    <tr>\n",
              "      <th>2</th>\n",
              "      <td>Mak</td>\n",
              "      <td>22</td>\n",
              "      <td>96</td>\n",
              "      <td>95</td>\n",
              "      <td>40</td>\n",
              "    </tr>\n",
              "    <tr>\n",
              "      <th>3</th>\n",
              "      <td>Bill</td>\n",
              "      <td>22</td>\n",
              "      <td>61</td>\n",
              "      <td>53</td>\n",
              "      <td>40</td>\n",
              "    </tr>\n",
              "    <tr>\n",
              "      <th>4</th>\n",
              "      <td>Tom</td>\n",
              "      <td>22</td>\n",
              "      <td>72</td>\n",
              "      <td>70</td>\n",
              "      <td>58</td>\n",
              "    </tr>\n",
              "    <tr>\n",
              "      <th>5</th>\n",
              "      <td>Rahul</td>\n",
              "      <td>20</td>\n",
              "      <td>50</td>\n",
              "      <td>83</td>\n",
              "      <td>92</td>\n",
              "    </tr>\n",
              "    <tr>\n",
              "      <th>6</th>\n",
              "      <td>Sahil</td>\n",
              "      <td>26</td>\n",
              "      <td>92</td>\n",
              "      <td>82</td>\n",
              "      <td>67</td>\n",
              "    </tr>\n",
              "    <tr>\n",
              "      <th>7</th>\n",
              "      <td>Luke</td>\n",
              "      <td>22</td>\n",
              "      <td>78</td>\n",
              "      <td>65</td>\n",
              "      <td>90</td>\n",
              "    </tr>\n",
              "  </tbody>\n",
              "</table>\n",
              "</div>"
            ],
            "text/plain": [
              "  Student  Age  Sub1_Score  Sub2_Score  Sub3_Score\n",
              "0     Tom   23          75          85          85\n",
              "1   Katey   23          51          59          84\n",
              "2     Mak   22          96          95          40\n",
              "3    Bill   22          61          53          40\n",
              "4     Tom   22          72          70          58\n",
              "5   Rahul   20          50          83          92\n",
              "6   Sahil   26          92          82          67\n",
              "7    Luke   22          78          65          90"
            ]
          },
          "execution_count": 99,
          "metadata": {},
          "output_type": "execute_result"
        }
      ],
      "source": [
        "#using series\n",
        "\n",
        "new_student2 = pd.Series(data=['Luke', 22, 78, 65, 90], index=scores_df.columns)\n",
        "\n",
        "scores_df = scores_df.append(new_student2, ignore_index=True)\n",
        "scores_df\n",
        "\n"
      ]
    },
    {
      "cell_type": "markdown",
      "id": "3318fc2c",
      "metadata": {
        "id": "3318fc2c"
      },
      "source": [
        "# Delete index\n"
      ]
    },
    {
      "cell_type": "code",
      "execution_count": null,
      "id": "2687e5fe",
      "metadata": {
        "id": "2687e5fe"
      },
      "outputs": [],
      "source": [
        "scores_df = scores_df.drop(7)"
      ]
    },
    {
      "cell_type": "code",
      "execution_count": null,
      "id": "2f4aa42c",
      "metadata": {
        "id": "2f4aa42c",
        "outputId": "9c5b89a1-967c-4492-c133-491991e8359f"
      },
      "outputs": [
        {
          "data": {
            "text/html": [
              "<div>\n",
              "<style scoped>\n",
              "    .dataframe tbody tr th:only-of-type {\n",
              "        vertical-align: middle;\n",
              "    }\n",
              "\n",
              "    .dataframe tbody tr th {\n",
              "        vertical-align: top;\n",
              "    }\n",
              "\n",
              "    .dataframe thead th {\n",
              "        text-align: right;\n",
              "    }\n",
              "</style>\n",
              "<table border=\"1\" class=\"dataframe\">\n",
              "  <thead>\n",
              "    <tr style=\"text-align: right;\">\n",
              "      <th></th>\n",
              "      <th>Student</th>\n",
              "      <th>Age</th>\n",
              "      <th>Sub1_Score</th>\n",
              "      <th>Sub2_Score</th>\n",
              "      <th>Sub3_Score</th>\n",
              "    </tr>\n",
              "  </thead>\n",
              "  <tbody>\n",
              "    <tr>\n",
              "      <th>0</th>\n",
              "      <td>Tom</td>\n",
              "      <td>23</td>\n",
              "      <td>75</td>\n",
              "      <td>85</td>\n",
              "      <td>85</td>\n",
              "    </tr>\n",
              "    <tr>\n",
              "      <th>1</th>\n",
              "      <td>Katey</td>\n",
              "      <td>23</td>\n",
              "      <td>51</td>\n",
              "      <td>59</td>\n",
              "      <td>84</td>\n",
              "    </tr>\n",
              "    <tr>\n",
              "      <th>2</th>\n",
              "      <td>Mak</td>\n",
              "      <td>22</td>\n",
              "      <td>96</td>\n",
              "      <td>95</td>\n",
              "      <td>40</td>\n",
              "    </tr>\n",
              "    <tr>\n",
              "      <th>3</th>\n",
              "      <td>Bill</td>\n",
              "      <td>22</td>\n",
              "      <td>61</td>\n",
              "      <td>53</td>\n",
              "      <td>40</td>\n",
              "    </tr>\n",
              "    <tr>\n",
              "      <th>4</th>\n",
              "      <td>Tom</td>\n",
              "      <td>22</td>\n",
              "      <td>72</td>\n",
              "      <td>70</td>\n",
              "      <td>58</td>\n",
              "    </tr>\n",
              "    <tr>\n",
              "      <th>5</th>\n",
              "      <td>Rahul</td>\n",
              "      <td>20</td>\n",
              "      <td>50</td>\n",
              "      <td>83</td>\n",
              "      <td>92</td>\n",
              "    </tr>\n",
              "    <tr>\n",
              "      <th>6</th>\n",
              "      <td>Sahil</td>\n",
              "      <td>26</td>\n",
              "      <td>92</td>\n",
              "      <td>82</td>\n",
              "      <td>67</td>\n",
              "    </tr>\n",
              "  </tbody>\n",
              "</table>\n",
              "</div>"
            ],
            "text/plain": [
              "  Student  Age  Sub1_Score  Sub2_Score  Sub3_Score\n",
              "0     Tom   23          75          85          85\n",
              "1   Katey   23          51          59          84\n",
              "2     Mak   22          96          95          40\n",
              "3    Bill   22          61          53          40\n",
              "4     Tom   22          72          70          58\n",
              "5   Rahul   20          50          83          92\n",
              "6   Sahil   26          92          82          67"
            ]
          },
          "execution_count": 101,
          "metadata": {},
          "output_type": "execute_result"
        }
      ],
      "source": [
        "scores_df"
      ]
    },
    {
      "cell_type": "code",
      "execution_count": null,
      "id": "e3bc3348",
      "metadata": {
        "id": "e3bc3348",
        "outputId": "09404c30-bdee-4ee8-b292-bc300cde6852"
      },
      "outputs": [
        {
          "data": {
            "text/html": [
              "<div>\n",
              "<style scoped>\n",
              "    .dataframe tbody tr th:only-of-type {\n",
              "        vertical-align: middle;\n",
              "    }\n",
              "\n",
              "    .dataframe tbody tr th {\n",
              "        vertical-align: top;\n",
              "    }\n",
              "\n",
              "    .dataframe thead th {\n",
              "        text-align: right;\n",
              "    }\n",
              "</style>\n",
              "<table border=\"1\" class=\"dataframe\">\n",
              "  <thead>\n",
              "    <tr style=\"text-align: right;\">\n",
              "      <th></th>\n",
              "      <th>Student</th>\n",
              "      <th>Age</th>\n",
              "      <th>Sub1_Score</th>\n",
              "      <th>Sub2_Score</th>\n",
              "      <th>Sub3_Score</th>\n",
              "    </tr>\n",
              "  </thead>\n",
              "  <tbody>\n",
              "    <tr>\n",
              "      <th>0</th>\n",
              "      <td>Tom</td>\n",
              "      <td>23</td>\n",
              "      <td>75</td>\n",
              "      <td>85</td>\n",
              "      <td>85</td>\n",
              "    </tr>\n",
              "    <tr>\n",
              "      <th>1</th>\n",
              "      <td>Katey</td>\n",
              "      <td>23</td>\n",
              "      <td>51</td>\n",
              "      <td>59</td>\n",
              "      <td>84</td>\n",
              "    </tr>\n",
              "    <tr>\n",
              "      <th>2</th>\n",
              "      <td>Mak</td>\n",
              "      <td>22</td>\n",
              "      <td>96</td>\n",
              "      <td>95</td>\n",
              "      <td>40</td>\n",
              "    </tr>\n",
              "    <tr>\n",
              "      <th>5</th>\n",
              "      <td>Rahul</td>\n",
              "      <td>20</td>\n",
              "      <td>50</td>\n",
              "      <td>83</td>\n",
              "      <td>92</td>\n",
              "    </tr>\n",
              "    <tr>\n",
              "      <th>6</th>\n",
              "      <td>Sahil</td>\n",
              "      <td>26</td>\n",
              "      <td>92</td>\n",
              "      <td>82</td>\n",
              "      <td>67</td>\n",
              "    </tr>\n",
              "  </tbody>\n",
              "</table>\n",
              "</div>"
            ],
            "text/plain": [
              "  Student  Age  Sub1_Score  Sub2_Score  Sub3_Score\n",
              "0     Tom   23          75          85          85\n",
              "1   Katey   23          51          59          84\n",
              "2     Mak   22          96          95          40\n",
              "5   Rahul   20          50          83          92\n",
              "6   Sahil   26          92          82          67"
            ]
          },
          "execution_count": 106,
          "metadata": {},
          "output_type": "execute_result"
        }
      ],
      "source": [
        "scores_df = scores_df.drop(4)\n",
        "scores_df"
      ]
    },
    {
      "cell_type": "code",
      "execution_count": null,
      "id": "ae1cc4a5",
      "metadata": {
        "id": "ae1cc4a5",
        "outputId": "45e0c69f-1c42-43b4-ef8e-74705bd5ca1a"
      },
      "outputs": [
        {
          "data": {
            "text/html": [
              "<div>\n",
              "<style scoped>\n",
              "    .dataframe tbody tr th:only-of-type {\n",
              "        vertical-align: middle;\n",
              "    }\n",
              "\n",
              "    .dataframe tbody tr th {\n",
              "        vertical-align: top;\n",
              "    }\n",
              "\n",
              "    .dataframe thead th {\n",
              "        text-align: right;\n",
              "    }\n",
              "</style>\n",
              "<table border=\"1\" class=\"dataframe\">\n",
              "  <thead>\n",
              "    <tr style=\"text-align: right;\">\n",
              "      <th></th>\n",
              "      <th>Student</th>\n",
              "      <th>Age</th>\n",
              "      <th>Sub1_Score</th>\n",
              "      <th>Sub2_Score</th>\n",
              "      <th>Sub3_Score</th>\n",
              "    </tr>\n",
              "  </thead>\n",
              "  <tbody>\n",
              "    <tr>\n",
              "      <th>0</th>\n",
              "      <td>Tom</td>\n",
              "      <td>23</td>\n",
              "      <td>75</td>\n",
              "      <td>85</td>\n",
              "      <td>85</td>\n",
              "    </tr>\n",
              "    <tr>\n",
              "      <th>1</th>\n",
              "      <td>Katey</td>\n",
              "      <td>23</td>\n",
              "      <td>51</td>\n",
              "      <td>59</td>\n",
              "      <td>84</td>\n",
              "    </tr>\n",
              "    <tr>\n",
              "      <th>2</th>\n",
              "      <td>Mak</td>\n",
              "      <td>22</td>\n",
              "      <td>96</td>\n",
              "      <td>95</td>\n",
              "      <td>40</td>\n",
              "    </tr>\n",
              "    <tr>\n",
              "      <th>3</th>\n",
              "      <td>Rahul</td>\n",
              "      <td>20</td>\n",
              "      <td>50</td>\n",
              "      <td>83</td>\n",
              "      <td>92</td>\n",
              "    </tr>\n",
              "    <tr>\n",
              "      <th>4</th>\n",
              "      <td>Sahil</td>\n",
              "      <td>26</td>\n",
              "      <td>92</td>\n",
              "      <td>82</td>\n",
              "      <td>67</td>\n",
              "    </tr>\n",
              "    <tr>\n",
              "      <th>5</th>\n",
              "      <td>Luke</td>\n",
              "      <td>22</td>\n",
              "      <td>78</td>\n",
              "      <td>65</td>\n",
              "      <td>90</td>\n",
              "    </tr>\n",
              "  </tbody>\n",
              "</table>\n",
              "</div>"
            ],
            "text/plain": [
              "  Student  Age  Sub1_Score  Sub2_Score  Sub3_Score\n",
              "0     Tom   23          75          85          85\n",
              "1   Katey   23          51          59          84\n",
              "2     Mak   22          96          95          40\n",
              "3   Rahul   20          50          83          92\n",
              "4   Sahil   26          92          82          67\n",
              "5    Luke   22          78          65          90"
            ]
          },
          "execution_count": 107,
          "metadata": {},
          "output_type": "execute_result"
        }
      ],
      "source": [
        "\n",
        "\n",
        "new_student2 = pd.Series(data=['Luke', 22, 78, 65, 90], index=scores_df.columns)\n",
        "\n",
        "scores_df = scores_df.append(new_student2, ignore_index=True)\n",
        "scores_df"
      ]
    },
    {
      "cell_type": "markdown",
      "id": "194124d5",
      "metadata": {
        "id": "194124d5"
      },
      "source": [
        "# Drop a Column"
      ]
    },
    {
      "cell_type": "code",
      "execution_count": null,
      "id": "b35b245e",
      "metadata": {
        "id": "b35b245e",
        "outputId": "4a6ca7df-3b93-4aef-a4e1-fdd4c2e3912d"
      },
      "outputs": [
        {
          "data": {
            "text/html": [
              "<div>\n",
              "<style scoped>\n",
              "    .dataframe tbody tr th:only-of-type {\n",
              "        vertical-align: middle;\n",
              "    }\n",
              "\n",
              "    .dataframe tbody tr th {\n",
              "        vertical-align: top;\n",
              "    }\n",
              "\n",
              "    .dataframe thead th {\n",
              "        text-align: right;\n",
              "    }\n",
              "</style>\n",
              "<table border=\"1\" class=\"dataframe\">\n",
              "  <thead>\n",
              "    <tr style=\"text-align: right;\">\n",
              "      <th></th>\n",
              "      <th>Student</th>\n",
              "      <th>Age</th>\n",
              "      <th>Sub1_Score</th>\n",
              "      <th>Sub2_Score</th>\n",
              "    </tr>\n",
              "  </thead>\n",
              "  <tbody>\n",
              "    <tr>\n",
              "      <th>0</th>\n",
              "      <td>Tom</td>\n",
              "      <td>23</td>\n",
              "      <td>75</td>\n",
              "      <td>85</td>\n",
              "    </tr>\n",
              "    <tr>\n",
              "      <th>1</th>\n",
              "      <td>Katey</td>\n",
              "      <td>23</td>\n",
              "      <td>51</td>\n",
              "      <td>59</td>\n",
              "    </tr>\n",
              "    <tr>\n",
              "      <th>2</th>\n",
              "      <td>Mak</td>\n",
              "      <td>22</td>\n",
              "      <td>96</td>\n",
              "      <td>95</td>\n",
              "    </tr>\n",
              "    <tr>\n",
              "      <th>3</th>\n",
              "      <td>Rahul</td>\n",
              "      <td>20</td>\n",
              "      <td>50</td>\n",
              "      <td>83</td>\n",
              "    </tr>\n",
              "    <tr>\n",
              "      <th>4</th>\n",
              "      <td>Sahil</td>\n",
              "      <td>26</td>\n",
              "      <td>92</td>\n",
              "      <td>82</td>\n",
              "    </tr>\n",
              "    <tr>\n",
              "      <th>5</th>\n",
              "      <td>Luke</td>\n",
              "      <td>22</td>\n",
              "      <td>78</td>\n",
              "      <td>65</td>\n",
              "    </tr>\n",
              "  </tbody>\n",
              "</table>\n",
              "</div>"
            ],
            "text/plain": [
              "  Student  Age  Sub1_Score  Sub2_Score\n",
              "0     Tom   23          75          85\n",
              "1   Katey   23          51          59\n",
              "2     Mak   22          96          95\n",
              "3   Rahul   20          50          83\n",
              "4   Sahil   26          92          82\n",
              "5    Luke   22          78          65"
            ]
          },
          "execution_count": 108,
          "metadata": {},
          "output_type": "execute_result"
        }
      ],
      "source": [
        "scores_df = scores_df.drop('Sub3_Score', axis=1)\n",
        "scores_df"
      ]
    },
    {
      "cell_type": "code",
      "execution_count": null,
      "id": "8a9fcbf6",
      "metadata": {
        "id": "8a9fcbf6"
      },
      "outputs": [],
      "source": [
        "del scores_df['Sub2_Score']"
      ]
    },
    {
      "cell_type": "code",
      "execution_count": null,
      "id": "fd43e78c",
      "metadata": {
        "id": "fd43e78c",
        "outputId": "082e657e-d55d-4051-987a-cd1b4a439b7b"
      },
      "outputs": [
        {
          "data": {
            "text/html": [
              "<div>\n",
              "<style scoped>\n",
              "    .dataframe tbody tr th:only-of-type {\n",
              "        vertical-align: middle;\n",
              "    }\n",
              "\n",
              "    .dataframe tbody tr th {\n",
              "        vertical-align: top;\n",
              "    }\n",
              "\n",
              "    .dataframe thead th {\n",
              "        text-align: right;\n",
              "    }\n",
              "</style>\n",
              "<table border=\"1\" class=\"dataframe\">\n",
              "  <thead>\n",
              "    <tr style=\"text-align: right;\">\n",
              "      <th></th>\n",
              "      <th>Student</th>\n",
              "      <th>Age</th>\n",
              "      <th>Sub1_Score</th>\n",
              "    </tr>\n",
              "  </thead>\n",
              "  <tbody>\n",
              "    <tr>\n",
              "      <th>0</th>\n",
              "      <td>Tom</td>\n",
              "      <td>23</td>\n",
              "      <td>75</td>\n",
              "    </tr>\n",
              "    <tr>\n",
              "      <th>1</th>\n",
              "      <td>Katey</td>\n",
              "      <td>23</td>\n",
              "      <td>51</td>\n",
              "    </tr>\n",
              "    <tr>\n",
              "      <th>2</th>\n",
              "      <td>Mak</td>\n",
              "      <td>22</td>\n",
              "      <td>96</td>\n",
              "    </tr>\n",
              "    <tr>\n",
              "      <th>3</th>\n",
              "      <td>Rahul</td>\n",
              "      <td>20</td>\n",
              "      <td>50</td>\n",
              "    </tr>\n",
              "    <tr>\n",
              "      <th>4</th>\n",
              "      <td>Sahil</td>\n",
              "      <td>26</td>\n",
              "      <td>92</td>\n",
              "    </tr>\n",
              "    <tr>\n",
              "      <th>5</th>\n",
              "      <td>Luke</td>\n",
              "      <td>22</td>\n",
              "      <td>78</td>\n",
              "    </tr>\n",
              "  </tbody>\n",
              "</table>\n",
              "</div>"
            ],
            "text/plain": [
              "  Student  Age  Sub1_Score\n",
              "0     Tom   23          75\n",
              "1   Katey   23          51\n",
              "2     Mak   22          96\n",
              "3   Rahul   20          50\n",
              "4   Sahil   26          92\n",
              "5    Luke   22          78"
            ]
          },
          "execution_count": 111,
          "metadata": {},
          "output_type": "execute_result"
        }
      ],
      "source": [
        "scores_df"
      ]
    },
    {
      "cell_type": "markdown",
      "id": "eea3e0be",
      "metadata": {
        "id": "eea3e0be"
      },
      "source": [
        "# Merge Two dataframes"
      ]
    },
    {
      "cell_type": "code",
      "execution_count": null,
      "id": "36226278",
      "metadata": {
        "id": "36226278",
        "outputId": "cdf8e11c-957d-425c-f9f4-9960041d79d8"
      },
      "outputs": [
        {
          "data": {
            "text/html": [
              "<div>\n",
              "<style scoped>\n",
              "    .dataframe tbody tr th:only-of-type {\n",
              "        vertical-align: middle;\n",
              "    }\n",
              "\n",
              "    .dataframe tbody tr th {\n",
              "        vertical-align: top;\n",
              "    }\n",
              "\n",
              "    .dataframe thead th {\n",
              "        text-align: right;\n",
              "    }\n",
              "</style>\n",
              "<table border=\"1\" class=\"dataframe\">\n",
              "  <thead>\n",
              "    <tr style=\"text-align: right;\">\n",
              "      <th></th>\n",
              "      <th>Student</th>\n",
              "      <th>Age</th>\n",
              "      <th>Sub1_Score</th>\n",
              "      <th>Sub2_Score</th>\n",
              "      <th>Sub3_Score</th>\n",
              "    </tr>\n",
              "  </thead>\n",
              "  <tbody>\n",
              "    <tr>\n",
              "      <th>0</th>\n",
              "      <td>Tom</td>\n",
              "      <td>20</td>\n",
              "      <td>87</td>\n",
              "      <td>97</td>\n",
              "      <td>92</td>\n",
              "    </tr>\n",
              "    <tr>\n",
              "      <th>1</th>\n",
              "      <td>Katey</td>\n",
              "      <td>23</td>\n",
              "      <td>67</td>\n",
              "      <td>52</td>\n",
              "      <td>59</td>\n",
              "    </tr>\n",
              "    <tr>\n",
              "      <th>2</th>\n",
              "      <td>Mak</td>\n",
              "      <td>22</td>\n",
              "      <td>62</td>\n",
              "      <td>65</td>\n",
              "      <td>51</td>\n",
              "    </tr>\n",
              "    <tr>\n",
              "      <th>3</th>\n",
              "      <td>Bill</td>\n",
              "      <td>21</td>\n",
              "      <td>47</td>\n",
              "      <td>80</td>\n",
              "      <td>66</td>\n",
              "    </tr>\n",
              "    <tr>\n",
              "      <th>4</th>\n",
              "      <td>Tom</td>\n",
              "      <td>21</td>\n",
              "      <td>90</td>\n",
              "      <td>91</td>\n",
              "      <td>98</td>\n",
              "    </tr>\n",
              "    <tr>\n",
              "      <th>5</th>\n",
              "      <td>Rahul</td>\n",
              "      <td>23</td>\n",
              "      <td>92</td>\n",
              "      <td>58</td>\n",
              "      <td>78</td>\n",
              "    </tr>\n",
              "  </tbody>\n",
              "</table>\n",
              "</div>"
            ],
            "text/plain": [
              "  Student  Age  Sub1_Score  Sub2_Score  Sub3_Score\n",
              "0     Tom   20          87          97          92\n",
              "1   Katey   23          67          52          59\n",
              "2     Mak   22          62          65          51\n",
              "3    Bill   21          47          80          66\n",
              "4     Tom   21          90          91          98\n",
              "5   Rahul   23          92          58          78"
            ]
          },
          "execution_count": 112,
          "metadata": {},
          "output_type": "execute_result"
        }
      ],
      "source": [
        "\n",
        "\n",
        "scores_data = {\"Student\": [\"Tom\", \"Katey\", \"Mak\", \"Bill\", \"Tom\", \"Rahul\"],\n",
        "               \"Age\": np.random.randint(20, 25, size=6),\n",
        "               \"Sub1_Score\": np.random.randint(40, 100, size=6),\n",
        "               \"Sub2_Score\": np.random.randint(40, 100, size=6),\n",
        "               \"Sub3_Score\": np.random.randint(40, 100, size=6)\n",
        "              }\n",
        "\n",
        "scores_df = pd.DataFrame(scores_data)\n",
        "scores_df\n",
        "\n"
      ]
    },
    {
      "cell_type": "code",
      "execution_count": null,
      "id": "0a29eef4",
      "metadata": {
        "id": "0a29eef4",
        "outputId": "db48b431-0e26-4a29-b69a-6e8f8e691400"
      },
      "outputs": [
        {
          "data": {
            "text/html": [
              "<div>\n",
              "<style scoped>\n",
              "    .dataframe tbody tr th:only-of-type {\n",
              "        vertical-align: middle;\n",
              "    }\n",
              "\n",
              "    .dataframe tbody tr th {\n",
              "        vertical-align: top;\n",
              "    }\n",
              "\n",
              "    .dataframe thead th {\n",
              "        text-align: right;\n",
              "    }\n",
              "</style>\n",
              "<table border=\"1\" class=\"dataframe\">\n",
              "  <thead>\n",
              "    <tr style=\"text-align: right;\">\n",
              "      <th></th>\n",
              "      <th>Student</th>\n",
              "      <th>Age</th>\n",
              "      <th>Sub1_Score</th>\n",
              "      <th>Sub2_Score</th>\n",
              "      <th>Sub3_Score</th>\n",
              "    </tr>\n",
              "  </thead>\n",
              "  <tbody>\n",
              "    <tr>\n",
              "      <th>0</th>\n",
              "      <td>Mak</td>\n",
              "      <td>23</td>\n",
              "      <td>68</td>\n",
              "      <td>92</td>\n",
              "      <td>73</td>\n",
              "    </tr>\n",
              "    <tr>\n",
              "      <th>1</th>\n",
              "      <td>Billy</td>\n",
              "      <td>23</td>\n",
              "      <td>66</td>\n",
              "      <td>44</td>\n",
              "      <td>93</td>\n",
              "    </tr>\n",
              "  </tbody>\n",
              "</table>\n",
              "</div>"
            ],
            "text/plain": [
              "  Student  Age  Sub1_Score  Sub2_Score  Sub3_Score\n",
              "0     Mak   23          68          92          73\n",
              "1   Billy   23          66          44          93"
            ]
          },
          "execution_count": 113,
          "metadata": {},
          "output_type": "execute_result"
        }
      ],
      "source": [
        "new_entries = {\"Student\": [\"Mak\", \"Billy\"],\n",
        "               \"Age\": np.random.randint(20, 25, size=2),\n",
        "               \"Sub1_Score\": np.random.randint(40, 100, size=2),\n",
        "               \"Sub2_Score\": np.random.randint(40, 100, size=2),\n",
        "               \"Sub3_Score\": np.random.randint(40, 100, size=2)\n",
        "              }\n",
        "\n",
        "new_df = pd.DataFrame(new_entries)\n",
        "new_df\n"
      ]
    },
    {
      "cell_type": "code",
      "execution_count": null,
      "id": "b4c50e97",
      "metadata": {
        "id": "b4c50e97",
        "outputId": "2cebf205-ec9a-4121-f30c-97c8c0b81f52"
      },
      "outputs": [
        {
          "data": {
            "text/html": [
              "<div>\n",
              "<style scoped>\n",
              "    .dataframe tbody tr th:only-of-type {\n",
              "        vertical-align: middle;\n",
              "    }\n",
              "\n",
              "    .dataframe tbody tr th {\n",
              "        vertical-align: top;\n",
              "    }\n",
              "\n",
              "    .dataframe thead th {\n",
              "        text-align: right;\n",
              "    }\n",
              "</style>\n",
              "<table border=\"1\" class=\"dataframe\">\n",
              "  <thead>\n",
              "    <tr style=\"text-align: right;\">\n",
              "      <th></th>\n",
              "      <th>Student</th>\n",
              "      <th>Age</th>\n",
              "      <th>Sub1_Score</th>\n",
              "      <th>Sub2_Score</th>\n",
              "      <th>Sub3_Score</th>\n",
              "    </tr>\n",
              "  </thead>\n",
              "  <tbody>\n",
              "    <tr>\n",
              "      <th>0</th>\n",
              "      <td>Tom</td>\n",
              "      <td>20</td>\n",
              "      <td>87</td>\n",
              "      <td>97</td>\n",
              "      <td>92</td>\n",
              "    </tr>\n",
              "    <tr>\n",
              "      <th>1</th>\n",
              "      <td>Katey</td>\n",
              "      <td>23</td>\n",
              "      <td>67</td>\n",
              "      <td>52</td>\n",
              "      <td>59</td>\n",
              "    </tr>\n",
              "    <tr>\n",
              "      <th>2</th>\n",
              "      <td>Mak</td>\n",
              "      <td>22</td>\n",
              "      <td>62</td>\n",
              "      <td>65</td>\n",
              "      <td>51</td>\n",
              "    </tr>\n",
              "    <tr>\n",
              "      <th>3</th>\n",
              "      <td>Bill</td>\n",
              "      <td>21</td>\n",
              "      <td>47</td>\n",
              "      <td>80</td>\n",
              "      <td>66</td>\n",
              "    </tr>\n",
              "    <tr>\n",
              "      <th>4</th>\n",
              "      <td>Tom</td>\n",
              "      <td>21</td>\n",
              "      <td>90</td>\n",
              "      <td>91</td>\n",
              "      <td>98</td>\n",
              "    </tr>\n",
              "    <tr>\n",
              "      <th>5</th>\n",
              "      <td>Rahul</td>\n",
              "      <td>23</td>\n",
              "      <td>92</td>\n",
              "      <td>58</td>\n",
              "      <td>78</td>\n",
              "    </tr>\n",
              "    <tr>\n",
              "      <th>6</th>\n",
              "      <td>Mak</td>\n",
              "      <td>23</td>\n",
              "      <td>68</td>\n",
              "      <td>92</td>\n",
              "      <td>73</td>\n",
              "    </tr>\n",
              "    <tr>\n",
              "      <th>7</th>\n",
              "      <td>Billy</td>\n",
              "      <td>23</td>\n",
              "      <td>66</td>\n",
              "      <td>44</td>\n",
              "      <td>93</td>\n",
              "    </tr>\n",
              "  </tbody>\n",
              "</table>\n",
              "</div>"
            ],
            "text/plain": [
              "  Student  Age  Sub1_Score  Sub2_Score  Sub3_Score\n",
              "0     Tom   20          87          97          92\n",
              "1   Katey   23          67          52          59\n",
              "2     Mak   22          62          65          51\n",
              "3    Bill   21          47          80          66\n",
              "4     Tom   21          90          91          98\n",
              "5   Rahul   23          92          58          78\n",
              "6     Mak   23          68          92          73\n",
              "7   Billy   23          66          44          93"
            ]
          },
          "execution_count": 114,
          "metadata": {},
          "output_type": "execute_result"
        }
      ],
      "source": [
        "concat_df = pd.concat([scores_df, new_df], ignore_index=True)\n",
        "concat_df"
      ]
    },
    {
      "cell_type": "code",
      "execution_count": null,
      "id": "36b45284",
      "metadata": {
        "id": "36b45284"
      },
      "outputs": [],
      "source": [
        ""
      ]
    }
  ],
  "metadata": {
    "kernelspec": {
      "display_name": "Python 3",
      "language": "python",
      "name": "python3"
    },
    "language_info": {
      "codemirror_mode": {
        "name": "ipython",
        "version": 3
      },
      "file_extension": ".py",
      "mimetype": "text/x-python",
      "name": "python",
      "nbconvert_exporter": "python",
      "pygments_lexer": "ipython3",
      "version": "3.8.8"
    },
    "colab": {
      "name": "PythonPanda1.ipynb",
      "provenance": [],
      "include_colab_link": true
    }
  },
  "nbformat": 4,
  "nbformat_minor": 5
}